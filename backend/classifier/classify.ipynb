{
 "cells": [
  {
   "cell_type": "code",
   "execution_count": 1,
   "metadata": {
    "pycharm": {
     "name": "#%%\n"
    }
   },
   "outputs": [],
   "source": [
    "import numpy as np\n",
    "import tensorflow as tf\n",
    "from tensorflow.keras import layers\n",
    "from tensorflow.keras import losses\n",
    "from tensorflow.keras import preprocessing\n",
    "from tensorflow.keras.layers.experimental.preprocessing import TextVectorization\n",
    "import os\n",
    "os.environ['CUDA_VISIBLE_DEVICES'] = '-1'\n"
   ]
  },
  {
   "cell_type": "code",
   "execution_count": 2,
   "metadata": {
    "pycharm": {
     "name": "#%%\n"
    }
   },
   "outputs": [],
   "source": [
    "import matplotlib.pyplot as plt\n",
    "\n",
    "\n",
    "def plot_graphs(history, metric):\n",
    "    plt.plot(history.history[metric])\n",
    "    plt.plot(history.history['val_'+metric], '')\n",
    "    plt.xlabel(\"Epochs\")\n",
    "    plt.ylabel(metric)\n",
    "    plt.legend([metric, 'val_'+metric])"
   ]
  },
  {
   "cell_type": "code",
   "execution_count": 3,
   "metadata": {
    "pycharm": {
     "name": "#%%\n"
    }
   },
   "outputs": [],
   "source": [
    "dataset_dir = '..\\\\data'\n",
    "train_dir = f\"{dataset_dir}\\\\train\"\n",
    "test_dir = f\"{dataset_dir}\\\\test\"\n",
    "# train_dir = f\"{dataset_dir}\\\\tr\"\n",
    "# test_dir = f\"{dataset_dir}\\\\t\"\n",
    "batch_size = 32\n",
    "seed = 42"
   ]
  },
  {
   "cell_type": "code",
   "execution_count": 4,
   "metadata": {
    "pycharm": {
     "name": "#%%\n"
    }
   },
   "outputs": [
    {
     "name": "stdout",
     "output_type": "stream",
     "text": [
      "Found 13567 files belonging to 3 classes.\n",
      "Using 10854 files for training.\n",
      "Found 13433 files belonging to 3 classes.\n"
     ]
    }
   ],
   "source": [
    "train_dataset = preprocessing.text_dataset_from_directory(\n",
    "    train_dir,\n",
    "    batch_size=batch_size,\n",
    "    validation_split=0.2,\n",
    "    subset='training',\n",
    "    seed=seed)\n",
    "\n",
    "test_dataset = preprocessing.text_dataset_from_directory(\n",
    "    test_dir, batch_size=batch_size)"
   ]
  },
  {
   "cell_type": "code",
   "execution_count": 5,
   "metadata": {
    "pycharm": {
     "name": "#%%\n"
    }
   },
   "outputs": [
    {
     "name": "stdout",
     "output_type": "stream",
     "text": [
      "Sentence:  b'S.V.S tuumaat ajatuksesta.??'\n",
      "Label: 1\n",
      "Sentence:  b'Multa ainaskii mukavia unijukan kuvia kaikille:)))'\n",
      "Label: 2\n",
      "Sentence:  b'Jauhoista ei puhuttu mit\\xc3\\xa4\\xc3\\xa4n, mutta se nyt oli taas sivuseikka.........'\n",
      "Label: 1\n",
      "Sentence:  b'suht tuore leffa..'\n",
      "Label: 1\n",
      "Sentence:  b'Kovin on suppea sanavarastosikin; \"sommiporo\", \"Buahhahhaahaaa\" jne.'\n",
      "Label: 0\n",
      "Sentence:  b'Toinen kaste, toinen henki'\n",
      "Label: 1\n",
      "Sentence:  b'Siihen asti, tutustukaa paikkoihin ja nauttikaa olostanne!'\n",
      "Label: 2\n",
      "Sentence:  b'Ja voiko n\\xc3\\xa4pp\\xc3\\xa4imist\\xc3\\xb6\\xc3\\xa4 k\\xc3\\xa4ytt\\xc3\\xa4\\xc3\\xa4 pelien pelaamiseen?'\n",
      "Label: 1\n",
      "Sentence:  b'Suosittelen Artiklan kursseja l\\xc3\\xa4mpim\\xc3\\xa4sti! :)'\n",
      "Label: 2\n",
      "Sentence:  b'Kiitos viel\\xc3\\xa4 ehdin muuttaa tiettyyn hotelliin..'\n",
      "Label: 2\n"
     ]
    }
   ],
   "source": [
    "for text_batch, label_batch in train_dataset.take(1):\n",
    "    for i in range(10):\n",
    "        print(\"Sentence: \", text_batch.numpy()[i])\n",
    "        print(\"Label:\", label_batch.numpy()[i])\n",
    "example = train_dataset.take(1)"
   ]
  },
  {
   "cell_type": "code",
   "execution_count": 6,
   "metadata": {},
   "outputs": [
    {
     "name": "stdout",
     "output_type": "stream",
     "text": [
      "Sentence:  [b'JA huom!'\n",
      " b'Ilmiantokulttuuri kaikessa vastenmielisyydess\\xc3\\xa4\\xc3\\xa4n on t\\xc3\\xb6rke\\xc3\\xa4t\\xc3\\xa4 riippumatta aiheesta.'\n",
      " b'Tavallisesti k\\xc3\\xa4ytetyiss\\xc3\\xa4 valaistuksissa, alle 300\\xe2\\x80\\x93500 lx, l\\xc3\\xa4mpim\\xc3\\xa4t s\\xc3\\xa4vyt koetaan luonteviksi.']\n",
      "Label: [1 0 1]\n"
     ]
    }
   ],
   "source": [
    "for text_batch, label_batch in train_dataset.take(1):\n",
    "    print(\"Sentence: \", text_batch.numpy()[:3])\n",
    "    print(\"Label:\", label_batch.numpy()[:3])"
   ]
  },
  {
   "cell_type": "code",
   "execution_count": 7,
   "metadata": {
    "pycharm": {
     "name": "#%%\n"
    }
   },
   "outputs": [
    {
     "name": "stdout",
     "output_type": "stream",
     "text": [
      "Label 0 corresponds to neg\n",
      "Label 1 corresponds to neut\n",
      "Label 2 corresponds to pos\n"
     ]
    }
   ],
   "source": [
    "for i, label in enumerate(train_dataset.class_names):\n",
    "    print(\"Label\", i, \"corresponds to\", label)"
   ]
  },
  {
   "cell_type": "code",
   "execution_count": 21,
   "metadata": {
    "pycharm": {
     "name": "#%%\n"
    }
   },
   "outputs": [
    {
     "name": "stdout",
     "output_type": "stream",
     "text": [
      "Sentence:  b'olen vain k\\xc3\\xa4ynyt sy\\xc3\\xb6m\\xc3\\xa4ss\\xc3\\xa4'\n",
      "Label: 1\n",
      "Sentence:  b'Takuuasioissa asiakas j\\xc3\\xa4\\xc3\\xa4 aina toiseksi, kun kyseess\\xc3\\xa4 ei ole kotimainen myyj\\xc3\\xa4.'\n",
      "Label: 1\n"
     ]
    }
   ],
   "source": [
    "VOCAB_SIZE = 20000\n",
    "encoder = TextVectorization(max_tokens=VOCAB_SIZE)\n",
    "encoder.adapt(train_dataset.map(lambda text, label: text))\n",
    "for text_batch, label_batch in train_dataset.take(1):\n",
    "    for i in range(2):\n",
    "        print(\"Sentence: \", text_batch.numpy()[i])\n",
    "        print(\"Label:\", label_batch.numpy()[i])"
   ]
  },
  {
   "cell_type": "code",
   "execution_count": 22,
   "metadata": {
    "pycharm": {
     "name": "#%%\n"
    }
   },
   "outputs": [
    {
     "name": "stdout",
     "output_type": "stream",
     "text": [
      "['' '[UNK]' 'ja' 'on' 'ei' 'että' 'se' 'kun' 'niin' 'mutta' 'jos' 'ole'\n",
      " 'en' 'tai' 'olen' 'voi' 'kuin' 'nyt' 'oli' 'sen']\n"
     ]
    }
   ],
   "source": [
    "vocab = np.array(encoder.get_vocabulary())\n",
    "print(vocab[:20])"
   ]
  },
  {
   "cell_type": "code",
   "execution_count": 23,
   "metadata": {
    "pycharm": {
     "name": "#%%\n"
    }
   },
   "outputs": [
    {
     "name": "stdout",
     "output_type": "stream",
     "text": [
      "[[  405 11646     7 12018     3 17960  1291     1  3755    92   112    16\n",
      "  18134     0     0     0     0     0     0     0     0     0     0     0\n",
      "      0     0]\n",
      " [   54     1     1     0     0     0     0     0     0     0     0     0\n",
      "      0     0     0     0     0     0     0     0     0     0     0     0\n",
      "      0     0]\n",
      " [  911    96 17082  8468     1   235     0     0     0     0     0     0\n",
      "      0     0     0     0     0     0     0     0     0     0     0     0\n",
      "      0     0]]\n",
      "Original:  b'Samoin univelka, kun ty\\xc3\\xb6ss\\xc3\\xa4k\\xc3\\xa4yvill\\xc3\\xa4 on puurrettava vapaa- aikakin saadakseen v\\xc3\\xa4h\\xc3\\xa4n enemm\\xc3\\xa4n kuin pummit.'\n",
      "Round-trip:  samoin univelka kun työssäkäyvillä on puurrettava vapaa [UNK] saadakseen vähän enemmän kuin pummit             \n",
      "\n",
      "Original:  b'Eik\\xc3\\xa4 opetuslapsiakaan kastettu !'\n",
      "Round-trip:  eikä [UNK] [UNK]                       \n",
      "\n",
      "Original:  b'Sin\\xc3\\xa4kin (mies) rienn\\xc3\\xa4t ajatuksiini luvattoman usein.'\n",
      "Round-trip:  sinäkin mies riennät ajatuksiini [UNK] usein                    \n",
      "\n"
     ]
    }
   ],
   "source": [
    "for text_batch, label_batch in train_dataset.take(1):\n",
    "    encoded_example = encoder(text_batch)[:3].numpy()\n",
    "    print(encoded_example)\n",
    "    for n in range(3):\n",
    "        print(\"Original: \", text_batch[n].numpy())\n",
    "        print(\"Round-trip: \", \" \".join(vocab[encoded_example[n]]))\n",
    "        print()"
   ]
  },
  {
   "cell_type": "code",
   "execution_count": 24,
   "metadata": {
    "pycharm": {
     "name": "#%%\n"
    }
   },
   "outputs": [
    {
     "name": "stdout",
     "output_type": "stream",
     "text": [
      "[False, True, True, True, True, True, True]\n"
     ]
    }
   ],
   "source": [
    "model = tf.keras.Sequential([\n",
    "    encoder,\n",
    "    tf.keras.layers.Embedding(len(encoder.get_vocabulary()), 64, mask_zero=True),\n",
    "    tf.keras.layers.Bidirectional(tf.keras.layers.LSTM(64,  return_sequences=True)),\n",
    "    tf.keras.layers.Bidirectional(tf.keras.layers.LSTM(32)),\n",
    "    tf.keras.layers.Dense(64, activation='relu'),\n",
    "    tf.keras.layers.Dropout(0.5),\n",
    "    tf.keras.layers.Dense(3)\n",
    "])\n",
    "print([layer.supports_masking for layer in model.layers])"
   ]
  },
  {
   "cell_type": "code",
   "execution_count": 25,
   "metadata": {},
   "outputs": [
    {
     "name": "stdout",
     "output_type": "stream",
     "text": [
      "[-0.00078716  0.00855025  0.00722368]\n"
     ]
    }
   ],
   "source": [
    "sample_text = \"\"\"\n",
    "Kyllä nelivetoinen on huonolla kelillä vakaampi ajaa kuin kaksivetoinen. \n",
    "on helvetin hyvä ajettava niin kuivalla kuin liukkallakin kelillä. Saattaahan neliveto olla parempi, mutta takavetosella on pärjätty, ja pärjätään, tosi hyvin. Itse en kaipaa nelivetoa, mutta jos joku tuntee olonsa turvallisemmaksi niin siitä vaan! \n",
    "mitähän mahdat tarkoittaa tolla vakaampi ajaa?? suurin merkitys on kyllä itse autolla vrt. paska/keskinkertainen neliveto vs hyvä etuveto. Ei esim audin nelivedot mitenkään ajettavuudella loista muiden yläpuolella. \n",
    "\"\"\"\n",
    "predictions = model.predict(np.array([sample_text]))\n",
    "print(predictions[0])"
   ]
  },
  {
   "cell_type": "code",
   "execution_count": 26,
   "metadata": {},
   "outputs": [
    {
     "name": "stdout",
     "output_type": "stream",
     "text": [
      "[-0.00078717  0.00855025  0.00722368]\n"
     ]
    }
   ],
   "source": [
    "padding = \"the \" * 2000\n",
    "predictions = model.predict(np.array([sample_text, padding]))\n",
    "print(predictions[0])"
   ]
  },
  {
   "cell_type": "code",
   "execution_count": 27,
   "metadata": {
    "pycharm": {
     "name": "#%%\n"
    }
   },
   "outputs": [],
   "source": [
    "model.compile(loss=tf.keras.losses.SparseCategoricalCrossentropy(from_logits=True),\n",
    "              optimizer=tf.keras.optimizers.Adam(1e-4),\n",
    "              metrics=['accuracy'])"
   ]
  },
  {
   "cell_type": "code",
   "execution_count": null,
   "metadata": {
    "pycharm": {
     "name": "#%%\n"
    }
   },
   "outputs": [
    {
     "name": "stdout",
     "output_type": "stream",
     "text": [
      "Epoch 1/15\n",
      "340/340 [==============================] - 53s 95ms/step - loss: 0.8866 - accuracy: 0.7251 - val_loss: 0.7856 - val_accuracy: 0.7417\n",
      "Epoch 2/15\n",
      "340/340 [==============================] - 30s 87ms/step - loss: 0.7779 - accuracy: 0.7315 - val_loss: 0.7635 - val_accuracy: 0.7323\n",
      "Epoch 3/15\n",
      "340/340 [==============================] - 28s 81ms/step - loss: 0.7023 - accuracy: 0.7434 - val_loss: 0.7312 - val_accuracy: 0.7646\n",
      "Epoch 4/15\n",
      "340/340 [==============================] - 27s 78ms/step - loss: 0.5450 - accuracy: 0.7910 - val_loss: 0.7817 - val_accuracy: 0.7458\n",
      "Epoch 5/15\n",
      "340/340 [==============================] - 27s 81ms/step - loss: 0.4200 - accuracy: 0.8418 - val_loss: 0.9852 - val_accuracy: 0.6990\n",
      "Epoch 6/15\n",
      "340/340 [==============================] - 29s 84ms/step - loss: 0.3290 - accuracy: 0.8843 - val_loss: 1.1759 - val_accuracy: 0.6938\n",
      "Epoch 7/15\n",
      "340/340 [==============================] - 32s 95ms/step - loss: 0.2611 - accuracy: 0.9180 - val_loss: 1.4939 - val_accuracy: 0.6750\n",
      "Epoch 8/15\n",
      "340/340 [==============================] - 37s 108ms/step - loss: 0.2180 - accuracy: 0.9350 - val_loss: 1.6834 - val_accuracy: 0.6594\n",
      "Epoch 9/15\n",
      "340/340 [==============================] - 28s 81ms/step - loss: 0.1859 - accuracy: 0.9469 - val_loss: 1.8715 - val_accuracy: 0.6792\n",
      "Epoch 10/15\n",
      "340/340 [==============================] - 27s 79ms/step - loss: 0.1572 - accuracy: 0.9571 - val_loss: 2.0339 - val_accuracy: 0.6802\n",
      "Epoch 11/15\n",
      "340/340 [==============================] - 26s 75ms/step - loss: 0.1414 - accuracy: 0.9610 - val_loss: 2.1453 - val_accuracy: 0.6802\n",
      "Epoch 12/15\n",
      "340/340 [==============================] - 28s 81ms/step - loss: 0.1271 - accuracy: 0.9665 - val_loss: 2.3310 - val_accuracy: 0.7031\n",
      "Epoch 13/15\n",
      "340/340 [==============================] - 28s 81ms/step - loss: 0.1195 - accuracy: 0.9677 - val_loss: 2.3613 - val_accuracy: 0.6938\n",
      "Epoch 14/15\n",
      "193/340 [================>.............] - ETA: 11s - loss: 0.1148 - accuracy: 0.9691"
     ]
    }
   ],
   "source": [
    "history = model.fit(train_dataset, epochs=15,\n",
    "                    validation_data=test_dataset,\n",
    "                    validation_steps=30)"
   ]
  },
  {
   "cell_type": "code",
   "execution_count": 16,
   "metadata": {
    "pycharm": {
     "name": "#%%\n"
    }
   },
   "outputs": [
    {
     "name": "stdout",
     "output_type": "stream",
     "text": [
      "420/420 [==============================] - 10s 23ms/step - loss: 0.7157 - accuracy: 0.75621s -\n",
      "Test Loss: 0.7157343029975891\n",
      "Test Accuracy: 0.756197452545166\n"
     ]
    }
   ],
   "source": [
    "test_loss, test_acc = model.evaluate(test_dataset)\n",
    "\n",
    "print('Test Loss:', test_loss)\n",
    "print('Test Accuracy:', test_acc)"
   ]
  },
  {
   "cell_type": "code",
   "execution_count": 17,
   "metadata": {
    "pycharm": {
     "name": "#%%\n"
    }
   },
   "outputs": [
    {
     "data": {
      "image/png": "[encoded data removed]",
      "text/plain": [
       "<Figure size 1152x432 with 2 Axes>"
      ]
     },
     "metadata": {
      "needs_background": "light"
     },
     "output_type": "display_data"
    }
   ],
   "source": [
    "plt.figure(figsize=(16, 6))\n",
    "plt.subplot(1, 2, 1)\n",
    "plot_graphs(history, 'accuracy')\n",
    "plt.subplot(1, 2, 2)\n",
    "plot_graphs(history, 'loss')"
   ]
  }
 ],
 "metadata": {
  "kernelspec": {
   "display_name": "Python 3",
   "language": "python",
   "name": "python3"
  },
  "language_info": {
   "codemirror_mode": {
    "name": "ipython",
    "version": 3
   },
   "file_extension": ".py",
   "mimetype": "text/x-python",
   "name": "python",
   "nbconvert_exporter": "python",
   "pygments_lexer": "ipython3",
   "version": "3.7.10"
  }
 },
 "nbformat": 4,
 "nbformat_minor": 4
}
