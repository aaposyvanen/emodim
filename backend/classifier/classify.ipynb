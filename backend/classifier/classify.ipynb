{
 "cells": [
  {
   "cell_type": "code",
   "execution_count": 1,
   "metadata": {
    "pycharm": {
     "name": "#%%\n"
    },
    "tags": []
   },
   "outputs": [],
   "source": [
    "import collections\n",
    "import numpy as np\n",
    "from datetime import datetime\n",
    "import tensorflow as tf\n",
    "from tensorflow.keras import layers\n",
    "from tensorflow.keras import losses\n",
    "from tensorflow.keras import preprocessing\n",
    "from tensorflow.keras import utils\n",
    "from tensorflow.keras import regularizers\n",
    "from tensorflow.keras import optimizers\n",
    "from tensorflow.keras import callbacks\n",
    "import tensorflow_text as tf_text\n",
    "\n",
    "from tensorflow.keras.layers.experimental.preprocessing import TextVectorization\n",
    "import os\n",
    "# os.environ['CUDA_VISIBLE_DEVICES'] = '-1'"
   ]
  },
  {
   "cell_type": "code",
   "execution_count": 2,
   "metadata": {
    "pycharm": {
     "name": "#%%\n"
    }
   },
   "outputs": [],
   "source": [
    "import matplotlib.pyplot as plt\n",
    "\n",
    "\n",
    "def plot_graphs(history, metric):\n",
    "    plt.plot(history.history[metric])\n",
    "    plt.plot(history.history['val_' + metric], '')\n",
    "    plt.xlabel(\"Epochs\")\n",
    "    plt.ylabel(metric)\n",
    "    plt.legend([metric, 'val_' + metric])"
   ]
  },
  {
   "cell_type": "code",
   "execution_count": 3,
   "metadata": {
    "pycharm": {
     "name": "#%%\n"
    }
   },
   "outputs": [],
   "source": [
    "dataset_dir = '..\\\\data'\n",
    "train_dir = f\"{dataset_dir}\\\\tr\"\n",
    "batch_size = 32\n",
    "seed = 42\n",
    "time = datetime.now().strftime(\"%d-%m-%Y_%H-%M-%S\")"
   ]
  },
  {
   "cell_type": "code",
   "execution_count": 4,
   "metadata": {},
   "outputs": [],
   "source": [
    "def labeler(example, index):\n",
    "    return example, tf.cast(index, tf.int64)"
   ]
  },
  {
   "cell_type": "code",
   "execution_count": 5,
   "metadata": {},
   "outputs": [
    {
     "data": {
      "text/plain": [
       "'for file_name in FILE_NAMES2:\\n    lines_dataset = tf.data.TextLineDataset(f\"{train_dir}\\\\{file_name}\")\\n    labeled_dataset = lines_dataset.map(lambda ex: labeler(ex, 0))\\n    labeled_data_sets.append(labeled_dataset)\\nfor file_name in FILE_NAMES3:\\n    lines_dataset = tf.data.TextLineDataset(f\"{train_dir}\\\\{file_name}\")\\n    labeled_dataset = lines_dataset.map(lambda ex: labeler(ex, 2))\\n    labeled_data_sets.append(labeled_dataset)\\n'"
      ]
     },
     "execution_count": 5,
     "metadata": {},
     "output_type": "execute_result"
    }
   ],
   "source": [
    "\"\"\"FILE_NAMES = ['negativesentences.txt', 'neutralsentences.txt', 'positivesentences.txt']\n",
    "FILE_NAMES2 = ['negative_valence_sentences.txt', 'neg.txt', 'neg_test.txt']\n",
    "FILE_NAMES3 = ['pos.txt', 'pos_test.txt']\"\"\"\n",
    "FILE_NAMES = ['combinedneg.txt', 'combinedneut.txt', 'combinedpos.txt']\n",
    "labeled_data_sets = []\n",
    "# Give labels to the data, 0 for negatives, 1 for neutrals, 2 for positives.\n",
    "for i, file_name in enumerate(FILE_NAMES):\n",
    "    lines_dataset = tf.data.TextLineDataset(f\"{train_dir}\\\\{file_name}\")\n",
    "    labeled_dataset = lines_dataset.map(lambda ex: labeler(ex, i))\n",
    "    labeled_data_sets.append(labeled_dataset)\n",
    "\"\"\"for file_name in FILE_NAMES2:\n",
    "    lines_dataset = tf.data.TextLineDataset(f\"{train_dir}\\\\{file_name}\")\n",
    "    labeled_dataset = lines_dataset.map(lambda ex: labeler(ex, 0))\n",
    "    labeled_data_sets.append(labeled_dataset)\n",
    "for file_name in FILE_NAMES3:\n",
    "    lines_dataset = tf.data.TextLineDataset(f\"{train_dir}\\\\{file_name}\")\n",
    "    labeled_dataset = lines_dataset.map(lambda ex: labeler(ex, 2))\n",
    "    labeled_data_sets.append(labeled_dataset)\n",
    "\"\"\""
   ]
  },
  {
   "cell_type": "code",
   "execution_count": 6,
   "metadata": {},
   "outputs": [
    {
     "data": {
      "text/plain": [
       "'labeled_data_sets = []\\n# Give labels to the data, 0 for negatives, 1 for neutrals, 2 for positives.\\nlines_dataset = tf.data.TextLineDataset(f\"{train_dir}\\\\tmp0.txt\")\\nlabeled_dataset = lines_dataset.map(lambda ex: labeler(ex, 0))\\nlabeled_data_sets.append(labeled_dataset)\\nlines_dataset = tf.data.TextLineDataset(f\"{train_dir}\\\\tmp1.txt\")\\nlabeled_dataset = lines_dataset.map(lambda ex: labeler(ex, 1))\\nlabeled_data_sets.append(labeled_dataset)\\nlines_dataset = tf.data.TextLineDataset(f\"{train_dir}\\\\tmp2.txt\")\\nlabeled_dataset = lines_dataset.map(lambda ex: labeler(ex, 2))\\nlabeled_data_sets.append(labeled_dataset)'"
      ]
     },
     "execution_count": 6,
     "metadata": {},
     "output_type": "execute_result"
    }
   ],
   "source": [
    "\"\"\"labeled_data_sets = []\n",
    "# Give labels to the data, 0 for negatives, 1 for neutrals, 2 for positives.\n",
    "lines_dataset = tf.data.TextLineDataset(f\"{train_dir}\\\\tmp0.txt\")\n",
    "labeled_dataset = lines_dataset.map(lambda ex: labeler(ex, 0))\n",
    "labeled_data_sets.append(labeled_dataset)\n",
    "lines_dataset = tf.data.TextLineDataset(f\"{train_dir}\\\\tmp1.txt\")\n",
    "labeled_dataset = lines_dataset.map(lambda ex: labeler(ex, 1))\n",
    "labeled_data_sets.append(labeled_dataset)\n",
    "lines_dataset = tf.data.TextLineDataset(f\"{train_dir}\\\\tmp2.txt\")\n",
    "labeled_dataset = lines_dataset.map(lambda ex: labeler(ex, 2))\n",
    "labeled_data_sets.append(labeled_dataset)\"\"\""
   ]
  },
  {
   "cell_type": "code",
   "execution_count": 7,
   "metadata": {},
   "outputs": [],
   "source": [
    "BUFFER_SIZE = 50000\n",
    "BATCH_SIZE = 32\n",
    "VALIDATION_SIZE = 300\n",
    "VOCAB_SIZE = 35000"
   ]
  },
  {
   "cell_type": "code",
   "execution_count": 8,
   "metadata": {},
   "outputs": [],
   "source": [
    "# concatenate all labeled datasets into one and shuffle\n",
    "all_labeled_data = labeled_data_sets[0]\n",
    "for labeled_dataset in labeled_data_sets[1:]:\n",
    "    all_labeled_data = all_labeled_data.concatenate(labeled_dataset)\n",
    "all_labeled_data = all_labeled_data.shuffle(\n",
    "    BUFFER_SIZE, reshuffle_each_iteration=False)"
   ]
  },
  {
   "cell_type": "code",
   "execution_count": 9,
   "metadata": {},
   "outputs": [
    {
     "name": "stdout",
     "output_type": "stream",
     "text": [
      "Labels are 0 = negative, 1 = neutral, 2 = positive.\n",
      "\n",
      "Sentence:  b'alkuper\\xc3\\xa4iselle kirjoittajalle: \\xc3\\xa4l\\xc3\\xa4 sure.'\n",
      "Label: 1\n",
      "Sentence:  b'se on meid\\xc3\\xa4n lempilaulumme.'\n",
      "Label: 2\n",
      "Sentence:  b'kyll\\xc3\\xa4 aamiaislehdest\\xc3\\xa4 eroon p\\xc3\\xa4\\xc3\\xa4see.'\n",
      "Label: 1\n",
      "Sentence:  b'mies ei halua loukata ket\\xc3\\xa4\\xc3\\xa4n.'\n",
      "Label: 2\n",
      "Sentence:  b'h\\xc3\\xa4nen piti olla sinun kanssasi.'\n",
      "Label: 0\n",
      "Sentence:  b'ei kannata uskoa kaikkea paskaa mit\\xc3\\xa4 jutuupista l\\xc3\\xb6yt\\xc3\\xa4\\xc3\\xa4.'\n",
      "Label: 0\n",
      "Sentence:  b'mary pat, mary kate, mary frances, vauhtia!'\n",
      "Label: 0\n",
      "Sentence:  b'koko el\\xc3\\xa4m\\xc3\\xa4ni on ollut kilpailua sek\\xc3\\xa4 kilparadalla ett\\xc3\\xa4 t\\xc3\\xb6iss\\xc3\\xa4.'\n",
      "Label: 0\n",
      "Sentence:  b'foo-fookin sanoo heippa!'\n",
      "Label: 2\n",
      "Sentence:  b'oletko luuseri vai kova luu? :d'\n",
      "Label: 2\n"
     ]
    }
   ],
   "source": [
    "print('Labels are 0 = negative, 1 = neutral, 2 = positive.\\n')\n",
    "for text, label in all_labeled_data.take(10):\n",
    "    print(\"Sentence: \", text.numpy())\n",
    "    print(\"Label:\", label.numpy())"
   ]
  },
  {
   "cell_type": "code",
   "execution_count": 10,
   "metadata": {},
   "outputs": [],
   "source": [
    "tokenizer = tf_text.UnicodeScriptTokenizer()"
   ]
  },
  {
   "cell_type": "code",
   "execution_count": 11,
   "metadata": {},
   "outputs": [
    {
     "name": "stdout",
     "output_type": "stream",
     "text": [
      "WARNING:tensorflow:From C:\\Users\\aapos\\AppData\\Roaming\\Python\\Python37\\site-packages\\tensorflow\\python\\util\\dispatch.py:206: batch_gather (from tensorflow.python.ops.array_ops) is deprecated and will be removed after 2017-10-25.\n",
      "Instructions for updating:\n",
      "`tf.batch_gather` is deprecated, please use `tf.gather` with `batch_dims=-1` instead.\n"
     ]
    }
   ],
   "source": [
    "def tokenize(text, unused_label):\n",
    "    lower_case = tf_text.case_fold_utf8(text)\n",
    "    return tokenizer.tokenize(lower_case)\n",
    "\n",
    "tokenized_ds = all_labeled_data.map(tokenize)"
   ]
  },
  {
   "cell_type": "code",
   "execution_count": 12,
   "metadata": {},
   "outputs": [
    {
     "name": "stdout",
     "output_type": "stream",
     "text": [
      "Tokens:  [b'alkuper\\xc3\\xa4iselle' b'kirjoittajalle' b':' b'\\xc3\\xa4l\\xc3\\xa4'\n",
      " b'sure' b'.']\n",
      "Tokens:  [b'se' b'on' b'meid\\xc3\\xa4n' b'lempilaulumme' b'.']\n",
      "Tokens:  [b'kyll\\xc3\\xa4' b'aamiaislehdest\\xc3\\xa4' b'eroon'\n",
      " b'p\\xc3\\xa4\\xc3\\xa4see' b'.']\n",
      "Tokens:  [b'mies' b'ei' b'halua' b'loukata' b'ket\\xc3\\xa4\\xc3\\xa4n' b'.']\n",
      "Tokens:  [b'h\\xc3\\xa4nen' b'piti' b'olla' b'sinun' b'kanssasi' b'.']\n"
     ]
    }
   ],
   "source": [
    "for text_batch in tokenized_ds.take(5):\n",
    "    print(\"Tokens: \", text_batch.numpy())"
   ]
  },
  {
   "cell_type": "code",
   "execution_count": 13,
   "metadata": {},
   "outputs": [],
   "source": [
    "AUTOTUNE = tf.data.AUTOTUNE\n",
    "\n",
    "def configure_dataset(dataset):\n",
    "    return dataset.cache().prefetch(buffer_size=AUTOTUNE)"
   ]
  },
  {
   "cell_type": "code",
   "execution_count": 14,
   "metadata": {},
   "outputs": [
    {
     "name": "stdout",
     "output_type": "stream",
     "text": [
      "Vocab size:  35000\n",
      "First 50 vocab entries: [b'.', b',', b'on', b'ja', b'?', b'ei', b'!', b'se', b'ett\\xc3\\xa4', b'en', b'ole', b'h\\xc3\\xa4n', b'-', b'mutta', b'kun', b'jos', b'niin', b'olen', b'mit\\xc3\\xa4', b'\"', b'oli', b'voi', b'nyt', b'kuin', b'vain', b'min\\xc3\\xa4', b'sen', b't\\xc3\\xa4m\\xc3\\xa4', b'olla', b'olet', b'ovat', b'kaikki', b'sit\\xc3\\xa4', b'sin\\xc3\\xa4', b':', b'..', b'kyll\\xc3\\xa4', b'et', b'sitten', b'hyv\\xc3\\xa4', b'minua', b'mit\\xc3\\xa4\\xc3\\xa4n', b'siit\\xc3\\xa4', b'jo', b'tai', b'hyvin', b'miksi', b'onko', b'minun', b'olisi']\n"
     ]
    }
   ],
   "source": [
    "tokenized_ds = configure_dataset(tokenized_ds)\n",
    "\n",
    "vocab_dict = collections.defaultdict(lambda: 0)\n",
    "for toks in tokenized_ds.as_numpy_iterator():\n",
    "    for tok in toks:\n",
    "        vocab_dict[tok] += 1\n",
    "\n",
    "vocab = sorted(vocab_dict.items(), key=lambda x: x[1], reverse=True)\n",
    "vocab = [token for token, count in vocab]\n",
    "vocab = vocab[:VOCAB_SIZE]\n",
    "vocab_size = len(vocab)\n",
    "print(\"Vocab size: \", vocab_size)\n",
    "n = 50\n",
    "print(f\"First {n} vocab entries:\", vocab[:50])"
   ]
  },
  {
   "cell_type": "code",
   "execution_count": 15,
   "metadata": {},
   "outputs": [],
   "source": [
    "keys = vocab\n",
    "values = range(2, len(vocab) + 2)  # reserve 0 for padding, 1 for OOV\n",
    "\n",
    "init = tf.lookup.KeyValueTensorInitializer(\n",
    "    keys, values, key_dtype=tf.string, value_dtype=tf.int64)\n",
    "\n",
    "num_oov_buckets = 1\n",
    "vocab_table = tf.lookup.StaticVocabularyTable(init, num_oov_buckets)"
   ]
  },
  {
   "cell_type": "code",
   "execution_count": 16,
   "metadata": {},
   "outputs": [],
   "source": [
    "def preprocess_text(text, label):\n",
    "    standardized = tf_text.case_fold_utf8(text)\n",
    "    tokenized = tokenizer.tokenize(standardized)\n",
    "    vectorized = vocab_table.lookup(tokenized)\n",
    "    return vectorized, label"
   ]
  },
  {
   "cell_type": "code",
   "execution_count": 17,
   "metadata": {},
   "outputs": [
    {
     "name": "stdout",
     "output_type": "stream",
     "text": [
      "Sentence:  b'alkuper\\xc3\\xa4iselle kirjoittajalle: \\xc3\\xa4l\\xc3\\xa4 sure.'\n",
      "Vectorized sentence:  [14312 14313    36    63 14314     2]\n"
     ]
    }
   ],
   "source": [
    "example_text, example_label = next(iter(all_labeled_data))\n",
    "print(\"Sentence: \", example_text.numpy())\n",
    "vectorized_text, example_label = preprocess_text(example_text, example_label)\n",
    "print(\"Vectorized sentence: \", vectorized_text.numpy())"
   ]
  },
  {
   "cell_type": "code",
   "execution_count": 18,
   "metadata": {},
   "outputs": [],
   "source": [
    "all_encoded_data = all_labeled_data.map(preprocess_text)\n",
    "\n",
    "train_data = all_encoded_data.skip(VALIDATION_SIZE).shuffle(BUFFER_SIZE)\n",
    "validation_data = all_encoded_data.take(VALIDATION_SIZE)\n",
    "\n",
    "train_data = train_data.padded_batch(BATCH_SIZE)\n",
    "validation_data = validation_data.padded_batch(BATCH_SIZE)"
   ]
  },
  {
   "cell_type": "code",
   "execution_count": 19,
   "metadata": {},
   "outputs": [
    {
     "name": "stdout",
     "output_type": "stream",
     "text": [
      "Text batch shape:  (32, 12)\n",
      "Label batch shape:  (32,)\n",
      "First text example:  tf.Tensor([14312 14313    36    63 14314     2     0     0     0     0     0     0], shape=(12,), dtype=int64)\n",
      "First label example:  tf.Tensor(1, shape=(), dtype=int64)\n"
     ]
    }
   ],
   "source": [
    "sample_text, sample_labels = next(iter(validation_data))\n",
    "print(\"Text batch shape: \", sample_text.shape)\n",
    "print(\"Label batch shape: \", sample_labels.shape)\n",
    "print(\"First text example: \", sample_text[0])\n",
    "print(\"First label example: \", sample_labels[0])"
   ]
  },
  {
   "cell_type": "code",
   "execution_count": 20,
   "metadata": {},
   "outputs": [],
   "source": [
    "vocab_size += 2"
   ]
  },
  {
   "cell_type": "code",
   "execution_count": 21,
   "metadata": {},
   "outputs": [],
   "source": [
    "train_data = configure_dataset(train_data)\n",
    "validation_data = configure_dataset(validation_data)"
   ]
  },
  {
   "cell_type": "code",
   "execution_count": 22,
   "metadata": {},
   "outputs": [],
   "source": [
    "def create_model(vocab_size, num_labels):\n",
    "    model = tf.keras.Sequential([\n",
    "        layers.Embedding(vocab_size, 64, embeddings_regularizer=regularizers.l1_l2(l1=1e-5, l2=1e-4), mask_zero=True),\n",
    "        layers.Bidirectional(layers.LSTM(64, return_sequences=True)),\n",
    "        layers.Bidirectional(layers.LSTM(32)),\n",
    "        layers.Dropout(0.20),\n",
    "        layers.Dense(32, kernel_regularizer=regularizers.l1_l2(l1=1e-5, l2=1e-4), activation='relu'),\n",
    "        layers.Dropout(0.20),\n",
    "        layers.Dense(num_labels)\n",
    "  ])\n",
    "    return model"
   ]
  },
  {
   "cell_type": "code",
   "execution_count": 23,
   "metadata": {
    "pycharm": {
     "name": "#%%\n"
    }
   },
   "outputs": [
    {
     "name": "stdout",
     "output_type": "stream",
     "text": [
      "Model: \"sequential\"\n",
      "_________________________________________________________________\n",
      "Layer (type)                 Output Shape              Param #   \n",
      "=================================================================\n",
      "embedding (Embedding)        (None, None, 64)          2240128   \n",
      "_________________________________________________________________\n",
      "bidirectional (Bidirectional (None, None, 128)         66048     \n",
      "_________________________________________________________________\n",
      "bidirectional_1 (Bidirection (None, 64)                41216     \n",
      "_________________________________________________________________\n",
      "dropout (Dropout)            (None, 64)                0         \n",
      "_________________________________________________________________\n",
      "dense (Dense)                (None, 32)                2080      \n",
      "_________________________________________________________________\n",
      "dropout_1 (Dropout)          (None, 32)                0         \n",
      "_________________________________________________________________\n",
      "dense_1 (Dense)              (None, 3)                 99        \n",
      "=================================================================\n",
      "Total params: 2,349,571\n",
      "Trainable params: 2,349,571\n",
      "Non-trainable params: 0\n",
      "_________________________________________________________________\n",
      "Epoch 1/15\n",
      "886/886 [==============================] - 100s 79ms/step - loss: 1.2097 - accuracy: 0.4731 - val_loss: 0.9365 - val_accuracy: 0.5567\n",
      "Epoch 2/15\n",
      "886/886 [==============================] - 54s 61ms/step - loss: 0.8340 - accuracy: 0.6655 - val_loss: 0.7954 - val_accuracy: 0.7133\n",
      "Epoch 3/15\n",
      "886/886 [==============================] - 57s 64ms/step - loss: 0.6684 - accuracy: 0.7682 - val_loss: 0.7678 - val_accuracy: 0.7333\n",
      "Epoch 4/15\n",
      "886/886 [==============================] - 59s 66ms/step - loss: 0.5398 - accuracy: 0.8368 - val_loss: 0.8039 - val_accuracy: 0.7500\n",
      "Epoch 5/15\n",
      "886/886 [==============================] - 52s 58ms/step - loss: 0.4298 - accuracy: 0.8901 - val_loss: 0.9006 - val_accuracy: 0.7467\n",
      "Epoch 6/15\n",
      "886/886 [==============================] - 55s 62ms/step - loss: 0.3549 - accuracy: 0.9204 - val_loss: 1.0048 - val_accuracy: 0.7667\n",
      "Epoch 7/15\n",
      "886/886 [==============================] - 55s 62ms/step - loss: 0.3054 - accuracy: 0.9372 - val_loss: 1.0852 - val_accuracy: 0.7500\n",
      "Epoch 8/15\n",
      "886/886 [==============================] - 52s 59ms/step - loss: 0.2741 - accuracy: 0.9475 - val_loss: 1.2346 - val_accuracy: 0.7567\n"
     ]
    }
   ],
   "source": [
    "model = create_model(vocab_size=vocab_size, num_labels=3)\n",
    "model.summary()\n",
    "early_stop = callbacks.EarlyStopping(monitor='val_accuracy', patience=2)\n",
    "model.compile(\n",
    "    optimizer=tf.keras.optimizers.Adam(1e-4),\n",
    "    loss=losses.SparseCategoricalCrossentropy(from_logits=True),\n",
    "    metrics=['accuracy'])\n",
    "history = model.fit(train_data, validation_data=validation_data, callbacks=[early_stop], epochs=15)\n",
    "model.save(f'model/rnn_{time}.h5')"
   ]
  },
  {
   "cell_type": "code",
   "execution_count": 24,
   "metadata": {
    "pycharm": {
     "name": "#%%\n"
    }
   },
   "outputs": [
    {
     "name": "stdout",
     "output_type": "stream",
     "text": [
      "10/10 [==============================] - 1s 23ms/step - loss: 1.2346 - accuracy: 0.7567\n",
      "Test Loss: 1.2346423864364624\n",
      "Test Accuracy: 0.7566666603088379\n"
     ]
    }
   ],
   "source": [
    "test_loss, test_acc = model.evaluate(validation_data)\n",
    "\n",
    "print('Test Loss:', test_loss)\n",
    "print('Test Accuracy:', test_acc)"
   ]
  },
  {
   "cell_type": "code",
   "execution_count": 25,
   "metadata": {
    "pycharm": {
     "name": "#%%\n"
    }
   },
   "outputs": [
    {
     "data": {
      "image/png": "[encoded data removed]",
      "text/plain": [
       "<Figure size 1152x432 with 2 Axes>"
      ]
     },
     "metadata": {
      "needs_background": "light"
     },
     "output_type": "display_data"
    }
   ],
   "source": [
    "plt.figure(figsize=(16, 6))\n",
    "plt.subplot(1, 2, 1)\n",
    "plot_graphs(history, 'accuracy')\n",
    "plt.subplot(1, 2, 2)\n",
    "plot_graphs(history, 'loss')"
   ]
  },
  {
   "cell_type": "code",
   "execution_count": 26,
   "metadata": {},
   "outputs": [],
   "source": [
    "MAX_SEQUENCE_LENGTH = 250\n",
    "preprocess_layer = TextVectorization(\n",
    "    max_tokens=vocab_size,\n",
    "    standardize=tf_text.case_fold_utf8,\n",
    "    split=tokenizer.tokenize,\n",
    "    output_mode='int',\n",
    "    output_sequence_length=MAX_SEQUENCE_LENGTH)\n",
    "preprocess_layer.set_vocabulary(vocab)"
   ]
  },
  {
   "cell_type": "code",
   "execution_count": 27,
   "metadata": {},
   "outputs": [],
   "source": [
    "export_model = tf.keras.Sequential(\n",
    "    [preprocess_layer, model,\n",
    "     layers.Activation('softmax')])\n",
    "\n",
    "export_model.compile(\n",
    "    loss=losses.SparseCategoricalCrossentropy(from_logits=False),\n",
    "    optimizer='adam',\n",
    "    metrics=['accuracy'])"
   ]
  },
  {
   "cell_type": "code",
   "execution_count": null,
   "metadata": {},
   "outputs": [],
   "source": [
    "# Create a test dataset of raw strings\n",
    "test_ds = all_labeled_data.take(VALIDATION_SIZE).batch(BATCH_SIZE)\n",
    "test_ds = configure_dataset(test_ds)\n",
    "loss, accuracy = export_model.evaluate(test_ds)\n",
    "print(\"Loss: \", loss)\n",
    "print(f\"Accuracy: {accuracy:2.2%}\")"
   ]
  },
  {
   "cell_type": "code",
   "execution_count": null,
   "metadata": {},
   "outputs": [],
   "source": [
    "inputs = [\n",
    "    \"haista sinä kuka sitten ootkin iso ja haiseva vittu!\",  # Label: 0\n",
    "    \"Minun mielestäni asiattomiin kirjoituksiin ei kannata koskaan vastata mitään. \",  # Label: 1\n",
    "    \"Ihana kuulla et sulla menee hyvin, olen onnellinen sinun puolestasi =) Oikeesti!\"  # Label: 2\n",
    "]\n",
    "predicted_scores = export_model.predict(inputs)\n",
    "print(predicted_scores) \n",
    "predicted_labels = tf.argmax(predicted_scores, axis=1)\n",
    "for input, label in zip(inputs, predicted_labels):\n",
    "    print(\"Question: \", input)\n",
    "    print(\"Predicted label: \", label.numpy())"
   ]
  },
  {
   "cell_type": "code",
   "execution_count": null,
   "metadata": {},
   "outputs": [],
   "source": [
    "inputs = [\n",
    "    \"Alkaa vituttamaan nuo saatanan rengasmainokset, jotka pomppii koko ajan silmille.\", # Label: 0\n",
    "    \"Joka vitun asiassa ne vaan ajattelee seksiä ja haluaa vaan sitä.\", # Label: 0\n",
    "    \"Mitä olit niin itserakas, nyt se sitten on mennyt päähäsi!\", # Label: 0\n",
    "    \"Huumekuolemat johtuvat lähes poikkeuksetta ylianostuksista ja nekin kovien huumeiden kyseessäollen.\", # Label: 1\n",
    "    \"Presidenttihän ei saa edustaa omaa poliittista vakaumustaan.\",  # Label: 1\n",
    "    \"Lopulta voi käydä myös niin, että vaikka olettekin olleet yhdessä ja nauttineet keskenänne paljosta rakkaudesta,\" \\\n",
    "\" te ette ole enää oikeita kumppaneita seuraavaa vaihetta varten.\" # Label: 1\n",
    "    \"Tänäänkin kaipaan kainaloa, hymyäsi ja ennenkaikkea halaustasi pusuista puhumattakaan.\",  # Label: 2\n",
    "    \"Saan rakastella ja rakastaa häntä jälleen, Laitan hyvää ruokaa ja hieron hartioita.\", # Label: 2\n",
    "    \"Hyvää syksynjatkoa kaikille lukijoilleni ja kiitos kommenteistanne.\" # Label: 2    \n",
    "]\n",
    "predicted_scores = export_model.predict(inputs)\n",
    "print(predicted_scores)\n",
    "predicted_labels = tf.argmax(predicted_scores, axis=1)\n",
    "for input, label in zip(inputs, predicted_labels):\n",
    "    print(\"Question: \", input)\n",
    "    print(\"Predicted label: \", label.numpy())"
   ]
  },
  {
   "cell_type": "code",
   "execution_count": null,
   "metadata": {
    "pycharm": {
     "name": "#%%\n"
    }
   },
   "outputs": [],
   "source": []
  }
 ],
 "metadata": {
  "kernelspec": {
   "display_name": "Python 3",
   "language": "python",
   "name": "python3"
  },
  "language_info": {
   "codemirror_mode": {
    "name": "ipython",
    "version": 3
   },
   "file_extension": ".py",
   "mimetype": "text/x-python",
   "name": "python",
   "nbconvert_exporter": "python",
   "pygments_lexer": "ipython3",
   "version": "3.7.10"
  }
 },
 "nbformat": 4,
 "nbformat_minor": 4
}