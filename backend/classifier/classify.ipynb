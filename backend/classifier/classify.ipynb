{
 "cells": [
  {
   "cell_type": "code",
   "execution_count": 1,
   "metadata": {
    "pycharm": {
     "name": "#%%\n"
    },
    "tags": []
   },
   "outputs": [],
   "source": [
    "import math\n",
    "import random\n",
    "import numpy as np\n",
    "from datetime import datetime\n",
    "import tensorflow as tf\n",
    "from tensorflow.keras import layers\n",
    "from tensorflow.keras import losses\n",
    "from tensorflow.keras import regularizers\n",
    "from tensorflow.keras import optimizers\n",
    "from tensorflow.keras import callbacks\n",
    "from tensorflow.keras import Model\n",
    "\n",
    "from tensorflow.keras.layers.experimental.preprocessing import TextVectorization\n",
    "import os\n",
    "# os.environ['CUDA_VISIBLE_DEVICES'] = '-1'\n",
    "config = tf.compat.v1.ConfigProto()\n",
    "config.gpu_options.allow_growth = True\n",
    "session = tf.compat.v1.Session(config=config)"
   ]
  },
  {
   "cell_type": "code",
   "execution_count": 2,
   "metadata": {
    "pycharm": {
     "name": "#%%\n"
    }
   },
   "outputs": [],
   "source": [
    "import matplotlib.pyplot as plt\n",
    "\n",
    "\n",
    "def plot_graphs(history, metric):\n",
    "    plt.plot(history.history[metric])\n",
    "    plt.plot(history.history['val_' + metric], '')\n",
    "    plt.xlabel(\"Epochs\")\n",
    "    plt.ylabel(metric)\n",
    "    plt.legend([metric, 'val_' + metric])"
   ]
  },
  {
   "cell_type": "code",
   "execution_count": 5,
   "metadata": {
    "pycharm": {
     "name": "#%%\n"
    }
   },
   "outputs": [],
   "source": [
    "train_dir = f\"..\\\\data\\\\tr\"\n",
    "time = datetime.now().strftime(\"%d-%m-%Y_%H-%M-%S\")"
   ]
  },
  {
   "cell_type": "code",
   "execution_count": 6,
   "metadata": {},
   "outputs": [],
   "source": [
    "def labeler(example, index):\n",
    "    return example, tf.cast(index, tf.int64)"
   ]
  },
  {
   "cell_type": "code",
   "execution_count": 7,
   "metadata": {},
   "outputs": [],
   "source": [
    "FILE_NAMES = ['combinedneg.txt', 'combinedneut2.txt', 'combinedpos.txt']\n",
    "labeled_data_sets = []\n",
    "# Give labels to the data, 0 for negatives, 1 for neutrals, 2 for positives.\n",
    "for i, file_name in enumerate(FILE_NAMES):\n",
    "    lines_dataset = tf.data.TextLineDataset(f\"{train_dir}\\\\{file_name}\")\n",
    "    labeled_dataset = lines_dataset.map(lambda ex: labeler(ex, i))\n",
    "    labeled_data_sets.append(labeled_dataset)"
   ]
  },
  {
   "cell_type": "code",
   "execution_count": 9,
   "metadata": {},
   "outputs": [],
   "source": [
    "BUFFER_SIZE = 50000\n",
    "# concatenate all labeled datasets into one and shuffle\n",
    "all_labeled_data = labeled_data_sets[0]\n",
    "for labeled_dataset in labeled_data_sets[1:]:\n",
    "    all_labeled_data = all_labeled_data.concatenate(labeled_dataset)\n",
    "all_labeled_data = all_labeled_data.shuffle(\n",
    "    BUFFER_SIZE, reshuffle_each_iteration=False)"
   ]
  },
  {
   "cell_type": "code",
   "execution_count": 10,
   "metadata": {},
   "outputs": [],
   "source": [
    "DATASET_SIZE = [i for i,_ in enumerate(all_labeled_data)][-1] + 1\n",
    "BATCH_SIZE = 32\n",
    "VALIDATION_SIZE = math.ceil(DATASET_SIZE * 0.1)\n",
    "VOCAB_SIZE = 45000"
   ]
  },
  {
   "cell_type": "code",
   "execution_count": 11,
   "metadata": {},
   "outputs": [
    {
     "name": "stdout",
     "output_type": "stream",
     "text": [
      "Labels are 0 = negative, 1 = neutral, 2 = positive.\n",
      "\n",
      "Sentence:  b'ly\\xc3\\xb6 h\\xc3\\xa4nt\\xc3\\xa4, is\\xc3\\xa4.'\n",
      "Label: 0\n"
     ]
    }
   ],
   "source": [
    "print('Labels are 0 = negative, 1 = neutral, 2 = positive.\\n')\n",
    "for text, label in all_labeled_data.take(1):\n",
    "    print(\"Sentence: \", text.numpy())\n",
    "    print(\"Label:\", label.numpy())"
   ]
  },
  {
   "cell_type": "code",
   "execution_count": 12,
   "metadata": {},
   "outputs": [],
   "source": [
    "train_dataset = all_labeled_data.skip(VALIDATION_SIZE).shuffle(BUFFER_SIZE).batch(BATCH_SIZE).prefetch(tf.data.AUTOTUNE)\n",
    "test_dataset = all_labeled_data.take(VALIDATION_SIZE).batch(BATCH_SIZE).prefetch(tf.data.AUTOTUNE)"
   ]
  },
  {
   "cell_type": "code",
   "execution_count": 13,
   "metadata": {},
   "outputs": [
    {
     "name": "stdout",
     "output_type": "stream",
     "text": [
      "texts:  [b'kirkossa olevien uskovien tulisi nyt korottaa \\xc3\\xa4\\xc3\\xa4nens\\xc3\\xa4 ja uskaltaa kertoa oma n\\xc3\\xa4kemyksens\\xc3\\xa4 yleisest\\xc3\\xa4 mielipiteens\\xc3\\xa4 huolimatta.'\n",
      " b'mutta hyv\\xc3\\xa4\\xc3\\xa4 p\\xc3\\xa4iv\\xc3\\xa4njatkoa ja hymy\\xc3\\xa4 huuleen.'\n",
      " b'kale on jo kertaalleen h\\xc3\\xa4vinnyt eli pois potkittu.']\n",
      "\n",
      "labels:  [1 2 1]\n",
      "54760 ['' '[UNK]' 'on' 'ja' 'ei' 'että' 'se' 'ole' 'en' 'mutta' 'kun' 'niin'\n",
      " 'jos' 'hän' 'olen' 'mitä' 'oli' 'voi' 'kuin' 'nyt']\n",
      "[[ 3327  5812  2690   375    19  3907  6605     3  6919   378   228 34621\n",
      "  17830  3258  1189     0     0     0     0     0     0     0     0     0\n",
      "      0     0     0     0     0     0     0     0     0     0     0     0\n",
      "      0     0]\n",
      " [    9   117  7598     3  4914 47620     0     0     0     0     0     0\n",
      "      0     0     0     0     0     0     0     0     0     0     0     0\n",
      "      0     0     0     0     0     0     0     0     0     0     0     0\n",
      "      0     0]\n",
      " [44846     2    33 15005  4907    77    98 31041     0     0     0     0\n",
      "      0     0     0     0     0     0     0     0     0     0     0     0\n",
      "      0     0     0     0     0     0     0     0     0     0     0     0\n",
      "      0     0]]\n",
      "Original:  b'kirkossa olevien uskovien tulisi nyt korottaa \\xc3\\xa4\\xc3\\xa4nens\\xc3\\xa4 ja uskaltaa kertoa oma n\\xc3\\xa4kemyksens\\xc3\\xa4 yleisest\\xc3\\xa4 mielipiteens\\xc3\\xa4 huolimatta.'\n",
      "Round-trip:  kirkossa olevien uskovien tulisi nyt korottaa äänensä ja uskaltaa kertoa oma näkemyksensä yleisestä mielipiteensä huolimatta                       \n",
      "\n",
      "Original:  b'mutta hyv\\xc3\\xa4\\xc3\\xa4 p\\xc3\\xa4iv\\xc3\\xa4njatkoa ja hymy\\xc3\\xa4 huuleen.'\n",
      "Round-trip:  mutta hyvää päivänjatkoa ja hymyä huuleen                                \n",
      "\n",
      "Original:  b'kale on jo kertaalleen h\\xc3\\xa4vinnyt eli pois potkittu.'\n",
      "Round-trip:  kale on jo kertaalleen hävinnyt eli pois potkittu                              \n",
      "\n"
     ]
    }
   ],
   "source": [
    "for example, label in train_dataset.take(1):\n",
    "  print('texts: ', example.numpy()[:3])\n",
    "  print()\n",
    "  print('labels: ', label.numpy()[:3])\n",
    "encoder = TextVectorization()\n",
    "encoder.adapt(train_dataset.map(lambda text, label: text))\n",
    "vocab = np.array(encoder.get_vocabulary())\n",
    "print(len(vocab), vocab[:20])\n",
    "encoded_example = encoder(example)[:3].numpy()\n",
    "print(encoded_example)\n",
    "for n in range(3):\n",
    "    print(\"Original: \", example[n].numpy())\n",
    "    print(\"Round-trip: \", \" \".join(vocab[encoded_example[n]]))\n",
    "    print()"
   ]
  },
  {
   "cell_type": "code",
   "execution_count": 14,
   "metadata": {},
   "outputs": [],
   "source": [
    "import pickle\n",
    "with open(\"..\\\\data\\\\others\\\\vocab2.pickle\", \"wb\") as output_file:\n",
    "    pickle.dump(vocab, output_file)"
   ]
  },
  {
   "cell_type": "code",
   "execution_count": 21,
   "metadata": {},
   "outputs": [],
   "source": [
    "def create_model(num_labels):\n",
    "    model_layers = tf.keras.Sequential([\n",
    "        encoder,\n",
    "        layers.Embedding(input_dim=len(encoder.get_vocabulary()), output_dim=64, embeddings_regularizer=regularizers.l1_l2(l1=1e-5, l2=1e-4), mask_zero=True),\n",
    "        layers.Bidirectional(layers.LSTM(64, return_sequences=True)),\n",
    "        layers.Bidirectional(layers.LSTM(32)),\n",
    "        layers.Dropout(0.20),\n",
    "        layers.Dense(32, kernel_regularizer=regularizers.l1_l2(l1=1e-5, l2=1e-4), activation='relu'),\n",
    "        layers.Dropout(0.20),\n",
    "        layers.Dense(num_labels),\n",
    "        layers.Activation('softmax')])\n",
    "    return model_layers"
   ]
  },
  {
   "cell_type": "code",
   "execution_count": 22,
   "metadata": {},
   "outputs": [
    {
     "name": "stdout",
     "output_type": "stream",
     "text": [
      "Epoch 1/15\n",
      "979/979 [==============================] - 90s 73ms/step - loss: 1.2269 - accuracy: 0.5011 - val_loss: 0.9615 - val_accuracy: 0.5320\n",
      "Epoch 2/15\n",
      "979/979 [==============================] - 69s 71ms/step - loss: 0.8926 - accuracy: 0.6012 - val_loss: 0.8598 - val_accuracy: 0.6360\n",
      "Epoch 3/15\n",
      "979/979 [==============================] - 69s 70ms/step - loss: 0.7506 - accuracy: 0.7153 - val_loss: 0.8158 - val_accuracy: 0.6903\n",
      "Epoch 4/15\n",
      "979/979 [==============================] - 70s 71ms/step - loss: 0.5921 - accuracy: 0.8144 - val_loss: 0.8283 - val_accuracy: 0.7107\n",
      "Model: \"sequential_2\"\n",
      "_________________________________________________________________\n",
      "Layer (type)                 Output Shape              Param #   \n",
      "=================================================================\n",
      "text_vectorization (TextVect (None, None)              0         \n",
      "_________________________________________________________________\n",
      "embedding_3 (Embedding)      (None, None, 64)          3504640   \n",
      "_________________________________________________________________\n",
      "bidirectional_4 (Bidirection (None, None, 128)         66048     \n",
      "_________________________________________________________________\n",
      "bidirectional_5 (Bidirection (None, 64)                41216     \n",
      "_________________________________________________________________\n",
      "dropout_4 (Dropout)          (None, 64)                0         \n",
      "_________________________________________________________________\n",
      "dense_4 (Dense)              (None, 32)                2080      \n",
      "_________________________________________________________________\n",
      "dropout_5 (Dropout)          (None, 32)                0         \n",
      "_________________________________________________________________\n",
      "dense_5 (Dense)              (None, 3)                 99        \n",
      "_________________________________________________________________\n",
      "activation_2 (Activation)    (None, 3)                 0         \n",
      "=================================================================\n",
      "Total params: 3,614,083\n",
      "Trainable params: 3,614,083\n",
      "Non-trainable params: 0\n",
      "_________________________________________________________________\n"
     ]
    }
   ],
   "source": [
    "model = create_model(num_labels=3)\n",
    "early_stop = callbacks.EarlyStopping(monitor='val_loss', patience=1)\n",
    "model.compile(\n",
    "    optimizer=optimizers.Adam(1e-4),\n",
    "    loss=losses.SparseCategoricalCrossentropy(from_logits=False),\n",
    "    metrics=['accuracy'])\n",
    "history = model.fit(train_dataset, validation_data=test_dataset, callbacks=[early_stop], epochs=15)\n",
    "model.summary()"
   ]
  },
  {
   "cell_type": "code",
   "execution_count": 23,
   "metadata": {},
   "outputs": [
    {
     "name": "stderr",
     "output_type": "stream",
     "text": [
      "WARNING:absl:Found untraced functions such as lstm_cell_14_layer_call_fn, lstm_cell_14_layer_call_and_return_conditional_losses, lstm_cell_15_layer_call_fn, lstm_cell_15_layer_call_and_return_conditional_losses, lstm_cell_17_layer_call_fn while saving (showing 5 of 20). These functions will not be directly callable after loading.\n"
     ]
    },
    {
     "name": "stdout",
     "output_type": "stream",
     "text": [
      "INFO:tensorflow:Assets written to: model/rnn_15-07-2021_15-22-35\\assets\n"
     ]
    },
    {
     "name": "stderr",
     "output_type": "stream",
     "text": [
      "INFO:tensorflow:Assets written to: model/rnn_15-07-2021_15-22-35\\assets\n"
     ]
    }
   ],
   "source": [
    "# model.save(f'model/rnn_{time}.h5')\n",
    "model.save(f'model/rnn_{time}')"
   ]
  },
  {
   "cell_type": "code",
   "execution_count": 24,
   "metadata": {
    "pycharm": {
     "name": "#%%\n"
    }
   },
   "outputs": [
    {
     "name": "stdout",
     "output_type": "stream",
     "text": [
      "109/109 [==============================] - 4s 29ms/step - loss: 0.8283 - accuracy: 0.7107\n",
      "Test Loss: 0.8282654881477356\n",
      "Test Accuracy: 0.7107152938842773\n"
     ]
    }
   ],
   "source": [
    "test_loss, test_acc = model.evaluate(test_dataset)\n",
    "print('Test Loss:', test_loss)\n",
    "print('Test Accuracy:', test_acc)"
   ]
  },
  {
   "cell_type": "code",
   "execution_count": 25,
   "metadata": {
    "pycharm": {
     "name": "#%%\n"
    }
   },
   "outputs": [
    {
     "data": {
      "image/png": "[encoded data removed]",
      "text/plain": [
       "<Figure size 1152x432 with 2 Axes>"
      ]
     },
     "metadata": {
      "needs_background": "light"
     },
     "output_type": "display_data"
    }
   ],
   "source": [
    "plt.figure(figsize=(16, 6))\n",
    "plt.subplot(1, 2, 1)\n",
    "plot_graphs(history, 'accuracy')\n",
    "plt.subplot(1, 2, 2)\n",
    "plot_graphs(history, 'loss')"
   ]
  },
  {
   "cell_type": "code",
   "execution_count": 26,
   "metadata": {},
   "outputs": [
    {
     "name": "stdout",
     "output_type": "stream",
     "text": [
      "Model: \"sequential_2\"\n",
      "_________________________________________________________________\n",
      "Layer (type)                 Output Shape              Param #   \n",
      "=================================================================\n",
      "text_vectorization (TextVect (None, None)              0         \n",
      "_________________________________________________________________\n",
      "embedding_3 (Embedding)      (None, None, 64)          3504640   \n",
      "_________________________________________________________________\n",
      "bidirectional_4 (Bidirection (None, None, 128)         66048     \n",
      "_________________________________________________________________\n",
      "bidirectional_5 (Bidirection (None, 64)                41216     \n",
      "_________________________________________________________________\n",
      "dropout_4 (Dropout)          (None, 64)                0         \n",
      "_________________________________________________________________\n",
      "dense_4 (Dense)              (None, 32)                2080      \n",
      "_________________________________________________________________\n",
      "dropout_5 (Dropout)          (None, 32)                0         \n",
      "_________________________________________________________________\n",
      "dense_5 (Dense)              (None, 3)                 99        \n",
      "_________________________________________________________________\n",
      "activation_2 (Activation)    (None, 3)                 0         \n",
      "=================================================================\n",
      "Total params: 3,614,083\n",
      "Trainable params: 3,614,083\n",
      "Non-trainable params: 0\n",
      "_________________________________________________________________\n"
     ]
    }
   ],
   "source": [
    "modelpath = f\"model/rnn_{time}\"\n",
    "import_model = tf.keras.models.load_model(modelpath)\n",
    "import_model.summary()"
   ]
  },
  {
   "cell_type": "code",
   "execution_count": 27,
   "metadata": {},
   "outputs": [
    {
     "name": "stdout",
     "output_type": "stream",
     "text": [
      "['3. pieneen akvaarioon tehoaa kun kesäisin laitat sinne jääpaloja...'\n",
      " 'mä olen suuri pokemonfani.et sä sit vai oo??? '\n",
      " 'Saisivat siten omistajat toteuttaa näitä pissa fantasioitaan omissa oloissaan. '\n",
      " 'Tuoreruoka pitää olla hyvin pestyä ja kuivattua. '\n",
      " 'Ei ole ollut enää lukukuntoinen (koiramme lehdessä mainittu) ja kuinka monta niitä siruja voikaan koiraan laittaa??! ']\n"
     ]
    }
   ],
   "source": [
    "n = 5\n",
    "inputs = []\n",
    "with open(f\"D:\\\\Work\\\\Data\\\\s24_2001_sentences_shuffled_slice.txt\", 'r', encoding='utf-8') as f:\n",
    "    lines = f.readlines()\n",
    "    random.shuffle(lines)\n",
    "    for line in lines:\n",
    "        inputs.append(line.strip('\\n'))\n",
    "inputs = np.array(inputs[:n])\n",
    "print(inputs[:n])"
   ]
  },
  {
   "cell_type": "code",
   "execution_count": 28,
   "metadata": {},
   "outputs": [
    {
     "name": "stdout",
     "output_type": "stream",
     "text": [
      "Sentence: 3. pieneen akvaarioon tehoaa kun kesäisin laitat sinne jääpaloja...\n",
      "Predicted label: 1\n",
      "Predicted probs: 0.00067, 0.98367, 0.01566\n",
      "\n",
      "Sentence: mä olen suuri pokemonfani.et sä sit vai oo??? \n",
      "Predicted label: 0\n",
      "Predicted probs: 0.94570, 0.04454, 0.00976\n",
      "\n",
      "Sentence: Saisivat siten omistajat toteuttaa näitä pissa fantasioitaan omissa oloissaan. \n",
      "Predicted label: 1\n",
      "Predicted probs: 0.00524, 0.96583, 0.02892\n",
      "\n",
      "Sentence: Tuoreruoka pitää olla hyvin pestyä ja kuivattua. \n",
      "Predicted label: 1\n",
      "Predicted probs: 0.16357, 0.64734, 0.18909\n",
      "\n",
      "Sentence: Ei ole ollut enää lukukuntoinen (koiramme lehdessä mainittu) ja kuinka monta niitä siruja voikaan koiraan laittaa??! \n",
      "Predicted label: 1\n",
      "Predicted probs: 0.00076, 0.98496, 0.01428\n",
      "\n",
      "['3. pieneen akvaarioon tehoaa kun kesäisin laitat sinne jääpaloja...'\n",
      " 'mä olen suuri pokemonfani.et sä sit vai oo??? '\n",
      " 'Saisivat siten omistajat toteuttaa näitä pissa fantasioitaan omissa oloissaan. '\n",
      " 'Tuoreruoka pitää olla hyvin pestyä ja kuivattua. '\n",
      " 'Ei ole ollut enää lukukuntoinen (koiramme lehdessä mainittu) ja kuinka monta niitä siruja voikaan koiraan laittaa??! '] \n",
      "\n",
      " ([1, 0, 1, 1, 1], ['0.00067, 0.98367, 0.01566', '0.94570, 0.04454, 0.00976', '0.00524, 0.96583, 0.02892', '0.16357, 0.64734, 0.18909', '0.00076, 0.98496, 0.01428'])\n"
     ]
    }
   ],
   "source": [
    "def make_prediction(inps):\n",
    "    predicted_scores = import_model.predict(np.array(inps))\n",
    "    predicted_labels = tf.argmax(predicted_scores, axis=1)\n",
    "    lab, pred = '', ''\n",
    "    labs, preds = [], []\n",
    "    for i, (inp, label) in enumerate(zip(inputs, predicted_labels)):\n",
    "        pred = (', '.join(f'{q:.5f}' for q in predicted_scores[i]))\n",
    "        lab = label.numpy()\n",
    "        print(f\"Sentence: {inp}\")\n",
    "        print(f\"Predicted label: {lab}\")\n",
    "        print(f\"Predicted probs: {pred}\\n\")\n",
    "        labs.append(lab)\n",
    "        preds.append(pred)\n",
    "    return labs, preds\n",
    "\n",
    "print(np.array(inputs), '\\n\\n', make_prediction(inputs))"
   ]
  },
  {
   "cell_type": "code",
   "execution_count": 29,
   "metadata": {},
   "outputs": [
    {
     "name": "stdout",
     "output_type": "stream",
     "text": [
      "Sentence: 3. pieneen akvaarioon tehoaa kun kesäisin laitat sinne jääpaloja...\n",
      "Predicted label: 0\n",
      "Predicted probs: 0.99803, 0.00173, 0.00024\n",
      "\n",
      "Sentence: mä olen suuri pokemonfani.et sä sit vai oo??? \n",
      "Predicted label: 0\n",
      "Predicted probs: 0.91525, 0.05497, 0.02978\n",
      "\n",
      "Sentence: Saisivat siten omistajat toteuttaa näitä pissa fantasioitaan omissa oloissaan. \n",
      "Predicted label: 2\n",
      "Predicted probs: 0.00366, 0.00012, 0.99623\n",
      "\n",
      "Sentence: 3. pieneen akvaarioon tehoaa kun kesäisin laitat sinne jääpaloja...\n",
      "Predicted label: 1\n",
      "Predicted probs: 0.00067, 0.98367, 0.01566\n",
      "\n",
      "Sentence: mä olen suuri pokemonfani.et sä sit vai oo??? \n",
      "Predicted label: 0\n",
      "Predicted probs: 0.94570, 0.04454, 0.00976\n",
      "\n",
      "Sentence: Saisivat siten omistajat toteuttaa näitä pissa fantasioitaan omissa oloissaan. \n",
      "Predicted label: 1\n",
      "Predicted probs: 0.00524, 0.96583, 0.02892\n",
      "\n",
      "Sentence: Tuoreruoka pitää olla hyvin pestyä ja kuivattua. \n",
      "Predicted label: 1\n",
      "Predicted probs: 0.16357, 0.64734, 0.18909\n",
      "\n",
      "Sentence: Ei ole ollut enää lukukuntoinen (koiramme lehdessä mainittu) ja kuinka monta niitä siruja voikaan koiraan laittaa??! \n",
      "Predicted label: 1\n",
      "Predicted probs: 0.00076, 0.98496, 0.01428\n",
      "\n",
      "['3. pieneen akvaarioon tehoaa kun kesäisin laitat sinne jääpaloja...'\n",
      " 'mä olen suuri pokemonfani.et sä sit vai oo??? '\n",
      " 'Saisivat siten omistajat toteuttaa näitä pissa fantasioitaan omissa oloissaan. '\n",
      " 'Tuoreruoka pitää olla hyvin pestyä ja kuivattua. '\n",
      " 'Ei ole ollut enää lukukuntoinen (koiramme lehdessä mainittu) ja kuinka monta niitä siruja voikaan koiraan laittaa??! '] ([1, 0, 1, 1, 1], ['0.00067, 0.98367, 0.01566', '0.94570, 0.04454, 0.00976', '0.00524, 0.96583, 0.02892', '0.16357, 0.64734, 0.18909', '0.00076, 0.98496, 0.01428'])\n"
     ]
    }
   ],
   "source": [
    "inputs2 = [\n",
    "    \"haista sinä kuka sitten ootkin iso ja haiseva vittu!\",  # Label: 0\n",
    "    \"Minun mielestäni asiattomiin kirjoituksiin ei kannata koskaan vastata mitään. \",  # Label: 1\n",
    "    \"Ihana kuulla et sulla menee hyvin, olen onnellinen sinun puolestasi =) Oikeesti!\"  # Label: 2\n",
    "]\n",
    "make_prediction(inputs2)\n",
    "print(np.array(inputs), make_prediction(inputs))"
   ]
  },
  {
   "cell_type": "code",
   "execution_count": 30,
   "metadata": {},
   "outputs": [
    {
     "name": "stdout",
     "output_type": "stream",
     "text": [
      "Sentence: 3. pieneen akvaarioon tehoaa kun kesäisin laitat sinne jääpaloja...\n",
      "Predicted label: 1\n",
      "Predicted probs: 0.27235, 0.56117, 0.16648\n",
      "\n",
      "Sentence: mä olen suuri pokemonfani.et sä sit vai oo??? \n",
      "Predicted label: 1\n",
      "Predicted probs: 0.00057, 0.99079, 0.00864\n",
      "\n",
      "Sentence: Saisivat siten omistajat toteuttaa näitä pissa fantasioitaan omissa oloissaan. \n",
      "Predicted label: 1\n",
      "Predicted probs: 0.01473, 0.95456, 0.03071\n",
      "\n",
      "Sentence: Tuoreruoka pitää olla hyvin pestyä ja kuivattua. \n",
      "Predicted label: 1\n",
      "Predicted probs: 0.01437, 0.95806, 0.02758\n",
      "\n",
      "Sentence: Ei ole ollut enää lukukuntoinen (koiramme lehdessä mainittu) ja kuinka monta niitä siruja voikaan koiraan laittaa??! \n",
      "Predicted label: 1\n",
      "Predicted probs: 0.08245, 0.90322, 0.01433\n",
      "\n"
     ]
    },
    {
     "data": {
      "text/plain": [
       "([1, 1, 1, 1, 1],\n",
       " ['0.27235, 0.56117, 0.16648',\n",
       "  '0.00057, 0.99079, 0.00864',\n",
       "  '0.01473, 0.95456, 0.03071',\n",
       "  '0.01437, 0.95806, 0.02758',\n",
       "  '0.08245, 0.90322, 0.01433'])"
      ]
     },
     "execution_count": 30,
     "metadata": {},
     "output_type": "execute_result"
    }
   ],
   "source": [
    "inputs3 = [\n",
    "    \"Alkaa vituttamaan nuo saatanan rengasmainokset, jotka pomppii koko ajan silmille.\", # Label: 0\n",
    "    \"Joka vitun asiassa ne vaan ajattelee seksiä ja haluaa vaan sitä.\", # Label: 0\n",
    "    \"Mitä olit niin itserakas, nyt se sitten on mennyt päähäsi!\", # Label: 0\n",
    "    \"Huumekuolemat johtuvat lähes poikkeuksetta ylianostuksista ja nekin kovien huumeiden kyseessäollen.\", # Label: 1\n",
    "    \"Presidenttihän ei saa edustaa omaa poliittista vakaumustaan.\",  # Label: 1\n",
    "    \"Lopulta voi käydä myös niin, että vaikka olettekin olleet yhdessä ja nauttineet keskenänne paljosta rakkaudesta,\"\n",
    "    \" te ette ole enää oikeita kumppaneita seuraavaa vaihetta varten.\" # Label: 1\n",
    "    \"Tänäänkin kaipaan kainaloa, hymyäsi ja ennenkaikkea halaustasi pusuista puhumattakaan.\",  # Label: 2\n",
    "    \"Saan rakastella ja rakastaa häntä jälleen, Laitan hyvää ruokaa ja hieron hartioita.\", # Label: 2\n",
    "    \"Hyvää syksynjatkoa kaikille lukijoilleni ja kiitos kommenteistanne.\" # Label: 2    \n",
    "]\n",
    "make_prediction(inputs3)"
   ]
  },
  {
   "cell_type": "code",
   "execution_count": null,
   "metadata": {},
   "outputs": [],
   "source": []
  }
 ],
 "metadata": {
  "kernelspec": {
   "display_name": "Python 3",
   "language": "python",
   "name": "python3"
  },
  "language_info": {
   "codemirror_mode": {
    "name": "ipython",
    "version": 3
   },
   "file_extension": ".py",
   "mimetype": "text/x-python",
   "name": "python",
   "nbconvert_exporter": "python",
   "pygments_lexer": "ipython3",
   "version": "3.7.10"
  }
 },
 "nbformat": 4,
 "nbformat_minor": 4
}
