{
 "cells": [
  {
   "cell_type": "code",
   "execution_count": 1,
   "metadata": {
    "pycharm": {
     "name": "#%%\n"
    },
    "tags": []
   },
   "outputs": [],
   "source": [
    "import collections\n",
    "import numpy as np\n",
    "import tensorflow as tf\n",
    "from tensorflow.keras import layers\n",
    "from tensorflow.keras import losses\n",
    "from tensorflow.keras import preprocessing\n",
    "from tensorflow.keras import utils\n",
    "from tensorflow.keras import regularizers\n",
    "from tensorflow.keras import optimizers\n",
    "from tensorflow.keras import callbacks\n",
    "import tensorflow_text as tf_text\n",
    "\n",
    "from tensorflow.keras.layers.experimental.preprocessing import TextVectorization\n",
    "import os\n",
    "# os.environ['CUDA_VISIBLE_DEVICES'] = '-1'"
   ]
  },
  {
   "cell_type": "code",
   "execution_count": 2,
   "metadata": {
    "pycharm": {
     "name": "#%%\n"
    }
   },
   "outputs": [],
   "source": [
    "import matplotlib.pyplot as plt\n",
    "\n",
    "\n",
    "def plot_graphs(history, metric):\n",
    "    plt.plot(history.history[metric])\n",
    "    plt.plot(history.history['val_' + metric], '')\n",
    "    plt.xlabel(\"Epochs\")\n",
    "    plt.ylabel(metric)\n",
    "    plt.legend([metric, 'val_' + metric])"
   ]
  },
  {
   "cell_type": "code",
   "execution_count": 3,
   "metadata": {
    "pycharm": {
     "name": "#%%\n"
    }
   },
   "outputs": [],
   "source": [
    "dataset_dir = '..\\\\data'\n",
    "train_dir = f\"{dataset_dir}\\\\tr\"\n",
    "batch_size = 32\n",
    "seed = 42"
   ]
  },
  {
   "cell_type": "code",
   "execution_count": 4,
   "metadata": {},
   "outputs": [],
   "source": [
    "def labeler(example, index):\n",
    "    return example, tf.cast(index, tf.int64)"
   ]
  },
  {
   "cell_type": "code",
   "execution_count": 5,
   "metadata": {},
   "outputs": [
    {
     "data": {
      "text/plain": [
       "'FILE_NAMES = [\\'negativesentences.txt\\', \\'neutralsentences.txt\\', \\'positivesentences.txt\\']\\nFILE_NAMES2 = [\\'negative_valence_sentences.txt\\']\\nlabeled_data_sets = []\\n# Give labels to the data, 0 for negatives, 1 for neutrals, 2 for positives.\\nfor i, file_name in enumerate(FILE_NAMES):\\n    lines_dataset = tf.data.TextLineDataset(f\"{train_dir}\\\\{file_name}\")\\n    labeled_dataset = lines_dataset.map(lambda ex: labeler(ex, i))\\n    labeled_data_sets.append(labeled_dataset)\\nlines_dataset = tf.data.TextLineDataset(f\"{train_dir}\\\\negative_valence_sentences.txt\")\\nlabeled_dataset = lines_dataset.map(lambda ex: labeler(ex, 0))\\nlabeled_data_sets.append(labeled_dataset)'"
      ]
     },
     "execution_count": 5,
     "metadata": {},
     "output_type": "execute_result"
    }
   ],
   "source": [
    "\"\"\"FILE_NAMES = ['negativesentences.txt', 'neutralsentences.txt', 'positivesentences.txt']\n",
    "FILE_NAMES2 = ['negative_valence_sentences.txt']\n",
    "labeled_data_sets = []\n",
    "# Give labels to the data, 0 for negatives, 1 for neutrals, 2 for positives.\n",
    "for i, file_name in enumerate(FILE_NAMES):\n",
    "    lines_dataset = tf.data.TextLineDataset(f\"{train_dir}\\\\{file_name}\")\n",
    "    labeled_dataset = lines_dataset.map(lambda ex: labeler(ex, i))\n",
    "    labeled_data_sets.append(labeled_dataset)\n",
    "lines_dataset = tf.data.TextLineDataset(f\"{train_dir}\\\\negative_valence_sentences.txt\")\n",
    "labeled_dataset = lines_dataset.map(lambda ex: labeler(ex, 0))\n",
    "labeled_data_sets.append(labeled_dataset)\"\"\""
   ]
  },
  {
   "cell_type": "code",
   "execution_count": 6,
   "metadata": {},
   "outputs": [],
   "source": [
    "labeled_data_sets = []\n",
    "# Give labels to the data, 0 for negatives, 1 for neutrals, 2 for positives.\n",
    "lines_dataset = tf.data.TextLineDataset(f\"{train_dir}\\\\tmp0.txt\")\n",
    "labeled_dataset = lines_dataset.map(lambda ex: labeler(ex, 0))\n",
    "labeled_data_sets.append(labeled_dataset)\n",
    "lines_dataset = tf.data.TextLineDataset(f\"{train_dir}\\\\tmp1.txt\")\n",
    "labeled_dataset = lines_dataset.map(lambda ex: labeler(ex, 1))\n",
    "labeled_data_sets.append(labeled_dataset)\n",
    "lines_dataset = tf.data.TextLineDataset(f\"{train_dir}\\\\tmp2.txt\")\n",
    "labeled_dataset = lines_dataset.map(lambda ex: labeler(ex, 2))\n",
    "labeled_data_sets.append(labeled_dataset)"
   ]
  },
  {
   "cell_type": "code",
   "execution_count": 7,
   "metadata": {},
   "outputs": [],
   "source": [
    "BUFFER_SIZE = 50000\n",
    "BATCH_SIZE = 32\n",
    "VALIDATION_SIZE = 300\n",
    "VOCAB_SIZE = 35000"
   ]
  },
  {
   "cell_type": "code",
   "execution_count": 8,
   "metadata": {},
   "outputs": [],
   "source": [
    "# concatenate all labeled datasets into one and shuffle\n",
    "all_labeled_data = labeled_data_sets[0]\n",
    "for labeled_dataset in labeled_data_sets[1:]:\n",
    "    all_labeled_data = all_labeled_data.concatenate(labeled_dataset)\n",
    "all_labeled_data = all_labeled_data.shuffle(\n",
    "    BUFFER_SIZE, reshuffle_each_iteration=False)"
   ]
  },
  {
   "cell_type": "code",
   "execution_count": 9,
   "metadata": {},
   "outputs": [
    {
     "name": "stdout",
     "output_type": "stream",
     "text": [
      "Labels are 0 = negative, 1 = neutral, 2 = positive.\n",
      "\n",
      "Sentence:  b'n\\xc3\\xa4inh\\xc3\\xa4n se kannattaa ehdottomasti tehd\\xc3\\xa4!'\n",
      "Label: 2\n",
      "Sentence:  b'ett\\xc3\\xa4 oli sitten vaikka nettiarvion mukaan t\\xc3\\xa4ytt\\xc3\\xa4 tinaa, niin tyytyv\\xc3\\xa4inen olen!'\n",
      "Label: 2\n",
      "Sentence:  b'kyll\\xc3\\xa4 se h\\xc3\\xa4t\\xc3\\xa4 ja puute sek\\xc3\\xa4 vaihtoehtojen puuttuminen sinutkin miesprostituoidulle ajaisi.'\n",
      "Label: 0\n",
      "Sentence:  b'ite oon tota vikaa mua syrjit\\xc3\\xa4\\xc3\\xa4n sen takii..'\n",
      "Label: 0\n",
      "Sentence:  b'ehk\\xc3\\xa4 joku sivumotiivi; mutta mit\\xc3\\xa4 sitten.'\n",
      "Label: 1\n",
      "Sentence:  b'itse k\\xc3\\xa4ytin hepollani tota kun haava kutisi.. '\n",
      "Label: 0\n",
      "Sentence:  b'bulgariassa ihmiset roikkuvat h\\xc3\\xa4nen asuntonsa ikkunoiden takana ottavat kuvia jatkuvasti.'\n",
      "Label: 1\n",
      "Sentence:  b'\"kreationistille em. evojen luoma \"keskustelu\"tilanne on l\\xc3\\xa4hes mahdoton.'\n",
      "Label: 0\n",
      "Sentence:  b'perille uuteen jerusalemiin ja tyhm\\xc3\\xa4t j\\xc3\\xa4\\xc3\\xa4v\\xc3\\xa4t matkalle, kun ei ole valoa y\\xc3\\xb6ss\\xc3\\xa4.'\n",
      "Label: 1\n",
      "Sentence:  b'kehuja ja kiitoksia on aina kiva saada.'\n",
      "Label: 2\n"
     ]
    }
   ],
   "source": [
    "print('Labels are 0 = negative, 1 = neutral, 2 = positive.\\n')\n",
    "for text, label in all_labeled_data.take(10):\n",
    "    print(\"Sentence: \", text.numpy())\n",
    "    print(\"Label:\", label.numpy())"
   ]
  },
  {
   "cell_type": "code",
   "execution_count": 10,
   "metadata": {},
   "outputs": [],
   "source": [
    "tokenizer = tf_text.UnicodeScriptTokenizer()"
   ]
  },
  {
   "cell_type": "code",
   "execution_count": 11,
   "metadata": {},
   "outputs": [
    {
     "name": "stdout",
     "output_type": "stream",
     "text": [
      "WARNING:tensorflow:From C:\\Users\\aapos\\AppData\\Roaming\\Python\\Python37\\site-packages\\tensorflow\\python\\util\\dispatch.py:206: batch_gather (from tensorflow.python.ops.array_ops) is deprecated and will be removed after 2017-10-25.\n",
      "Instructions for updating:\n",
      "`tf.batch_gather` is deprecated, please use `tf.gather` with `batch_dims=-1` instead.\n"
     ]
    }
   ],
   "source": [
    "def tokenize(text, unused_label):\n",
    "    lower_case = tf_text.case_fold_utf8(text)\n",
    "    return tokenizer.tokenize(lower_case)\n",
    "\n",
    "tokenized_ds = all_labeled_data.map(tokenize)"
   ]
  },
  {
   "cell_type": "code",
   "execution_count": 12,
   "metadata": {},
   "outputs": [
    {
     "name": "stdout",
     "output_type": "stream",
     "text": [
      "Tokens:  [b'n\\xc3\\xa4inh\\xc3\\xa4n' b'se' b'kannattaa' b'ehdottomasti'\n",
      " b'tehd\\xc3\\xa4' b'!']\n",
      "Tokens:  [b'ett\\xc3\\xa4' b'oli' b'sitten' b'vaikka' b'nettiarvion' b'mukaan'\n",
      " b't\\xc3\\xa4ytt\\xc3\\xa4' b'tinaa' b',' b'niin' b'tyytyv\\xc3\\xa4inen'\n",
      " b'olen' b'!']\n",
      "Tokens:  [b'kyll\\xc3\\xa4' b'se' b'h\\xc3\\xa4t\\xc3\\xa4' b'ja' b'puute' b'sek\\xc3\\xa4'\n",
      " b'vaihtoehtojen' b'puuttuminen' b'sinutkin' b'miesprostituoidulle'\n",
      " b'ajaisi' b'.']\n",
      "Tokens:  [b'ite' b'oon' b'tota' b'vikaa' b'mua' b'syrjit\\xc3\\xa4\\xc3\\xa4n' b'sen'\n",
      " b'takii' b'..']\n",
      "Tokens:  [b'ehk\\xc3\\xa4' b'joku' b'sivumotiivi' b';' b'mutta' b'mit\\xc3\\xa4'\n",
      " b'sitten' b'.']\n"
     ]
    }
   ],
   "source": [
    "for text_batch in tokenized_ds.take(5):\n",
    "    print(\"Tokens: \", text_batch.numpy())"
   ]
  },
  {
   "cell_type": "code",
   "execution_count": 13,
   "metadata": {},
   "outputs": [],
   "source": [
    "AUTOTUNE = tf.data.AUTOTUNE\n",
    "\n",
    "def configure_dataset(dataset):\n",
    "    return dataset.cache().prefetch(buffer_size=AUTOTUNE)"
   ]
  },
  {
   "cell_type": "code",
   "execution_count": 14,
   "metadata": {},
   "outputs": [
    {
     "name": "stdout",
     "output_type": "stream",
     "text": [
      "Vocab size:  21537\n",
      "First 500 vocab entries: [b'potkimassa', b'autoliikkeiss\\xc3\\xa4', b'marssi', b'rynkyn', b'antaminen', b'pohjapalkan', b'oikeuden', b'erehdys', b'asianosaisen', b'vahingoksi', b'soittimessasi', b'ulosanti', b'moiselle', b'sanattomuus', b'ep\\xc3\\xa4varmuuden', b'tulkintoja', b'tappelee', b'sotii', b'keskenaan', b'tappaen', b'kyl\\xc3\\xa4\\xc3\\xa4', b'rakennettiin', b'nykyisen', b'korut', b'paivassa', b'himaan', b'siella', b'liikkeessa', b'postituskuluja', b'jelppas', b'hassutella', b'sy\\xc3\\xb6tt\\xc3\\xa4en', b'kutitella', b'lapsellisuuksia', b'syyrialaiset', b'erakkoja', b'hamsteriyhdistyksen', b'nuorekas', b'sporttista', b'kaipaava', b'ostaisi', b'vectran', b'sedanin', b'farkun', b'avensiksen', b'multijulkaiseminen', b'arveluttavaa', b'el\\xc3\\xa4m\\xc3\\xa4ll\\xc3\\xa4', b'tero']\n"
     ]
    }
   ],
   "source": [
    "tokenized_ds = configure_dataset(tokenized_ds)\n",
    "\n",
    "vocab_dict = collections.defaultdict(lambda: 0)\n",
    "for toks in tokenized_ds.as_numpy_iterator():\n",
    "    for tok in toks:\n",
    "        vocab_dict[tok] += 1\n",
    "\n",
    "vocab = sorted(vocab_dict.items(), key=lambda x: x[1], reverse=True)\n",
    "vocab = [token for token, count in vocab]\n",
    "vocab = vocab[:VOCAB_SIZE]\n",
    "vocab_size = len(vocab)\n",
    "print(\"Vocab size: \", vocab_size)\n",
    "n = 500\n",
    "print(f\"First {n} vocab entries:\", vocab[-50:-1])"
   ]
  },
  {
   "cell_type": "code",
   "execution_count": 15,
   "metadata": {},
   "outputs": [],
   "source": [
    "keys = vocab\n",
    "values = range(2, len(vocab) + 2)  # reserve 0 for padding, 1 for OOV\n",
    "\n",
    "init = tf.lookup.KeyValueTensorInitializer(\n",
    "    keys, values, key_dtype=tf.string, value_dtype=tf.int64)\n",
    "\n",
    "num_oov_buckets = 1\n",
    "vocab_table = tf.lookup.StaticVocabularyTable(init, num_oov_buckets)"
   ]
  },
  {
   "cell_type": "code",
   "execution_count": 16,
   "metadata": {},
   "outputs": [],
   "source": [
    "def preprocess_text(text, label):\n",
    "    standardized = tf_text.case_fold_utf8(text)\n",
    "    tokenized = tokenizer.tokenize(standardized)\n",
    "    vectorized = vocab_table.lookup(tokenized)\n",
    "    return vectorized, label"
   ]
  },
  {
   "cell_type": "code",
   "execution_count": 17,
   "metadata": {},
   "outputs": [
    {
     "name": "stdout",
     "output_type": "stream",
     "text": [
      "Sentence:  b'n\\xc3\\xa4inh\\xc3\\xa4n se kannattaa ehdottomasti tehd\\xc3\\xa4!'\n",
      "Vectorized sentence:  [1529    8  163  816  132   10]\n"
     ]
    }
   ],
   "source": [
    "example_text, example_label = next(iter(all_labeled_data))\n",
    "print(\"Sentence: \", example_text.numpy())\n",
    "vectorized_text, example_label = preprocess_text(example_text, example_label)\n",
    "print(\"Vectorized sentence: \", vectorized_text.numpy())"
   ]
  },
  {
   "cell_type": "code",
   "execution_count": 18,
   "metadata": {},
   "outputs": [],
   "source": [
    "all_encoded_data = all_labeled_data.map(preprocess_text)\n",
    "\n",
    "train_data = all_encoded_data.skip(VALIDATION_SIZE).shuffle(BUFFER_SIZE)\n",
    "validation_data = all_encoded_data.take(VALIDATION_SIZE)\n",
    "\n",
    "train_data = train_data.padded_batch(BATCH_SIZE)\n",
    "validation_data = validation_data.padded_batch(BATCH_SIZE)"
   ]
  },
  {
   "cell_type": "code",
   "execution_count": 19,
   "metadata": {},
   "outputs": [
    {
     "name": "stdout",
     "output_type": "stream",
     "text": [
      "Text batch shape:  (32, 21)\n",
      "Label batch shape:  (32,)\n",
      "First text example:  tf.Tensor(\n",
      "[1529    8  163  816  132   10    0    0    0    0    0    0    0    0\n",
      "    0    0    0    0    0    0    0], shape=(21,), dtype=int64)\n",
      "First label example:  tf.Tensor(2, shape=(), dtype=int64)\n"
     ]
    }
   ],
   "source": [
    "sample_text, sample_labels = next(iter(validation_data))\n",
    "print(\"Text batch shape: \", sample_text.shape)\n",
    "print(\"Label batch shape: \", sample_labels.shape)\n",
    "print(\"First text example: \", sample_text[0])\n",
    "print(\"First label example: \", sample_labels[0])"
   ]
  },
  {
   "cell_type": "code",
   "execution_count": 20,
   "metadata": {},
   "outputs": [],
   "source": [
    "vocab_size += 2"
   ]
  },
  {
   "cell_type": "code",
   "execution_count": 21,
   "metadata": {},
   "outputs": [],
   "source": [
    "train_data = configure_dataset(train_data)\n",
    "validation_data = configure_dataset(validation_data)"
   ]
  },
  {
   "cell_type": "code",
   "execution_count": 22,
   "metadata": {},
   "outputs": [],
   "source": [
    "def create_model(vocab_size, num_labels):\n",
    "    model = tf.keras.Sequential([\n",
    "        layers.Embedding(vocab_size, 64, embeddings_regularizer=regularizers.l1_l2(l1=1e-5, l2=1e-4), mask_zero=True),\n",
    "        layers.Bidirectional(layers.LSTM(64, return_sequences=True)),\n",
    "        layers.Bidirectional(layers.LSTM(32)),\n",
    "        layers.Dropout(0.20),\n",
    "        layers.Dense(32, kernel_regularizer=regularizers.l1_l2(l1=1e-5, l2=1e-4), activation='relu'),\n",
    "        layers.Dropout(0.20),\n",
    "        layers.Dense(num_labels)\n",
    "  ])\n",
    "    return model"
   ]
  },
  {
   "cell_type": "code",
   "execution_count": 31,
   "metadata": {
    "pycharm": {
     "name": "#%%\n"
    }
   },
   "outputs": [
    {
     "name": "stdout",
     "output_type": "stream",
     "text": [
      "Model: \"sequential_2\"\n",
      "_________________________________________________________________\n",
      "Layer (type)                 Output Shape              Param #   \n",
      "=================================================================\n",
      "embedding_1 (Embedding)      (None, None, 64)          1378496   \n",
      "_________________________________________________________________\n",
      "bidirectional_2 (Bidirection (None, None, 128)         66048     \n",
      "_________________________________________________________________\n",
      "bidirectional_3 (Bidirection (None, 64)                41216     \n",
      "_________________________________________________________________\n",
      "dropout_2 (Dropout)          (None, 64)                0         \n",
      "_________________________________________________________________\n",
      "dense_2 (Dense)              (None, 32)                2080      \n",
      "_________________________________________________________________\n",
      "dropout_3 (Dropout)          (None, 32)                0         \n",
      "_________________________________________________________________\n",
      "dense_3 (Dense)              (None, 3)                 99        \n",
      "=================================================================\n",
      "Total params: 1,487,939\n",
      "Trainable params: 1,487,939\n",
      "Non-trainable params: 0\n",
      "_________________________________________________________________\n",
      "Epoch 1/15\n",
      "190/190 [==============================] - 29s 82ms/step - loss: 1.4133 - accuracy: 0.3933 - val_loss: 1.2884 - val_accuracy: 0.3967\n",
      "Epoch 2/15\n",
      "190/190 [==============================] - 11s 56ms/step - loss: 1.2114 - accuracy: 0.4189 - val_loss: 1.1387 - val_accuracy: 0.4167\n",
      "Epoch 3/15\n",
      "190/190 [==============================] - 11s 56ms/step - loss: 1.0460 - accuracy: 0.5062 - val_loss: 1.0108 - val_accuracy: 0.5767\n",
      "Epoch 4/15\n",
      "190/190 [==============================] - 10s 53ms/step - loss: 0.8793 - accuracy: 0.6128 - val_loss: 0.9537 - val_accuracy: 0.5833\n",
      "Epoch 5/15\n",
      "190/190 [==============================] - 10s 54ms/step - loss: 0.7510 - accuracy: 0.6928 - val_loss: 0.9471 - val_accuracy: 0.5933\n",
      "Epoch 6/15\n",
      "190/190 [==============================] - 10s 53ms/step - loss: 0.6135 - accuracy: 0.7715 - val_loss: 1.0379 - val_accuracy: 0.5800\n",
      "Epoch 7/15\n",
      "190/190 [==============================] - 10s 54ms/step - loss: 0.4887 - accuracy: 0.8428 - val_loss: 1.1928 - val_accuracy: 0.5733\n",
      "Epoch 8/15\n",
      "190/190 [==============================] - 11s 56ms/step - loss: 0.3752 - accuracy: 0.9001 - val_loss: 1.3992 - val_accuracy: 0.5767\n",
      "Epoch 9/15\n",
      "190/190 [==============================] - 10s 52ms/step - loss: 0.2895 - accuracy: 0.9380 - val_loss: 1.5846 - val_accuracy: 0.5767\n",
      "Epoch 10/15\n",
      "190/190 [==============================] - 10s 54ms/step - loss: 0.2266 - accuracy: 0.9628 - val_loss: 1.8158 - val_accuracy: 0.6033\n",
      "Epoch 11/15\n",
      "190/190 [==============================] - 11s 59ms/step - loss: 0.1888 - accuracy: 0.9726 - val_loss: 1.9075 - val_accuracy: 0.6000\n",
      "Epoch 12/15\n",
      "190/190 [==============================] - 10s 55ms/step - loss: 0.1689 - accuracy: 0.9788 - val_loss: 2.0880 - val_accuracy: 0.5633\n",
      "Epoch 13/15\n",
      "190/190 [==============================] - 10s 55ms/step - loss: 0.1408 - accuracy: 0.9853 - val_loss: 2.2806 - val_accuracy: 0.5733\n",
      "Epoch 14/15\n",
      "190/190 [==============================] - 11s 56ms/step - loss: 0.1244 - accuracy: 0.9899 - val_loss: 2.3878 - val_accuracy: 0.5800\n",
      "Epoch 15/15\n",
      "190/190 [==============================] - 10s 53ms/step - loss: 0.1113 - accuracy: 0.9917 - val_loss: 2.4994 - val_accuracy: 0.5900\n"
     ]
    }
   ],
   "source": [
    "model = create_model(vocab_size=vocab_size, num_labels=3)\n",
    "model.summary()\n",
    "early_stop = callbacks.EarlyStopping(monitor='val_accuracy', patience=15)\n",
    "model.compile(\n",
    "    optimizer=tf.keras.optimizers.Adam(1e-4),\n",
    "    loss=losses.SparseCategoricalCrossentropy(from_logits=True),\n",
    "    metrics=['accuracy'])\n",
    "history = model.fit(train_data, validation_data=validation_data, callbacks=[early_stop], epochs=15)\n",
    "model.save('model/first.h5')"
   ]
  },
  {
   "cell_type": "code",
   "execution_count": 32,
   "metadata": {
    "pycharm": {
     "name": "#%%\n"
    }
   },
   "outputs": [
    {
     "name": "stdout",
     "output_type": "stream",
     "text": [
      "10/10 [==============================] - 1s 18ms/step - loss: 2.4994 - accuracy: 0.5900\n",
      "Test Loss: 2.4994375705718994\n",
      "Test Accuracy: 0.5899999737739563\n"
     ]
    }
   ],
   "source": [
    "test_loss, test_acc = model.evaluate(validation_data)\n",
    "\n",
    "print('Test Loss:', test_loss)\n",
    "print('Test Accuracy:', test_acc)"
   ]
  },
  {
   "cell_type": "code",
   "execution_count": 25,
   "metadata": {
    "pycharm": {
     "name": "#%%\n"
    }
   },
   "outputs": [
    {
     "data": {
      "image/png": "[encoded data removed]",
      "text/plain": [
       "<Figure size 1152x432 with 2 Axes>"
      ]
     },
     "metadata": {
      "needs_background": "light"
     },
     "output_type": "display_data"
    }
   ],
   "source": [
    "plt.figure(figsize=(16, 6))\n",
    "plt.subplot(1, 2, 1)\n",
    "plot_graphs(history, 'accuracy')\n",
    "plt.subplot(1, 2, 2)\n",
    "plot_graphs(history, 'loss')"
   ]
  },
  {
   "cell_type": "code",
   "execution_count": 26,
   "metadata": {},
   "outputs": [],
   "source": [
    "MAX_SEQUENCE_LENGTH = 250\n",
    "preprocess_layer = TextVectorization(\n",
    "    max_tokens=vocab_size,\n",
    "    standardize=tf_text.case_fold_utf8,\n",
    "    split=tokenizer.tokenize,\n",
    "    output_mode='int',\n",
    "    output_sequence_length=MAX_SEQUENCE_LENGTH)\n",
    "preprocess_layer.set_vocabulary(vocab)"
   ]
  },
  {
   "cell_type": "code",
   "execution_count": 27,
   "metadata": {},
   "outputs": [],
   "source": [
    "export_model = tf.keras.Sequential(\n",
    "    [preprocess_layer, model,\n",
    "     layers.Activation('softmax')])\n",
    "\n",
    "export_model.compile(\n",
    "    loss=losses.SparseCategoricalCrossentropy(from_logits=False),\n",
    "    optimizer='adam',\n",
    "    metrics=['accuracy'])"
   ]
  },
  {
   "cell_type": "code",
   "execution_count": 28,
   "metadata": {},
   "outputs": [
    {
     "name": "stdout",
     "output_type": "stream",
     "text": [
      "10/10 [==============================] - 16s 38ms/step - loss: 0.9660 - accuracy: 0.5833\n",
      "Loss:  0.9659698605537415\n",
      "Accuracy: 58.33%\n"
     ]
    }
   ],
   "source": [
    "# Create a test dataset of raw strings\n",
    "test_ds = all_labeled_data.take(VALIDATION_SIZE).batch(BATCH_SIZE)\n",
    "test_ds = configure_dataset(test_ds)\n",
    "loss, accuracy = export_model.evaluate(test_ds)\n",
    "print(\"Loss: \", loss)\n",
    "print(f\"Accuracy: {accuracy:2.2%}\")"
   ]
  },
  {
   "cell_type": "code",
   "execution_count": 29,
   "metadata": {},
   "outputs": [
    {
     "name": "stdout",
     "output_type": "stream",
     "text": [
      "[[0.32506016 0.6733861  0.0015537 ]\n",
      " [0.4231966  0.5722146  0.00458878]\n",
      " [0.12928739 0.07108957 0.7996231 ]]\n",
      "Question:  Saatanan paskiaiset eikö teillä Vimpeliläisillä ole muuta kuin paskaa jauhaa jostain teidän etujen puolustajajasta.\n",
      "Predicted label:  1\n",
      "Question:  Kela hyväksyy vesimenot 20,60 euroon asti kuussa per asukas asuinpaikasta riippumatta. \n",
      "Predicted label:  1\n",
      "Question:  Sä oot mulle niin tärkeä ja rakas!\n",
      "Predicted label:  2\n"
     ]
    }
   ],
   "source": [
    "inputs = [\n",
    "    \"Saatanan paskiaiset eikö teillä Vimpeliläisillä ole muuta kuin paskaa jauhaa jostain teidän etujen puolustajajasta.\",  # Label: 0\n",
    "    \"Kela hyväksyy vesimenot 20,60 euroon asti kuussa per asukas asuinpaikasta riippumatta. \",  # Label: 1\n",
    "    \"Sä oot mulle niin tärkeä ja rakas!\"  # Label: 2\n",
    "]\n",
    "predicted_scores = export_model.predict(inputs)\n",
    "print(predicted_scores)\n",
    "predicted_labels = tf.argmax(predicted_scores, axis=1)\n",
    "for input, label in zip(inputs, predicted_labels):\n",
    "    print(\"Question: \", input)\n",
    "    print(\"Predicted label: \", label.numpy())"
   ]
  },
  {
   "cell_type": "code",
   "execution_count": 30,
   "metadata": {},
   "outputs": [
    {
     "name": "stdout",
     "output_type": "stream",
     "text": [
      "Question:  Alkaa vituttamaan nuo saatanan rengasmainokset, jotka pomppii koko ajan silmille.\n",
      "Predicted label:  1\n",
      "Question:  Joka vitun asiassa ne vaan ajattelee seksiä ja haluaa vaan sitä.\n",
      "Predicted label:  1\n",
      "Question:  Mitä olit niin itserakas, nyt se sitten on mennyt päähäsi!\n",
      "Predicted label:  0\n",
      "Question:  Huumekuolemat johtuvat lähes poikkeuksetta ylianostuksista ja nekin kovien huumeiden kyseessäollen.\n",
      "Predicted label:  0\n",
      "Question:  Presidenttihän ei saa edustaa omaa poliittista vakaumustaan.\n",
      "Predicted label:  0\n",
      "Question:  Lopulta voi käydä myös niin, että vaikka olettekin olleet yhdessä ja nauttineet keskenänne paljosta rakkaudesta, te ette ole enää oikeita kumppaneita seuraavaa vaihetta varten.Tänäänkin kaipaan kainaloa, hymyäsi ja ennenkaikkea halaustasi pusuista puhumattakaan.\n",
      "Predicted label:  1\n",
      "Question:  Saan rakastella ja rakastaa häntä jälleen, Laitan hyvää ruokaa ja hieron hartioita.\n",
      "Predicted label:  2\n",
      "Question:  Hyvää syksynjatkoa kaikille lukijoilleni ja kiitos kommenteistanne.\n",
      "Predicted label:  2\n"
     ]
    }
   ],
   "source": [
    "inputs = [\n",
    "    \"Alkaa vituttamaan nuo saatanan rengasmainokset, jotka pomppii koko ajan silmille.\", # Label: 0\n",
    "    \"Joka vitun asiassa ne vaan ajattelee seksiä ja haluaa vaan sitä.\", # Label: 0\n",
    "    \"Mitä olit niin itserakas, nyt se sitten on mennyt päähäsi!\", # Label: 0\n",
    "    \"Huumekuolemat johtuvat lähes poikkeuksetta ylianostuksista ja nekin kovien huumeiden kyseessäollen.\", # Label: 1\n",
    "    \"Presidenttihän ei saa edustaa omaa poliittista vakaumustaan.\",  # Label: 1\n",
    "    \"Lopulta voi käydä myös niin, että vaikka olettekin olleet yhdessä ja nauttineet keskenänne paljosta rakkaudesta,\" \\\n",
    "\" te ette ole enää oikeita kumppaneita seuraavaa vaihetta varten.\" # Label: 1\n",
    "    \"Tänäänkin kaipaan kainaloa, hymyäsi ja ennenkaikkea halaustasi pusuista puhumattakaan.\",  # Label: 2\n",
    "    \"Saan rakastella ja rakastaa häntä jälleen, Laitan hyvää ruokaa ja hieron hartioita.\", # Label: 2\n",
    "    \"Hyvää syksynjatkoa kaikille lukijoilleni ja kiitos kommenteistanne.\" # Label: 2    \n",
    "]\n",
    "predicted_scores = export_model.predict(inputs)\n",
    "predicted_labels = tf.argmax(predicted_scores, axis=1)\n",
    "for input, label in zip(inputs, predicted_labels):\n",
    "  print(\"Question: \", input)\n",
    "  print(\"Predicted label: \", label.numpy())"
   ]
  },
  {
   "cell_type": "code",
   "execution_count": null,
   "metadata": {},
   "outputs": [],
   "source": []
  }
 ],
 "metadata": {
  "kernelspec": {
   "display_name": "Python 3",
   "language": "python",
   "name": "python3"
  },
  "language_info": {
   "codemirror_mode": {
    "name": "ipython",
    "version": 3
   },
   "file_extension": ".py",
   "mimetype": "text/x-python",
   "name": "python",
   "nbconvert_exporter": "python",
   "pygments_lexer": "ipython3",
   "version": "3.7.10"
  }
 },
 "nbformat": 4,
 "nbformat_minor": 4
}
