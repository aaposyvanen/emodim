{
 "cells": [
  {
   "cell_type": "code",
   "execution_count": 1,
   "metadata": {
    "pycharm": {
     "name": "#%%\n"
    },
    "tags": []
   },
   "outputs": [],
   "source": [
    "import collections\n",
    "import numpy as np\n",
    "import tensorflow as tf\n",
    "from tensorflow.keras import layers\n",
    "from tensorflow.keras import losses\n",
    "from tensorflow.keras import preprocessing\n",
    "from tensorflow.keras import utils\n",
    "from tensorflow.keras import regularizers\n",
    "from tensorflow.keras import optimizers\n",
    "from tensorflow.keras import callbacks\n",
    "import tensorflow_text as tf_text\n",
    "\n",
    "from tensorflow.keras.layers.experimental.preprocessing import TextVectorization\n",
    "import os\n",
    "# os.environ['CUDA_VISIBLE_DEVICES'] = '-1'"
   ]
  },
  {
   "cell_type": "code",
   "execution_count": 2,
   "metadata": {
    "pycharm": {
     "name": "#%%\n"
    }
   },
   "outputs": [],
   "source": [
    "import matplotlib.pyplot as plt\n",
    "\n",
    "\n",
    "def plot_graphs(history, metric):\n",
    "    plt.plot(history.history[metric])\n",
    "    plt.plot(history.history['val_' + metric], '')\n",
    "    plt.xlabel(\"Epochs\")\n",
    "    plt.ylabel(metric)\n",
    "    plt.legend([metric, 'val_' + metric])"
   ]
  },
  {
   "cell_type": "code",
   "execution_count": 3,
   "metadata": {
    "pycharm": {
     "name": "#%%\n"
    }
   },
   "outputs": [],
   "source": [
    "dataset_dir = '..\\\\data'\n",
    "train_dir = f\"{dataset_dir}\\\\tr\"\n",
    "batch_size = 32\n",
    "seed = 42"
   ]
  },
  {
   "cell_type": "code",
   "execution_count": 4,
   "metadata": {},
   "outputs": [],
   "source": [
    "def labeler(example, index):\n",
    "    return example, tf.cast(index, tf.int64)"
   ]
  },
  {
   "cell_type": "code",
   "execution_count": 5,
   "metadata": {},
   "outputs": [],
   "source": [
    "FILE_NAMES = ['negativesentences.txt', 'neutralsentences.txt', 'positivesentences.txt']\n",
    "labeled_data_sets = []\n",
    "# Give labels to the data, 0 for negatives, 1 for neutrals, 2 for positives.\n",
    "for i, file_name in enumerate(FILE_NAMES):\n",
    "    lines_dataset = tf.data.TextLineDataset(f\"{train_dir}\\\\{file_name}\")\n",
    "    labeled_dataset = lines_dataset.map(lambda ex: labeler(ex, i))\n",
    "    labeled_data_sets.append(labeled_dataset)"
   ]
  },
  {
   "cell_type": "code",
   "execution_count": 6,
   "metadata": {},
   "outputs": [],
   "source": [
    "BUFFER_SIZE = 50000\n",
    "BATCH_SIZE = 32\n",
    "VALIDATION_SIZE = 5000\n",
    "VOCAB_SIZE = 35000"
   ]
  },
  {
   "cell_type": "code",
   "execution_count": 7,
   "metadata": {},
   "outputs": [],
   "source": [
    "# concatenate all labeled datasets into one and shuffle\n",
    "all_labeled_data = labeled_data_sets[0]\n",
    "for labeled_dataset in labeled_data_sets[1:]:\n",
    "    all_labeled_data = all_labeled_data.concatenate(labeled_dataset)\n",
    "all_labeled_data = all_labeled_data.shuffle(\n",
    "    BUFFER_SIZE, reshuffle_each_iteration=False)"
   ]
  },
  {
   "cell_type": "code",
   "execution_count": 8,
   "metadata": {},
   "outputs": [
    {
     "name": "stdout",
     "output_type": "stream",
     "text": [
      "Labels are 0 = negative, 1 = neutral, 2 = positive.\n",
      "\n",
      "Sentence:  b'Itku on ollut pinnassa.'\n",
      "Label: 0\n",
      "Sentence:  b'v: 2008 oikeuteen meni jopa kymmeni\\xc3\\xa4 nettirikos tapauksia'\n",
      "Label: 1\n",
      "Sentence:  b'Tarkoitan, ett\\xc3\\xa4 jos h\\xc3\\xa4n haluaakin pit\\xc3\\xa4\\xc3\\xa4 tiukempaa kuria, kuin mihin ollaan totuttu.'\n",
      "Label: 1\n",
      "Sentence:  b'Ja turpiin kunnolla...'\n",
      "Label: 0\n",
      "Sentence:  b'Siin\\xc3\\xa4 oli sellanen naru kiinni, mutta se nyt sy\\xc3\\xb6tiin minuutissa...'\n",
      "Label: 1\n",
      "Sentence:  b'Ongelma on se ett\\xc3\\xa4 alle 300 e t\\xc3\\xa4st\\xc3\\xa4 summasta puuttuu ja t\\xc3\\xa4t\\xc3\\xa4 varten olen suunnitellut _alustavasti_ anoa jonkinlaisen kulutusluoton tai vipin.'\n",
      "Label: 1\n",
      "Sentence:  b'Mik\\xc3\\xa4 miehi\\xc3\\xa4 vaivaa?'\n",
      "Label: 1\n",
      "Sentence:  b'No t\\xc3\\xa4ss\\xc3\\xa4 aika vasta ajattelin v\\xc3\\xa4h\\xc3\\xa4 \"yll\\xc3\\xa4tt\\xc3\\xa4\\xc3\\xa4\" poikakaverini..'\n",
      "Label: 1\n",
      "Sentence:  b'Jopas sit\\xc3\\xa4 on Tepi-boy pahasti sekaisin viikon Alppi-tourin j\\xc3\\xa4lkeen et sillei hei!'\n",
      "Label: 0\n",
      "Sentence:  b'meil on sheltti ja se ei todellakaan oo pid\\xc3\\xa4ttyv\\xc3\\xa4inen vieraita kohtaa...kaikki varotteli sillon ku me se otettii et sheltit on pid\\xc3\\xa4ttyv\\xc3\\xa4it vierait kohtaa jne jne...mut toi on tosi sosiialinen koira...'\n",
      "Label: 1\n"
     ]
    }
   ],
   "source": [
    "print('Labels are 0 = negative, 1 = neutral, 2 = positive.\\n')\n",
    "for text, label in all_labeled_data.take(10):\n",
    "    print(\"Sentence: \", text.numpy())\n",
    "    print(\"Label:\", label.numpy())"
   ]
  },
  {
   "cell_type": "code",
   "execution_count": 9,
   "metadata": {},
   "outputs": [],
   "source": [
    "tokenizer = tf_text.UnicodeScriptTokenizer()"
   ]
  },
  {
   "cell_type": "code",
   "execution_count": 10,
   "metadata": {},
   "outputs": [
    {
     "name": "stdout",
     "output_type": "stream",
     "text": [
      "WARNING:tensorflow:From C:\\Users\\aapos\\AppData\\Roaming\\Python\\Python37\\site-packages\\tensorflow\\python\\util\\dispatch.py:206: batch_gather (from tensorflow.python.ops.array_ops) is deprecated and will be removed after 2017-10-25.\n",
      "Instructions for updating:\n",
      "`tf.batch_gather` is deprecated, please use `tf.gather` with `batch_dims=-1` instead.\n"
     ]
    }
   ],
   "source": [
    "def tokenize(text, unused_label):\n",
    "    lower_case = tf_text.case_fold_utf8(text)\n",
    "    return tokenizer.tokenize(lower_case)\n",
    "\n",
    "tokenized_ds = all_labeled_data.map(tokenize)"
   ]
  },
  {
   "cell_type": "code",
   "execution_count": 11,
   "metadata": {},
   "outputs": [
    {
     "name": "stdout",
     "output_type": "stream",
     "text": [
      "Tokens:  [b'itku' b'on' b'ollut' b'pinnassa' b'.']\n",
      "Tokens:  [b'v' b':2008' b'oikeuteen' b'meni' b'jopa' b'kymmeni\\xc3\\xa4'\n",
      " b'nettirikos' b'tapauksia']\n",
      "Tokens:  [b'tarkoitan' b',' b'ett\\xc3\\xa4' b'jos' b'h\\xc3\\xa4n' b'haluaakin'\n",
      " b'pit\\xc3\\xa4\\xc3\\xa4' b'tiukempaa' b'kuria' b',' b'kuin' b'mihin'\n",
      " b'ollaan' b'totuttu' b'.']\n",
      "Tokens:  [b'ja' b'turpiin' b'kunnolla' b'...']\n",
      "Tokens:  [b'siin\\xc3\\xa4' b'oli' b'sellanen' b'naru' b'kiinni' b',' b'mutta' b'se'\n",
      " b'nyt' b'sy\\xc3\\xb6tiin' b'minuutissa' b'...']\n"
     ]
    }
   ],
   "source": [
    "for text_batch in tokenized_ds.take(5):\n",
    "    print(\"Tokens: \", text_batch.numpy())"
   ]
  },
  {
   "cell_type": "code",
   "execution_count": 12,
   "metadata": {},
   "outputs": [],
   "source": [
    "AUTOTUNE = tf.data.AUTOTUNE\n",
    "\n",
    "def configure_dataset(dataset):\n",
    "    return dataset.cache().prefetch(buffer_size=AUTOTUNE)"
   ]
  },
  {
   "cell_type": "code",
   "execution_count": 13,
   "metadata": {},
   "outputs": [
    {
     "name": "stdout",
     "output_type": "stream",
     "text": [
      "Vocab size:  35000\n",
      "First 500 vocab entries: [b'kokoomusm\\xc3\\xa4t\\xc3\\xa4', b'tuhoava', b'harhainen', b'l\\xc3\\xa4pl\\xc3\\xa4p', b'spekuloiminen', b'ajanviete', b'ty\\xc3\\xb6llistyminen', b'ihanteella', b'ihanteilla', b'bodyguard', b'assassin', b'koodinimi', b'googlasin', b'taustoittamaan', b'kapinallinen', b'ep\\xc3\\xa4r\\xc3\\xb6i', b'politrukin', b'nagan', b'kuivasti', b'pakeneminenb', b'siamilainen', b'persialainen', b'lyhytkarva', b'abessinialainen', b'keputorvelo', b'kerrattain', b'vaalikauden', b'kuljetusta', b'kent\\xc3\\xa4lle', b'potentiaalinen', b'harjoittamaa', b'laintynk\\xc3\\xa4\\xc3\\xa4', b'tapauksiin', b'kaivelen', b'((', b'fgetc', b'sorsa', b'))!=', b'eof', b'=~', b'fputc', b'krypt', b');}', b'm\\xc3\\xa4kihyppy', b'130,', b'innsbruck', b'aut', b'1=', b'schmitt']\n"
     ]
    }
   ],
   "source": [
    "tokenized_ds = configure_dataset(tokenized_ds)\n",
    "\n",
    "vocab_dict = collections.defaultdict(lambda: 0)\n",
    "for toks in tokenized_ds.as_numpy_iterator():\n",
    "    for tok in toks:\n",
    "        vocab_dict[tok] += 1\n",
    "\n",
    "vocab = sorted(vocab_dict.items(), key=lambda x: x[1], reverse=True)\n",
    "vocab = [token for token, count in vocab]\n",
    "vocab = vocab[:VOCAB_SIZE]\n",
    "vocab_size = len(vocab)\n",
    "print(\"Vocab size: \", vocab_size)\n",
    "n = 500\n",
    "print(f\"First {n} vocab entries:\", vocab[-50:-1])"
   ]
  },
  {
   "cell_type": "code",
   "execution_count": 14,
   "metadata": {},
   "outputs": [],
   "source": [
    "keys = vocab\n",
    "values = range(2, len(vocab) + 2)  # reserve 0 for padding, 1 for OOV\n",
    "\n",
    "init = tf.lookup.KeyValueTensorInitializer(\n",
    "    keys, values, key_dtype=tf.string, value_dtype=tf.int64)\n",
    "\n",
    "num_oov_buckets = 1\n",
    "vocab_table = tf.lookup.StaticVocabularyTable(init, num_oov_buckets)"
   ]
  },
  {
   "cell_type": "code",
   "execution_count": 15,
   "metadata": {},
   "outputs": [],
   "source": [
    "def preprocess_text(text, label):\n",
    "    standardized = tf_text.case_fold_utf8(text)\n",
    "    tokenized = tokenizer.tokenize(standardized)\n",
    "    vectorized = vocab_table.lookup(tokenized)\n",
    "    return vectorized, label"
   ]
  },
  {
   "cell_type": "code",
   "execution_count": 16,
   "metadata": {},
   "outputs": [
    {
     "name": "stdout",
     "output_type": "stream",
     "text": [
      "Sentence:  b'Itku on ollut pinnassa.'\n",
      "Vectorized sentence:  [2642    5   57 7958    2]\n"
     ]
    }
   ],
   "source": [
    "example_text, example_label = next(iter(all_labeled_data))\n",
    "print(\"Sentence: \", example_text.numpy())\n",
    "vectorized_text, example_label = preprocess_text(example_text, example_label)\n",
    "print(\"Vectorized sentence: \", vectorized_text.numpy())"
   ]
  },
  {
   "cell_type": "code",
   "execution_count": 17,
   "metadata": {},
   "outputs": [],
   "source": [
    "all_encoded_data = all_labeled_data.map(preprocess_text)\n",
    "\n",
    "train_data = all_encoded_data.skip(VALIDATION_SIZE).shuffle(BUFFER_SIZE)\n",
    "validation_data = all_encoded_data.take(VALIDATION_SIZE)\n",
    "\n",
    "train_data = train_data.padded_batch(BATCH_SIZE)\n",
    "validation_data = validation_data.padded_batch(BATCH_SIZE)"
   ]
  },
  {
   "cell_type": "code",
   "execution_count": 18,
   "metadata": {},
   "outputs": [
    {
     "name": "stdout",
     "output_type": "stream",
     "text": [
      "Text batch shape:  (32, 35)\n",
      "Label batch shape:  (32,)\n",
      "First text example:  tf.Tensor(\n",
      "[2642    5   57 7958    2    0    0    0    0    0    0    0    0    0\n",
      "    0    0    0    0    0    0    0    0    0    0    0    0    0    0\n",
      "    0    0    0    0    0    0    0], shape=(35,), dtype=int64)\n",
      "First label example:  tf.Tensor(0, shape=(), dtype=int64)\n"
     ]
    }
   ],
   "source": [
    "sample_text, sample_labels = next(iter(validation_data))\n",
    "print(\"Text batch shape: \", sample_text.shape)\n",
    "print(\"Label batch shape: \", sample_labels.shape)\n",
    "print(\"First text example: \", sample_text[0])\n",
    "print(\"First label example: \", sample_labels[0])"
   ]
  },
  {
   "cell_type": "code",
   "execution_count": 19,
   "metadata": {},
   "outputs": [],
   "source": [
    "vocab_size += 2"
   ]
  },
  {
   "cell_type": "code",
   "execution_count": 20,
   "metadata": {},
   "outputs": [],
   "source": [
    "train_data = configure_dataset(train_data)\n",
    "validation_data = configure_dataset(validation_data)"
   ]
  },
  {
   "cell_type": "code",
   "execution_count": 21,
   "metadata": {},
   "outputs": [],
   "source": [
    "def create_model(vocab_size, num_labels):\n",
    "    model = tf.keras.Sequential([\n",
    "        layers.Embedding(vocab_size, 64, embeddings_regularizer=regularizers.l1_l2(l1=1e-5, l2=1e-4), mask_zero=True),\n",
    "        layers.Bidirectional(layers.LSTM(64, return_sequences=True)),\n",
    "        layers.Bidirectional(layers.LSTM(32)),\n",
    "        layers.Dropout(0.5),\n",
    "        layers.Dense(32, kernel_regularizer=regularizers.l1_l2(l1=1e-5, l2=1e-4), activation='relu'),\n",
    "        layers.Dropout(0.5),\n",
    "        layers.Dense(num_labels)\n",
    "  ])\n",
    "    return model"
   ]
  },
  {
   "cell_type": "code",
   "execution_count": 22,
   "metadata": {
    "pycharm": {
     "name": "#%%\n"
    }
   },
   "outputs": [
    {
     "name": "stdout",
     "output_type": "stream",
     "text": [
      "Model: \"sequential\"\n",
      "_________________________________________________________________\n",
      "Layer (type)                 Output Shape              Param #   \n",
      "=================================================================\n",
      "embedding (Embedding)        (None, None, 64)          2240128   \n",
      "_________________________________________________________________\n",
      "bidirectional (Bidirectional (None, None, 128)         66048     \n",
      "_________________________________________________________________\n",
      "bidirectional_1 (Bidirection (None, 64)                41216     \n",
      "_________________________________________________________________\n",
      "dropout (Dropout)            (None, 64)                0         \n",
      "_________________________________________________________________\n",
      "dense (Dense)                (None, 32)                2080      \n",
      "_________________________________________________________________\n",
      "dropout_1 (Dropout)          (None, 32)                0         \n",
      "_________________________________________________________________\n",
      "dense_1 (Dense)              (None, 3)                 99        \n",
      "=================================================================\n",
      "Total params: 2,349,571\n",
      "Trainable params: 2,349,571\n",
      "Non-trainable params: 0\n",
      "_________________________________________________________________\n",
      "Epoch 1/15\n",
      "593/593 [==============================] - 104s 115ms/step - loss: 1.1393 - accuracy: 0.7243 - val_loss: 0.8303 - val_accuracy: 0.7354\n",
      "Epoch 2/15\n",
      "593/593 [==============================] - 75s 126ms/step - loss: 0.8035 - accuracy: 0.7362 - val_loss: 0.7381 - val_accuracy: 0.7548\n",
      "Epoch 3/15\n",
      "593/593 [==============================] - 80s 135ms/step - loss: 0.7179 - accuracy: 0.7607 - val_loss: 0.7109 - val_accuracy: 0.7606\n",
      "Epoch 4/15\n",
      "593/593 [==============================] - 62s 105ms/step - loss: 0.6437 - accuracy: 0.7810 - val_loss: 0.7266 - val_accuracy: 0.7582\n"
     ]
    }
   ],
   "source": [
    "model = create_model(vocab_size=vocab_size, num_labels=3)\n",
    "model.summary()\n",
    "early_stop = callbacks.EarlyStopping(monitor='val_loss', patience=1)\n",
    "model.compile(\n",
    "    optimizer=tf.keras.optimizers.Adam(1e-4),\n",
    "    loss=losses.SparseCategoricalCrossentropy(from_logits=True),\n",
    "    metrics=['accuracy'])\n",
    "history = model.fit(train_data, validation_data=validation_data, callbacks=[early_stop], epochs=15)\n",
    "model.save('model/first.h5')"
   ]
  },
  {
   "cell_type": "code",
   "execution_count": 23,
   "metadata": {
    "pycharm": {
     "name": "#%%\n"
    }
   },
   "outputs": [
    {
     "name": "stdout",
     "output_type": "stream",
     "text": [
      "157/157 [==============================] - 7s 35ms/step - loss: 0.7265 - accuracy: 0.7584\n",
      "Test Loss: 0.7264693975448608\n",
      "Test Accuracy: 0.758400022983551\n"
     ]
    }
   ],
   "source": [
    "test_loss, test_acc = model.evaluate(validation_data)\n",
    "\n",
    "print('Test Loss:', test_loss)\n",
    "print('Test Accuracy:', test_acc)"
   ]
  },
  {
   "cell_type": "code",
   "execution_count": 24,
   "metadata": {
    "pycharm": {
     "name": "#%%\n"
    }
   },
   "outputs": [
    {
     "data": {
      "image/png": "[encoded data removed]",
      "text/plain": [
       "<Figure size 1152x432 with 2 Axes>"
      ]
     },
     "metadata": {
      "needs_background": "light"
     },
     "output_type": "display_data"
    }
   ],
   "source": [
    "plt.figure(figsize=(16, 6))\n",
    "plt.subplot(1, 2, 1)\n",
    "plot_graphs(history, 'accuracy')\n",
    "plt.subplot(1, 2, 2)\n",
    "plot_graphs(history, 'loss')"
   ]
  },
  {
   "cell_type": "code",
   "execution_count": 25,
   "metadata": {},
   "outputs": [],
   "source": [
    "MAX_SEQUENCE_LENGTH = 250\n",
    "preprocess_layer = TextVectorization(\n",
    "    max_tokens=vocab_size,\n",
    "    standardize=tf_text.case_fold_utf8,\n",
    "    split=tokenizer.tokenize,\n",
    "    output_mode='int',\n",
    "    output_sequence_length=MAX_SEQUENCE_LENGTH)\n",
    "preprocess_layer.set_vocabulary(vocab)"
   ]
  },
  {
   "cell_type": "code",
   "execution_count": 26,
   "metadata": {},
   "outputs": [],
   "source": [
    "export_model = tf.keras.Sequential(\n",
    "    [preprocess_layer, model,\n",
    "     layers.Activation('softmax')])\n",
    "\n",
    "export_model.compile(\n",
    "    loss=losses.SparseCategoricalCrossentropy(from_logits=False),\n",
    "    optimizer='adam',\n",
    "    metrics=['accuracy'])"
   ]
  },
  {
   "cell_type": "code",
   "execution_count": 27,
   "metadata": {},
   "outputs": [
    {
     "name": "stdout",
     "output_type": "stream",
     "text": [
      "157/157 [==============================] - 31s 57ms/step - loss: 0.7267 - accuracy: 0.7584\n",
      "Loss:  0.7266668677330017\n",
      "Accuracy: 75.84%\n"
     ]
    }
   ],
   "source": [
    "# Create a test dataset of raw strings\n",
    "test_ds = all_labeled_data.take(VALIDATION_SIZE).batch(BATCH_SIZE)\n",
    "test_ds = configure_dataset(test_ds)\n",
    "loss, accuracy = export_model.evaluate(test_ds)\n",
    "print(\"Loss: \", loss)\n",
    "print(\"Accuracy: {:2.2%}\".format(accuracy))"
   ]
  },
  {
   "cell_type": "code",
   "execution_count": 28,
   "metadata": {},
   "outputs": [
    {
     "name": "stdout",
     "output_type": "stream",
     "text": [
      "[[0.2719343  0.5865147  0.14155094]\n",
      " [0.05486251 0.9379933  0.00714426]\n",
      " [0.15935045 0.06238336 0.77826625]]\n",
      "Question:  Saatanan paskiaiset eikö teillä Vimpeliläisillä ole muuta kuin paskaa jauhaa jostain teidän etujen puolustajajasta.\n",
      "Predicted label:  1\n",
      "Question:  Kela hyväksyy vesimenot 20,60 euroon asti kuussa per asukas asuinpaikasta riippumatta. \n",
      "Predicted label:  1\n",
      "Question:  Sä oot mulle niin tärkeä ja rakas!\n",
      "Predicted label:  2\n"
     ]
    }
   ],
   "source": [
    "inputs = [\n",
    "    \"Saatanan paskiaiset eikö teillä Vimpeliläisillä ole muuta kuin paskaa jauhaa jostain teidän etujen puolustajajasta.\",  # Label: 0\n",
    "    \"Kela hyväksyy vesimenot 20,60 euroon asti kuussa per asukas asuinpaikasta riippumatta. \",  # Label: 1\n",
    "    \"Sä oot mulle niin tärkeä ja rakas!\"  # Label: 2\n",
    "]\n",
    "predicted_scores = export_model.predict(inputs)\n",
    "print(predicted_scores)\n",
    "predicted_labels = tf.argmax(predicted_scores, axis=1)\n",
    "for input, label in zip(inputs, predicted_labels):\n",
    "  print(\"Question: \", input)\n",
    "  print(\"Predicted label: \", label.numpy())"
   ]
  },
  {
   "cell_type": "code",
   "execution_count": 29,
   "metadata": {},
   "outputs": [
    {
     "name": "stdout",
     "output_type": "stream",
     "text": [
      "Question:  Alkaa vituttamaan nuo saatanan rengasmainokset, jotka pomppii koko ajan silmille.\n",
      "Predicted label:  2\n",
      "Question:  Joka vitun asiassa ne vaan ajattelee seksiä ja haluaa vaan sitä.\n",
      "Predicted label:  1\n",
      "Question:  Mitä olit niin itserakas, nyt se sitten on mennyt päähäsi!\n",
      "Predicted label:  1\n",
      "Question:  Huumekuolemat johtuvat lähes poikkeuksetta ylianostuksista ja nekin kovien huumeiden kyseessäollen.\n",
      "Predicted label:  1\n",
      "Question:  Presidenttihän ei saa edustaa omaa poliittista vakaumustaan.\n",
      "Predicted label:  1\n",
      "Question:  Lopulta voi käydä myös niin, että vaikka olettekin olleet yhdessä ja nauttineet keskenänne paljosta rakkaudesta, te ette ole enää oikeita kumppaneita seuraavaa vaihetta varten.Tänäänkin kaipaan kainaloa, hymyäsi ja ennenkaikkea halaustasi pusuista puhumattakaan.\n",
      "Predicted label:  1\n",
      "Question:  Saan rakastella ja rakastaa häntä jälleen, Laitan hyvää ruokaa ja hieron hartioita.\n",
      "Predicted label:  2\n",
      "Question:  Hyvää syksynjatkoa kaikille lukijoilleni ja kiitos kommenteistanne.\n",
      "Predicted label:  2\n"
     ]
    }
   ],
   "source": [
    "inputs = [\n",
    "    \"Alkaa vituttamaan nuo saatanan rengasmainokset, jotka pomppii koko ajan silmille.\", # Label: 0\n",
    "    \"Joka vitun asiassa ne vaan ajattelee seksiä ja haluaa vaan sitä.\", # Label: 0\n",
    "    \"Mitä olit niin itserakas, nyt se sitten on mennyt päähäsi!\", # Label: 0\n",
    "    \"Huumekuolemat johtuvat lähes poikkeuksetta ylianostuksista ja nekin kovien huumeiden kyseessäollen.\", # Label: 1\n",
    "    \"Presidenttihän ei saa edustaa omaa poliittista vakaumustaan.\",  # Label: 1\n",
    "    \"Lopulta voi käydä myös niin, että vaikka olettekin olleet yhdessä ja nauttineet keskenänne paljosta rakkaudesta,\" \\\n",
    "\" te ette ole enää oikeita kumppaneita seuraavaa vaihetta varten.\" # Label: 1\n",
    "    \"Tänäänkin kaipaan kainaloa, hymyäsi ja ennenkaikkea halaustasi pusuista puhumattakaan.\",  # Label: 2\n",
    "    \"Saan rakastella ja rakastaa häntä jälleen, Laitan hyvää ruokaa ja hieron hartioita.\", # Label: 2\n",
    "    \"Hyvää syksynjatkoa kaikille lukijoilleni ja kiitos kommenteistanne.\" # Label: 2    \n",
    "]\n",
    "predicted_scores = export_model.predict(inputs)\n",
    "predicted_labels = tf.argmax(predicted_scores, axis=1)\n",
    "for input, label in zip(inputs, predicted_labels):\n",
    "  print(\"Question: \", input)\n",
    "  print(\"Predicted label: \", label.numpy())"
   ]
  },
  {
   "cell_type": "code",
   "execution_count": null,
   "metadata": {},
   "outputs": [],
   "source": []
  }
 ],
 "metadata": {
  "kernelspec": {
   "display_name": "Python 3",
   "language": "python",
   "name": "python3"
  },
  "language_info": {
   "codemirror_mode": {
    "name": "ipython",
    "version": 3
   },
   "file_extension": ".py",
   "mimetype": "text/x-python",
   "name": "python",
   "nbconvert_exporter": "python",
   "pygments_lexer": "ipython3",
   "version": "3.7.10"
  }
 },
 "nbformat": 4,
 "nbformat_minor": 4
}
