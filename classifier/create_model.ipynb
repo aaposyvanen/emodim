{
 "cells": [
  {
   "cell_type": "code",
   "execution_count": 41,
   "metadata": {
    "pycharm": {
     "name": "#%%\n"
    },
    "tags": []
   },
   "outputs": [],
   "source": [
    "import math\n",
    "import random\n",
    "import numpy as np\n",
    "from datetime import datetime\n",
    "import tensorflow as tf\n",
    "from tensorflow.keras import layers\n",
    "from tensorflow.keras import losses\n",
    "from tensorflow.keras import regularizers\n",
    "from tensorflow.keras import optimizers\n",
    "from tensorflow.keras import callbacks\n",
    "\n",
    "from tensorflow.keras.layers.experimental.preprocessing import TextVectorization\n",
    "import os\n",
    "# os.environ['CUDA_VISIBLE_DEVICES'] = '-1'\n",
    "config = tf.compat.v1.ConfigProto()\n",
    "tf.config.list_physical_devices('GPU')\n",
    "\n",
    "config.gpu_options.allow_growth = True\n",
    "session = tf.compat.v1.Session(config=config)"
   ]
  },
  {
   "cell_type": "code",
   "execution_count": 42,
   "metadata": {
    "pycharm": {
     "name": "#%%\n"
    }
   },
   "outputs": [],
   "source": [
    "import matplotlib.pyplot as plt\n",
    "\n",
    "\n",
    "def plot_graphs(history, metric):\n",
    "    plt.plot(history.history[metric])\n",
    "    plt.plot(history.history['val_' + metric], '')\n",
    "    plt.xlabel(\"Epochs\")\n",
    "    plt.ylabel(metric)\n",
    "    plt.legend([metric, 'val_' + metric])"
   ]
  },
  {
   "cell_type": "code",
   "execution_count": 43,
   "metadata": {
    "pycharm": {
     "name": "#%%\n"
    }
   },
   "outputs": [],
   "source": [
    "import os\n",
    "train_dir = f\"{os.getcwd()}\\\\..\\\\data\\\\tr\"\n",
    "batch_size = 32\n",
    "time = datetime.now().strftime(\"%d-%m-%Y_%H-%M-%S\")"
   ]
  },
  {
   "cell_type": "code",
   "execution_count": 44,
   "metadata": {},
   "outputs": [],
   "source": [
    "def labeler(example, index):\n",
    "    return example, tf.cast(index, tf.int64)"
   ]
  },
  {
   "cell_type": "code",
   "execution_count": 45,
   "metadata": {},
   "outputs": [],
   "source": [
    "FILE_NAMES = ['combinedneg.txt', 'combinedneut2.txt', 'combinedpos.txt']\n",
    "labeled_data_sets = []\n",
    "# Give labels to the data, 0 for negatives, 1 for neutrals, 2 for positives.\n",
    "for i, file_name in enumerate(FILE_NAMES):\n",
    "    lines_dataset = tf.data.TextLineDataset(f\"{train_dir}\\\\{file_name}\")\n",
    "    labeled_dataset = lines_dataset.map(lambda ex: labeler(ex, i))\n",
    "    labeled_data_sets.append(labeled_dataset)"
   ]
  },
  {
   "cell_type": "code",
   "execution_count": 46,
   "metadata": {},
   "outputs": [],
   "source": [
    "BUFFER_SIZE = 50000"
   ]
  },
  {
   "cell_type": "code",
   "execution_count": 47,
   "metadata": {},
   "outputs": [],
   "source": [
    "# concatenate all labeled datasets into one and shuffle\n",
    "all_labeled_data = labeled_data_sets[0]\n",
    "for labeled_dataset in labeled_data_sets[1:]:\n",
    "    all_labeled_data = all_labeled_data.concatenate(labeled_dataset)\n",
    "all_labeled_data = all_labeled_data.shuffle(\n",
    "    BUFFER_SIZE, reshuffle_each_iteration=False)"
   ]
  },
  {
   "cell_type": "code",
   "execution_count": 48,
   "metadata": {},
   "outputs": [],
   "source": [
    "DATASET_SIZE = [i for i,_ in enumerate(all_labeled_data)][-1] + 1\n",
    "BATCH_SIZE = 32\n",
    "VALIDATION_SIZE = math.ceil(DATASET_SIZE * 0.1)\n",
    "VOCAB_SIZE = 45000"
   ]
  },
  {
   "cell_type": "code",
   "execution_count": 49,
   "metadata": {},
   "outputs": [
    {
     "name": "stdout",
     "output_type": "stream",
     "text": [
      "Labels are 0 = negative, 1 = neutral, 2 = positive.\n",
      "\n",
      "Sentence:  b'pyyhi ensin leukasi, juoppolalli, ja sitten p\\xc3\\xb6yt\\xc3\\xa4!'\n",
      "Label: 0\n"
     ]
    }
   ],
   "source": [
    "print('Labels are 0 = negative, 1 = neutral, 2 = positive.\\n')\n",
    "for text, label in all_labeled_data.take(1):\n",
    "    print(\"Sentence: \", text.numpy())\n",
    "    print(\"Label:\", label.numpy())"
   ]
  },
  {
   "cell_type": "code",
   "execution_count": 50,
   "metadata": {},
   "outputs": [],
   "source": [
    "train_dataset = all_labeled_data.skip(VALIDATION_SIZE).shuffle(BUFFER_SIZE).batch(BATCH_SIZE).prefetch(tf.data.experimental.AUTOTUNE)\n",
    "test_dataset = all_labeled_data.take(VALIDATION_SIZE).batch(BATCH_SIZE).prefetch(tf.data.experimental.AUTOTUNE)"
   ]
  },
  {
   "cell_type": "code",
   "execution_count": 51,
   "metadata": {},
   "outputs": [
    {
     "name": "stdout",
     "output_type": "stream",
     "text": [
      "texts:  [b'emakothan ovat sateenkaarimets\\xc3\\xa4st\\xc3\\xa4jille inhotus.'\n",
      " b'eik\\xc3\\xb6s ole olemassa jokin logi-tiedosto, miss\\xc3\\xa4 n\\xc3\\xa4kyv\\xc3\\xa4t n\\xc3\\xa4m\\xc3\\xa4 k\\xc3\\xa4ynnistyksen yhteydess\\xc3\\xa4 tapahtuvat toiminnot ja sielt\\xc3\\xa4 voi poistaa jonkun rivin?'\n",
      " b'olen toki puolueellinen, mutta h\\xc3\\xa4n on mielest\\xc3\\xa4ni sangen suloinen neiti.']\n",
      "\n",
      "labels:  [0 1 2]\n",
      "54570 ['' '[UNK]' 'on' 'ja' 'ei' 'se' 'että' 'ole' 'en' 'mutta' 'kun' 'niin'\n",
      " 'jos' 'hän' 'olen' 'oli' 'mitä' 'voi' 'nyt' 'kuin']\n",
      "[[50522    25 27679 46435     0     0     0     0     0     0     0     0\n",
      "      0     0     0     0     0     0     0     0     0]\n",
      " [  857     7   439   572 38779   136  4553   191 40319  1191  4319 23238\n",
      "      3   399    17  3199   329 11829     0     0     0]\n",
      " [   14   298 12201     9    13     2   366  7438  3612   901     0     0\n",
      "      0     0     0     0     0     0     0     0     0]]\n",
      "Original:  b'emakothan ovat sateenkaarimets\\xc3\\xa4st\\xc3\\xa4jille inhotus.'\n",
      "Round-trip:  emakothan ovat sateenkaarimetsästäjille inhotus                 \n",
      "\n",
      "Original:  b'eik\\xc3\\xb6s ole olemassa jokin logi-tiedosto, miss\\xc3\\xa4 n\\xc3\\xa4kyv\\xc3\\xa4t n\\xc3\\xa4m\\xc3\\xa4 k\\xc3\\xa4ynnistyksen yhteydess\\xc3\\xa4 tapahtuvat toiminnot ja sielt\\xc3\\xa4 voi poistaa jonkun rivin?'\n",
      "Round-trip:  eikös ole olemassa jokin logitiedosto missä näkyvät nämä käynnistyksen yhteydessä tapahtuvat toiminnot ja sieltä voi poistaa jonkun rivin   \n",
      "\n",
      "Original:  b'olen toki puolueellinen, mutta h\\xc3\\xa4n on mielest\\xc3\\xa4ni sangen suloinen neiti.'\n",
      "Round-trip:  olen toki puolueellinen mutta hän on mielestäni sangen suloinen neiti           \n",
      "\n"
     ]
    }
   ],
   "source": [
    "for example, label in train_dataset.take(1):\n",
    "    print('texts: ', example.numpy()[:3])\n",
    "    print()\n",
    "    print('labels: ', label.numpy()[:3])\n",
    "encoder = TextVectorization()\n",
    "encoder.adapt(train_dataset.map(lambda text, label: text))\n",
    "vocab = np.array(encoder.get_vocabulary())\n",
    "print(len(vocab), vocab[:20])\n",
    "encoded_example = encoder(example)[:3].numpy()\n",
    "print(encoded_example)\n",
    "for n in range(3):\n",
    "    print(\"Original: \", example[n].numpy())\n",
    "    print(\"Round-trip: \", \" \".join(vocab[encoded_example[n]]))\n",
    "    print()"
   ]
  },
  {
   "cell_type": "code",
   "execution_count": 52,
   "metadata": {},
   "outputs": [],
   "source": [
    "import pickle\n",
    "with open(\"..\\\\data\\\\others\\\\vocab2.pickle\", \"wb\") as output_file:\n",
    "    pickle.dump(vocab, output_file)"
   ]
  },
  {
   "cell_type": "code",
   "execution_count": 53,
   "metadata": {},
   "outputs": [],
   "source": [
    "def create_model(num_labels):\n",
    "    model_layers = tf.keras.Sequential([\n",
    "        encoder,\n",
    "        layers.Embedding(input_dim=len(encoder.get_vocabulary()), output_dim=32, embeddings_regularizer=regularizers.l1_l2(l1=1e-5, l2=1e-4), mask_zero=False),\n",
    "        layers.Bidirectional(layers.LSTM(128, dropout=0.1, return_sequences=True)),\n",
    "        layers.Bidirectional(layers.LSTM(64, dropout=0.1)),\n",
    "        layers.Dropout(0.10),\n",
    "        layers.Dense(64, kernel_regularizer=regularizers.l1_l2(l1=1e-5, l2=1e-4), activation='relu'),\n",
    "        layers.Dropout(0.10),\n",
    "        layers.Dense(num_labels),\n",
    "        layers.Activation('softmax')])\n",
    "    return model_layers"
   ]
  },
  {
   "cell_type": "code",
   "execution_count": 54,
   "metadata": {},
   "outputs": [
    {
     "name": "stdout",
     "output_type": "stream",
     "text": [
      "Epoch 1/30\n",
      "979/979 [==============================] - 33s 27ms/step - loss: 0.9244 - accuracy: 0.5687 - val_loss: 0.8435 - val_accuracy: 0.6309\n",
      "Epoch 2/30\n",
      "979/979 [==============================] - 25s 26ms/step - loss: 0.7510 - accuracy: 0.7011 - val_loss: 0.7757 - val_accuracy: 0.7004\n",
      "Epoch 3/30\n",
      "979/979 [==============================] - 27s 27ms/step - loss: 0.5741 - accuracy: 0.8070 - val_loss: 0.7538 - val_accuracy: 0.7150\n",
      "Epoch 4/30\n",
      "979/979 [==============================] - 26s 26ms/step - loss: 0.4234 - accuracy: 0.8765 - val_loss: 0.8151 - val_accuracy: 0.7219\n",
      "Model: \"sequential_2\"\n",
      "_________________________________________________________________\n",
      "Layer (type)                 Output Shape              Param #   \n",
      "=================================================================\n",
      "text_vectorization_2 (TextVe (None, None)              0         \n",
      "_________________________________________________________________\n",
      "embedding_2 (Embedding)      (None, None, 32)          1746240   \n",
      "_________________________________________________________________\n",
      "bidirectional_4 (Bidirection (None, None, 256)         164864    \n",
      "_________________________________________________________________\n",
      "bidirectional_5 (Bidirection (None, 128)               164352    \n",
      "_________________________________________________________________\n",
      "dropout_4 (Dropout)          (None, 128)               0         \n",
      "_________________________________________________________________\n",
      "dense_4 (Dense)              (None, 64)                8256      \n",
      "_________________________________________________________________\n",
      "dropout_5 (Dropout)          (None, 64)                0         \n",
      "_________________________________________________________________\n",
      "dense_5 (Dense)              (None, 3)                 195       \n",
      "_________________________________________________________________\n",
      "activation_2 (Activation)    (None, 3)                 0         \n",
      "=================================================================\n",
      "Total params: 2,083,907\n",
      "Trainable params: 2,083,907\n",
      "Non-trainable params: 0\n",
      "_________________________________________________________________\n"
     ]
    }
   ],
   "source": [
    "model = create_model(num_labels=3)\n",
    "early_stop = callbacks.EarlyStopping(monitor='val_loss', patience=1)\n",
    "model.compile(\n",
    "    optimizer=optimizers.Adamax(0.005),\n",
    "    loss=losses.SparseCategoricalCrossentropy(from_logits = False),\n",
    "    metrics=['accuracy'])\n",
    "history = model.fit(train_dataset, validation_data=test_dataset, callbacks=[early_stop], epochs=30)\n",
    "model.summary()"
   ]
  },
  {
   "cell_type": "code",
   "execution_count": 55,
   "metadata": {},
   "outputs": [
    {
     "name": "stderr",
     "output_type": "stream",
     "text": [
      "WARNING:absl:Found untraced functions such as lstm_cell_25_layer_call_fn, lstm_cell_25_layer_call_and_return_conditional_losses, lstm_cell_26_layer_call_fn, lstm_cell_26_layer_call_and_return_conditional_losses, lstm_cell_28_layer_call_fn while saving (showing 5 of 20). These functions will not be directly callable after loading.\n"
     ]
    },
    {
     "name": "stdout",
     "output_type": "stream",
     "text": [
      "INFO:tensorflow:Assets written to: model/rnn_18-11-2021_14-29-46\\assets\n"
     ]
    },
    {
     "name": "stderr",
     "output_type": "stream",
     "text": [
      "INFO:tensorflow:Assets written to: model/rnn_18-11-2021_14-29-46\\assets\n"
     ]
    }
   ],
   "source": [
    "model.save(f'model/rnn_{time}')\n",
    "# model.save(f'model/rnn_{time}.h5')"
   ]
  },
  {
   "cell_type": "code",
   "execution_count": 56,
   "metadata": {
    "pycharm": {
     "name": "#%%\n"
    }
   },
   "outputs": [
    {
     "name": "stdout",
     "output_type": "stream",
     "text": [
      "109/109 [==============================] - 2s 15ms/step - loss: 0.8151 - accuracy: 0.7219\n",
      "Test Loss: 0.8151142001152039\n",
      "Test Accuracy: 0.7219190001487732\n"
     ]
    }
   ],
   "source": [
    "test_loss, test_acc = model.evaluate(test_dataset)\n",
    "print('Test Loss:', test_loss)\n",
    "print('Test Accuracy:', test_acc)"
   ]
  },
  {
   "cell_type": "code",
   "execution_count": 57,
   "metadata": {
    "pycharm": {
     "name": "#%%\n"
    }
   },
   "outputs": [
    {
     "data": {
      "image/png": "[encoded data removed]",
      "text/plain": [
       "<Figure size 1152x432 with 2 Axes>"
      ]
     },
     "metadata": {
      "needs_background": "light"
     },
     "output_type": "display_data"
    }
   ],
   "source": [
    "plt.figure(figsize=(16, 6))\n",
    "plt.subplot(1, 2, 1)\n",
    "plot_graphs(history, 'accuracy')\n",
    "plt.subplot(1, 2, 2)\n",
    "plot_graphs(history, 'loss')"
   ]
  },
  {
   "cell_type": "code",
   "execution_count": 58,
   "metadata": {},
   "outputs": [
    {
     "name": "stdout",
     "output_type": "stream",
     "text": [
      "Model: \"sequential_2\"\n",
      "_________________________________________________________________\n",
      "Layer (type)                 Output Shape              Param #   \n",
      "=================================================================\n",
      "text_vectorization_2 (TextVe (None, None)              0         \n",
      "_________________________________________________________________\n",
      "embedding_2 (Embedding)      (None, None, 32)          1746240   \n",
      "_________________________________________________________________\n",
      "bidirectional_4 (Bidirection (None, None, 256)         164864    \n",
      "_________________________________________________________________\n",
      "bidirectional_5 (Bidirection (None, 128)               164352    \n",
      "_________________________________________________________________\n",
      "dropout_4 (Dropout)          (None, 128)               0         \n",
      "_________________________________________________________________\n",
      "dense_4 (Dense)              (None, 64)                8256      \n",
      "_________________________________________________________________\n",
      "dropout_5 (Dropout)          (None, 64)                0         \n",
      "_________________________________________________________________\n",
      "dense_5 (Dense)              (None, 3)                 195       \n",
      "_________________________________________________________________\n",
      "activation_2 (Activation)    (None, 3)                 0         \n",
      "=================================================================\n",
      "Total params: 2,083,907\n",
      "Trainable params: 2,083,907\n",
      "Non-trainable params: 0\n",
      "_________________________________________________________________\n"
     ]
    }
   ],
   "source": [
    "modelpath = f\"model/rnn_{time}\"\n",
    "import_model = tf.keras.models.load_model(modelpath)\n",
    "import_model.summary()"
   ]
  },
  {
   "cell_type": "code",
   "execution_count": 59,
   "metadata": {},
   "outputs": [
    {
     "name": "stdout",
     "output_type": "stream",
     "text": [
      "['Kuten sanot, jumaliin voi vain uskoa. '\n",
      " 'Poikkeilen muiden vaimoilla ja avoilla..ja he minulla. '\n",
      " 'Joku on taas petetty. '\n",
      " 'GM farmiin South West Trade myy tankkia 1800 mk. Sedanista en tiedä, mut soita 036161881. '\n",
      " 'Mulle nyt on ihan sama onko joku homo tai lesbo, en sillaa niitä mitenkään vastusta ja mulle on ihan sama jos ne virallistaa suhteensa, mutta sit mun mielestä menee liian pitkälle jos sitä sanotaan \"avioliitoks\".. ']\n"
     ]
    }
   ],
   "source": [
    "n = 5\n",
    "inputs = []\n",
    "with open(f\"D:\\\\Work\\\\Data\\\\s24_2001_sentences_shuffled_slice.txt\", 'r', encoding='utf-8') as f:\n",
    "    lines = f.readlines()\n",
    "    random.shuffle(lines)\n",
    "    for line in lines:\n",
    "        inputs.append(line.strip('\\n'))\n",
    "inputs = np.array(inputs[:n])\n",
    "print(inputs[:n])"
   ]
  },
  {
   "cell_type": "code",
   "execution_count": 60,
   "metadata": {
    "pycharm": {
     "name": "#%%\n"
    }
   },
   "outputs": [
    {
     "name": "stdout",
     "output_type": "stream",
     "text": [
      "Sentence: Kuten sanot, jumaliin voi vain uskoa. \n",
      "Predicted label: 1\n",
      "Predicted probs: 0.22955, 0.70311, 0.06734\n",
      "\n",
      "Sentence: Poikkeilen muiden vaimoilla ja avoilla..ja he minulla. \n",
      "Predicted label: 0\n",
      "Predicted probs: 0.70347, 0.16232, 0.13421\n",
      "\n",
      "Sentence: Joku on taas petetty. \n",
      "Predicted label: 0\n",
      "Predicted probs: 0.88628, 0.08437, 0.02935\n",
      "\n",
      "Sentence: GM farmiin South West Trade myy tankkia 1800 mk. Sedanista en tiedä, mut soita 036161881. \n",
      "Predicted label: 1\n",
      "Predicted probs: 0.00028, 0.98752, 0.01220\n",
      "\n",
      "Sentence: Mulle nyt on ihan sama onko joku homo tai lesbo, en sillaa niitä mitenkään vastusta ja mulle on ihan sama jos ne virallistaa suhteensa, mutta sit mun mielestä menee liian pitkälle jos sitä sanotaan \"avioliitoks\".. \n",
      "Predicted label: 2\n",
      "Predicted probs: 0.00565, 0.00473, 0.98962\n",
      "\n",
      "['Kuten sanot, jumaliin voi vain uskoa. '\n",
      " 'Poikkeilen muiden vaimoilla ja avoilla..ja he minulla. '\n",
      " 'Joku on taas petetty. '\n",
      " 'GM farmiin South West Trade myy tankkia 1800 mk. Sedanista en tiedä, mut soita 036161881. '\n",
      " 'Mulle nyt on ihan sama onko joku homo tai lesbo, en sillaa niitä mitenkään vastusta ja mulle on ihan sama jos ne virallistaa suhteensa, mutta sit mun mielestä menee liian pitkälle jos sitä sanotaan \"avioliitoks\".. '] \n",
      "\n",
      " ([1, 0, 0, 1, 2], ['0.22955, 0.70311, 0.06734', '0.70347, 0.16232, 0.13421', '0.88628, 0.08437, 0.02935', '0.00028, 0.98752, 0.01220', '0.00565, 0.00473, 0.98962'])\n"
     ]
    }
   ],
   "source": [
    "def make_prediction(inps):\n",
    "    predicted_scores = import_model.predict(np.array(inps))\n",
    "    predicted_labels = tf.argmax(predicted_scores, axis=1)\n",
    "    lab, pred = '', ''\n",
    "    labs, preds = [], []\n",
    "    for i, (inp, label) in enumerate(zip(inputs, predicted_labels)):\n",
    "        pred = (', '.join(f'{q:.5f}' for q in predicted_scores[i]))\n",
    "        lab = label.numpy()\n",
    "        print(f\"Sentence: {inp}\")\n",
    "        print(f\"Predicted label: {lab}\")\n",
    "        print(f\"Predicted probs: {pred}\\n\")\n",
    "        labs.append(lab)\n",
    "        preds.append(pred)\n",
    "    return labs, preds\n",
    "\n",
    "print(np.array(inputs), '\\n\\n', make_prediction(inputs))"
   ]
  },
  {
   "cell_type": "code",
   "execution_count": null,
   "metadata": {},
   "outputs": [],
   "source": []
  }
 ],
 "metadata": {
  "interpreter": {
   "hash": "237bce5360c5e0e5354f24e75ad2e3b478652d8f89bcd8acd21afca887975b40"
  },
  "kernelspec": {
   "display_name": "Python 3.8.11 64-bit ('emodim': conda)",
   "name": "python3"
  },
  "language_info": {
   "codemirror_mode": {
    "name": "ipython",
    "version": 3
   },
   "file_extension": ".py",
   "mimetype": "text/x-python",
   "name": "python",
   "nbconvert_exporter": "python",
   "pygments_lexer": "ipython3",
   "version": "3.8.11"
  }
 },
 "nbformat": 4,
 "nbformat_minor": 4
}
