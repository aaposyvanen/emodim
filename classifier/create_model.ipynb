{
 "cells": [
  {
   "cell_type": "code",
   "execution_count": 72,
   "metadata": {
    "pycharm": {
     "name": "#%%\n"
    },
    "tags": []
   },
   "outputs": [],
   "source": [
    "import math\n",
    "import random\n",
    "import numpy as np\n",
    "from datetime import datetime\n",
    "import tensorflow as tf\n",
    "from tensorflow.keras import layers\n",
    "from tensorflow.keras import losses\n",
    "from tensorflow.keras import regularizers\n",
    "from tensorflow.keras import optimizers\n",
    "from tensorflow.keras import callbacks\n",
    "\n",
    "from tensorflow.keras.layers.experimental.preprocessing import TextVectorization\n",
    "import os\n",
    "# os.environ['CUDA_VISIBLE_DEVICES'] = '-1'\n",
    "config = tf.compat.v1.ConfigProto()\n",
    "tf.config.list_physical_devices('GPU')\n",
    "\n",
    "config.gpu_options.allow_growth = True\n",
    "session = tf.compat.v1.Session(config=config)"
   ]
  },
  {
   "cell_type": "code",
   "execution_count": 73,
   "metadata": {
    "pycharm": {
     "name": "#%%\n"
    }
   },
   "outputs": [],
   "source": [
    "import matplotlib.pyplot as plt\n",
    "\n",
    "\n",
    "def plot_graphs(history, metric):\n",
    "    plt.plot(history.history[metric])\n",
    "    plt.plot(history.history['val_' + metric], '')\n",
    "    plt.xlabel(\"Epochs\")\n",
    "    plt.ylabel(metric)\n",
    "    plt.legend([metric, 'val_' + metric])"
   ]
  },
  {
   "cell_type": "code",
   "execution_count": 74,
   "metadata": {
    "pycharm": {
     "name": "#%%\n"
    }
   },
   "outputs": [],
   "source": [
    "import os\n",
    "train_dir = f\"{os.getcwd()}\\\\..\\\\data\\\\tr\"\n",
    "batch_size = 32\n",
    "time = datetime.now().strftime(\"%d-%m-%Y_%H-%M-%S\")"
   ]
  },
  {
   "cell_type": "code",
   "execution_count": 75,
   "metadata": {},
   "outputs": [],
   "source": [
    "def labeler(example, index):\n",
    "    return example, tf.cast(index, tf.int64)"
   ]
  },
  {
   "cell_type": "code",
   "execution_count": 76,
   "metadata": {},
   "outputs": [],
   "source": [
    "FILE_NAMES = ['combinedneg.txt', 'combinedneut2.txt', 'combinedpos.txt']\n",
    "labeled_data_sets = []\n",
    "# Give labels to the data, 0 for negatives, 1 for neutrals, 2 for positives.\n",
    "for i, file_name in enumerate(FILE_NAMES):\n",
    "    lines_dataset = tf.data.TextLineDataset(f\"{train_dir}\\\\{file_name}\")\n",
    "    labeled_dataset = lines_dataset.map(lambda ex: labeler(ex, i))\n",
    "    labeled_data_sets.append(labeled_dataset)"
   ]
  },
  {
   "cell_type": "code",
   "execution_count": 77,
   "metadata": {},
   "outputs": [],
   "source": [
    "BUFFER_SIZE = 50000"
   ]
  },
  {
   "cell_type": "code",
   "execution_count": 78,
   "metadata": {},
   "outputs": [],
   "source": [
    "# concatenate all labeled datasets into one and shuffle\n",
    "all_labeled_data = labeled_data_sets[0]\n",
    "for labeled_dataset in labeled_data_sets[1:]:\n",
    "    all_labeled_data = all_labeled_data.concatenate(labeled_dataset)\n",
    "all_labeled_data = all_labeled_data.shuffle(\n",
    "    BUFFER_SIZE, reshuffle_each_iteration=False)"
   ]
  },
  {
   "cell_type": "code",
   "execution_count": 79,
   "metadata": {},
   "outputs": [],
   "source": [
    "DATASET_SIZE = [i for i,_ in enumerate(all_labeled_data)][-1] + 1\n",
    "BATCH_SIZE = 32\n",
    "VALIDATION_SIZE = math.ceil(DATASET_SIZE * 0.1)\n",
    "VOCAB_SIZE = 45000"
   ]
  },
  {
   "cell_type": "code",
   "execution_count": 80,
   "metadata": {},
   "outputs": [
    {
     "name": "stdout",
     "output_type": "stream",
     "text": [
      "Labels are 0 = negative, 1 = neutral, 2 = positive.\n",
      "\n",
      "Sentence:  b'vai aukeaa ovi mukamas kumpaankin suuntaan.'\n",
      "Label: 0\n"
     ]
    }
   ],
   "source": [
    "print('Labels are 0 = negative, 1 = neutral, 2 = positive.\\n')\n",
    "for text, label in all_labeled_data.take(1):\n",
    "    print(\"Sentence: \", text.numpy())\n",
    "    print(\"Label:\", label.numpy())"
   ]
  },
  {
   "cell_type": "code",
   "execution_count": 81,
   "metadata": {},
   "outputs": [],
   "source": [
    "train_dataset = all_labeled_data.skip(VALIDATION_SIZE).shuffle(BUFFER_SIZE).batch(BATCH_SIZE).prefetch(tf.data.experimental.AUTOTUNE)\n",
    "test_dataset = all_labeled_data.take(VALIDATION_SIZE).batch(BATCH_SIZE).prefetch(tf.data.experimental.AUTOTUNE)"
   ]
  },
  {
   "cell_type": "code",
   "execution_count": 82,
   "metadata": {},
   "outputs": [
    {
     "name": "stdout",
     "output_type": "stream",
     "text": [
      "texts:  [b'suomi on muuttuva.' b'jo on harmi juttu.'\n",
      " b'l\\xc3\\xa4hde: junes lokkan tutkimukset.']\n",
      "\n",
      "labels:  [1 0 1]\n",
      "54560 ['' '[UNK]' 'on' 'ja' 'ei' 'että' 'se' 'ole' 'en' 'mutta' 'kun' 'jos'\n",
      " 'niin' 'hän' 'olen' 'mitä' 'oli' 'voi' 'nyt' 'kuin']\n",
      "[[  654     2 35659     0     0     0     0     0     0     0     0     0\n",
      "      0     0     0     0     0     0     0     0     0     0     0     0\n",
      "      0     0     0     0     0     0]\n",
      " [   33     2  1255   239     0     0     0     0     0     0     0     0\n",
      "      0     0     0     0     0     0     0     0     0     0     0     0\n",
      "      0     0     0     0     0     0]\n",
      " [  939 45329 38650  6958     0     0     0     0     0     0     0     0\n",
      "      0     0     0     0     0     0     0     0     0     0     0     0\n",
      "      0     0     0     0     0     0]]\n",
      "Original:  b'suomi on muuttuva.'\n",
      "Round-trip:  suomi on muuttuva                           \n",
      "\n",
      "Original:  b'jo on harmi juttu.'\n",
      "Round-trip:  jo on harmi juttu                          \n",
      "\n",
      "Original:  b'l\\xc3\\xa4hde: junes lokkan tutkimukset.'\n",
      "Round-trip:  lähde junes lokkan tutkimukset                          \n",
      "\n"
     ]
    }
   ],
   "source": [
    "for example, label in train_dataset.take(1):\n",
    "    print('texts: ', example.numpy()[:3])\n",
    "    print()\n",
    "    print('labels: ', label.numpy()[:3])\n",
    "encoder = TextVectorization()\n",
    "encoder.adapt(train_dataset.map(lambda text, label: text))\n",
    "vocab = np.array(encoder.get_vocabulary())\n",
    "print(len(vocab), vocab[:20])\n",
    "encoded_example = encoder(example)[:3].numpy()\n",
    "print(encoded_example)\n",
    "for n in range(3):\n",
    "    print(\"Original: \", example[n].numpy())\n",
    "    print(\"Round-trip: \", \" \".join(vocab[encoded_example[n]]))\n",
    "    print()"
   ]
  },
  {
   "cell_type": "code",
   "execution_count": 83,
   "metadata": {},
   "outputs": [],
   "source": [
    "import pickle\n",
    "with open(\"..\\\\data\\\\others\\\\vocab2.pickle\", \"wb\") as output_file:\n",
    "    pickle.dump(vocab, output_file)"
   ]
  },
  {
   "cell_type": "code",
   "execution_count": 84,
   "metadata": {},
   "outputs": [],
   "source": [
    "def create_model(num_labels):\n",
    "    model_layers = tf.keras.Sequential([\n",
    "        encoder,\n",
    "        layers.Embedding(input_dim=len(encoder.get_vocabulary()), output_dim=64, embeddings_regularizer=regularizers.l1_l2(l1=1e-5, l2=1e-4), mask_zero=False),\n",
    "        layers.Bidirectional(layers.LSTM(128, dropout=0.1, return_sequences=True)),\n",
    "        layers.Bidirectional(layers.LSTM(64, dropout=0.1)),\n",
    "        layers.Dropout(0.10),\n",
    "        layers.Dense(64, kernel_regularizer=regularizers.l1_l2(l1=1e-5, l2=1e-4), activation='relu'),\n",
    "        layers.Dropout(0.10),\n",
    "        layers.Dense(num_labels),\n",
    "        layers.Activation('softmax')])\n",
    "    return model_layers"
   ]
  },
  {
   "cell_type": "code",
   "execution_count": 85,
   "metadata": {},
   "outputs": [
    {
     "name": "stdout",
     "output_type": "stream",
     "text": [
      "Epoch 1/30\n",
      "979/979 [==============================] - 37s 30ms/step - loss: 0.9237 - accuracy: 0.5912 - val_loss: 0.8218 - val_accuracy: 0.6762\n",
      "Epoch 2/30\n",
      "979/979 [==============================] - 30s 30ms/step - loss: 0.7467 - accuracy: 0.7254 - val_loss: 0.7756 - val_accuracy: 0.7193\n",
      "Epoch 3/30\n",
      "979/979 [==============================] - 30s 30ms/step - loss: 0.5886 - accuracy: 0.8130 - val_loss: 0.7496 - val_accuracy: 0.7325\n",
      "Epoch 4/30\n",
      "979/979 [==============================] - 27s 28ms/step - loss: 0.4239 - accuracy: 0.8854 - val_loss: 0.8020 - val_accuracy: 0.7328\n",
      "Epoch 5/30\n",
      "979/979 [==============================] - 28s 28ms/step - loss: 0.3065 - accuracy: 0.9271 - val_loss: 0.9248 - val_accuracy: 0.7446\n",
      "Model: \"sequential_5\"\n",
      "_________________________________________________________________\n",
      "Layer (type)                 Output Shape              Param #   \n",
      "=================================================================\n",
      "text_vectorization_3 (TextVe (None, None)              0         \n",
      "_________________________________________________________________\n",
      "embedding_6 (Embedding)      (None, None, 64)          3491840   \n",
      "_________________________________________________________________\n",
      "bidirectional_10 (Bidirectio (None, None, 256)         197632    \n",
      "_________________________________________________________________\n",
      "bidirectional_11 (Bidirectio (None, 128)               164352    \n",
      "_________________________________________________________________\n",
      "dropout_10 (Dropout)         (None, 128)               0         \n",
      "_________________________________________________________________\n",
      "dense_10 (Dense)             (None, 64)                8256      \n",
      "_________________________________________________________________\n",
      "dropout_11 (Dropout)         (None, 64)                0         \n",
      "_________________________________________________________________\n",
      "dense_11 (Dense)             (None, 3)                 195       \n",
      "_________________________________________________________________\n",
      "activation_5 (Activation)    (None, 3)                 0         \n",
      "=================================================================\n",
      "Total params: 3,862,275\n",
      "Trainable params: 3,862,275\n",
      "Non-trainable params: 0\n",
      "_________________________________________________________________\n"
     ]
    }
   ],
   "source": [
    "model = create_model(num_labels=3)\n",
    "early_stop = callbacks.EarlyStopping(monitor='val_loss', patience=2, restore_best_weights=True)\n",
    "model.compile(\n",
    "    optimizer=optimizers.Adamax(0.005),\n",
    "    loss=losses.SparseCategoricalCrossentropy(from_logits = False),\n",
    "    metrics=['accuracy'])\n",
    "history = model.fit(train_dataset, validation_data=test_dataset, callbacks=[early_stop], epochs=30)\n",
    "model.summary()"
   ]
  },
  {
   "cell_type": "code",
   "execution_count": 86,
   "metadata": {},
   "outputs": [
    {
     "name": "stderr",
     "output_type": "stream",
     "text": [
      "WARNING:absl:Found untraced functions such as lstm_cell_56_layer_call_fn, lstm_cell_56_layer_call_and_return_conditional_losses, lstm_cell_57_layer_call_fn, lstm_cell_57_layer_call_and_return_conditional_losses, lstm_cell_59_layer_call_fn while saving (showing 5 of 20). These functions will not be directly callable after loading.\n"
     ]
    },
    {
     "name": "stdout",
     "output_type": "stream",
     "text": [
      "INFO:tensorflow:Assets written to: model/rnn_11-11-2021_12-31-13\\assets\n"
     ]
    },
    {
     "name": "stderr",
     "output_type": "stream",
     "text": [
      "INFO:tensorflow:Assets written to: model/rnn_11-11-2021_12-31-13\\assets\n"
     ]
    }
   ],
   "source": [
    "model.save(f'model/rnn_{time}')\n",
    "# model.save(f'model/rnn_{time}.h5')"
   ]
  },
  {
   "cell_type": "code",
   "execution_count": 87,
   "metadata": {
    "pycharm": {
     "name": "#%%\n"
    }
   },
   "outputs": [
    {
     "name": "stdout",
     "output_type": "stream",
     "text": [
      "109/109 [==============================] - 2s 15ms/step - loss: 0.7496 - accuracy: 0.7325\n",
      "Test Loss: 0.7495942711830139\n",
      "Test Accuracy: 0.7325481176376343\n"
     ]
    }
   ],
   "source": [
    "test_loss, test_acc = model.evaluate(test_dataset)\n",
    "print('Test Loss:', test_loss)\n",
    "print('Test Accuracy:', test_acc)"
   ]
  },
  {
   "cell_type": "code",
   "execution_count": 88,
   "metadata": {
    "pycharm": {
     "name": "#%%\n"
    }
   },
   "outputs": [
    {
     "data": {
      "image/png": "[encoded data removed]",
      "text/plain": [
       "<Figure size 1152x432 with 2 Axes>"
      ]
     },
     "metadata": {
      "needs_background": "light"
     },
     "output_type": "display_data"
    }
   ],
   "source": [
    "plt.figure(figsize=(16, 6))\n",
    "plt.subplot(1, 2, 1)\n",
    "plot_graphs(history, 'accuracy')\n",
    "plt.subplot(1, 2, 2)\n",
    "plot_graphs(history, 'loss')"
   ]
  },
  {
   "cell_type": "code",
   "execution_count": 89,
   "metadata": {},
   "outputs": [
    {
     "name": "stdout",
     "output_type": "stream",
     "text": [
      "Model: \"sequential_5\"\n",
      "_________________________________________________________________\n",
      "Layer (type)                 Output Shape              Param #   \n",
      "=================================================================\n",
      "text_vectorization_3 (TextVe (None, None)              0         \n",
      "_________________________________________________________________\n",
      "embedding_6 (Embedding)      (None, None, 64)          3491840   \n",
      "_________________________________________________________________\n",
      "bidirectional_10 (Bidirectio (None, None, 256)         197632    \n",
      "_________________________________________________________________\n",
      "bidirectional_11 (Bidirectio (None, 128)               164352    \n",
      "_________________________________________________________________\n",
      "dropout_10 (Dropout)         (None, 128)               0         \n",
      "_________________________________________________________________\n",
      "dense_10 (Dense)             (None, 64)                8256      \n",
      "_________________________________________________________________\n",
      "dropout_11 (Dropout)         (None, 64)                0         \n",
      "_________________________________________________________________\n",
      "dense_11 (Dense)             (None, 3)                 195       \n",
      "_________________________________________________________________\n",
      "activation_5 (Activation)    (None, 3)                 0         \n",
      "=================================================================\n",
      "Total params: 3,862,275\n",
      "Trainable params: 3,862,275\n",
      "Non-trainable params: 0\n",
      "_________________________________________________________________\n"
     ]
    }
   ],
   "source": [
    "modelpath = f\"model/rnn_{time}\"\n",
    "import_model = tf.keras.models.load_model(modelpath)\n",
    "import_model.summary()"
   ]
  },
  {
   "cell_type": "code",
   "execution_count": 90,
   "metadata": {},
   "outputs": [
    {
     "name": "stdout",
     "output_type": "stream",
     "text": [
      "['Miten muuten ihmiset olisivat keksineet sanoja, kuten Zeus. '\n",
      " 'No Bexiin on nyt rakennettu koko valoautomatiikka uusiksi, tosin ilmeisesti jo edellisellä omistajalla oli ollut vaikeuksia eikä autosta edes löytynyt mahdollisuutta saada pelkkiä parkkeja päälle :) '\n",
      " 'Ikävänä yllätyksenä voin paljastaa että WTC:n tapahtumien takana olikin ihmiset ei jumala. '\n",
      " 'siis tiedän että Iida hommaa kolmannen rotan ja olin huolestunut tiedoista joita Iida oli netistä saanut.ja tulos on tämä.'\n",
      " 'Seurustelen 2onnellisesti\" jo viidettä vuotta.. ']\n"
     ]
    }
   ],
   "source": [
    "n = 5\n",
    "inputs = []\n",
    "with open(f\"D:\\\\Work\\\\Data\\\\s24_2001_sentences_shuffled_slice.txt\", 'r', encoding='utf-8') as f:\n",
    "    lines = f.readlines()\n",
    "    random.shuffle(lines)\n",
    "    for line in lines:\n",
    "        inputs.append(line.strip('\\n'))\n",
    "inputs = np.array(inputs[:n])\n",
    "print(inputs[:n])"
   ]
  },
  {
   "cell_type": "code",
   "execution_count": 91,
   "metadata": {
    "pycharm": {
     "name": "#%%\n"
    }
   },
   "outputs": [
    {
     "name": "stdout",
     "output_type": "stream",
     "text": [
      "Sentence: Miten muuten ihmiset olisivat keksineet sanoja, kuten Zeus. \n",
      "Predicted label: 1\n",
      "Predicted probs: 0.03465, 0.82968, 0.13567\n",
      "\n",
      "Sentence: No Bexiin on nyt rakennettu koko valoautomatiikka uusiksi, tosin ilmeisesti jo edellisellä omistajalla oli ollut vaikeuksia eikä autosta edes löytynyt mahdollisuutta saada pelkkiä parkkeja päälle :) \n",
      "Predicted label: 2\n",
      "Predicted probs: 0.01273, 0.01014, 0.97713\n",
      "\n",
      "Sentence: Ikävänä yllätyksenä voin paljastaa että WTC:n tapahtumien takana olikin ihmiset ei jumala. \n",
      "Predicted label: 1\n",
      "Predicted probs: 0.00108, 0.88503, 0.11389\n",
      "\n",
      "Sentence: siis tiedän että Iida hommaa kolmannen rotan ja olin huolestunut tiedoista joita Iida oli netistä saanut.ja tulos on tämä.\n",
      "Predicted label: 1\n",
      "Predicted probs: 0.01878, 0.56752, 0.41370\n",
      "\n",
      "Sentence: Seurustelen 2onnellisesti\" jo viidettä vuotta.. \n",
      "Predicted label: 1\n",
      "Predicted probs: 0.31284, 0.58203, 0.10514\n",
      "\n",
      "['Miten muuten ihmiset olisivat keksineet sanoja, kuten Zeus. '\n",
      " 'No Bexiin on nyt rakennettu koko valoautomatiikka uusiksi, tosin ilmeisesti jo edellisellä omistajalla oli ollut vaikeuksia eikä autosta edes löytynyt mahdollisuutta saada pelkkiä parkkeja päälle :) '\n",
      " 'Ikävänä yllätyksenä voin paljastaa että WTC:n tapahtumien takana olikin ihmiset ei jumala. '\n",
      " 'siis tiedän että Iida hommaa kolmannen rotan ja olin huolestunut tiedoista joita Iida oli netistä saanut.ja tulos on tämä.'\n",
      " 'Seurustelen 2onnellisesti\" jo viidettä vuotta.. '] \n",
      "\n",
      " ([1, 2, 1, 1, 1], ['0.03465, 0.82968, 0.13567', '0.01273, 0.01014, 0.97713', '0.00108, 0.88503, 0.11389', '0.01878, 0.56752, 0.41370', '0.31284, 0.58203, 0.10514'])\n"
     ]
    }
   ],
   "source": [
    "def make_prediction(inps):\n",
    "    predicted_scores = import_model.predict(np.array(inps))\n",
    "    predicted_labels = tf.argmax(predicted_scores, axis=1)\n",
    "    lab, pred = '', ''\n",
    "    labs, preds = [], []\n",
    "    for i, (inp, label) in enumerate(zip(inputs, predicted_labels)):\n",
    "        pred = (', '.join(f'{q:.5f}' for q in predicted_scores[i]))\n",
    "        lab = label.numpy()\n",
    "        print(f\"Sentence: {inp}\")\n",
    "        print(f\"Predicted label: {lab}\")\n",
    "        print(f\"Predicted probs: {pred}\\n\")\n",
    "        labs.append(lab)\n",
    "        preds.append(pred)\n",
    "    return labs, preds\n",
    "\n",
    "print(np.array(inputs), '\\n\\n', make_prediction(inputs))"
   ]
  },
  {
   "cell_type": "code",
   "execution_count": null,
   "metadata": {},
   "outputs": [],
   "source": []
  }
 ],
 "metadata": {
  "interpreter": {
   "hash": "237bce5360c5e0e5354f24e75ad2e3b478652d8f89bcd8acd21afca887975b40"
  },
  "kernelspec": {
   "display_name": "Python 3.8.11 64-bit ('emodim': conda)",
   "name": "python3"
  },
  "language_info": {
   "codemirror_mode": {
    "name": "ipython",
    "version": 3
   },
   "file_extension": ".py",
   "mimetype": "text/x-python",
   "name": "python",
   "nbconvert_exporter": "python",
   "pygments_lexer": "ipython3",
   "version": "3.8.11"
  }
 },
 "nbformat": 4,
 "nbformat_minor": 4
}
