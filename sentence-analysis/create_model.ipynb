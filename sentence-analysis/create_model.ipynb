{
 "cells": [
  {
   "cell_type": "code",
   "execution_count": 1,
   "metadata": {
    "pycharm": {
     "name": "#%%\n"
    },
    "tags": []
   },
   "outputs": [],
   "source": [
    "import math\n",
    "import random\n",
    "import numpy as np\n",
    "from datetime import datetime\n",
    "import tensorflow as tf\n",
    "from tensorflow.keras import layers\n",
    "from tensorflow.keras import losses\n",
    "from tensorflow.keras import regularizers\n",
    "from tensorflow.keras import optimizers\n",
    "from tensorflow.keras import callbacks\n",
    "\n",
    "from tensorflow.keras.layers.experimental.preprocessing import TextVectorization\n",
    "import os\n",
    "# os.environ['CUDA_VISIBLE_DEVICES'] = '-1'\n",
    "config = tf.compat.v1.ConfigProto()\n",
    "tf.config.list_physical_devices('GPU')\n",
    "\n",
    "config.gpu_options.allow_growth = True\n",
    "session = tf.compat.v1.Session(config=config)"
   ]
  },
  {
   "cell_type": "code",
   "execution_count": 2,
   "metadata": {
    "pycharm": {
     "name": "#%%\n"
    }
   },
   "outputs": [],
   "source": [
    "import matplotlib.pyplot as plt\n",
    "\n",
    "\n",
    "def plot_graphs(history, metric):\n",
    "    plt.plot(history.history[metric])\n",
    "    plt.plot(history.history['val_' + metric], '')\n",
    "    plt.xlabel(\"Epochs\")\n",
    "    plt.ylabel(metric)\n",
    "    plt.legend([metric, 'val_' + metric])"
   ]
  },
  {
   "cell_type": "code",
   "execution_count": 3,
   "metadata": {
    "pycharm": {
     "name": "#%%\n"
    }
   },
   "outputs": [],
   "source": [
    "import os\n",
    "train_dir = f\"{os.getcwd()}\\\\..\\\\data\\\\tr\"\n",
    "batch_size = 32\n",
    "time = datetime.now().strftime(\"%d-%m-%Y_%H-%M-%S\")"
   ]
  },
  {
   "cell_type": "code",
   "execution_count": 4,
   "metadata": {},
   "outputs": [],
   "source": [
    "def labeler(example, index):\n",
    "    return example, tf.cast(index, tf.int64)"
   ]
  },
  {
   "cell_type": "code",
   "execution_count": 5,
   "metadata": {},
   "outputs": [],
   "source": [
    "FILE_NAMES = ['combinedneg.txt', 'combinedneut2.txt', 'combinedpos.txt']\n",
    "labeled_data_sets = []\n",
    "# Give labels to the data, 0 for negatives, 1 for neutrals, 2 for positives.\n",
    "for i, file_name in enumerate(FILE_NAMES):\n",
    "    lines_dataset = tf.data.TextLineDataset(f\"{train_dir}\\\\{file_name}\")\n",
    "    labeled_dataset = lines_dataset.map(lambda ex: labeler(ex, i))\n",
    "    labeled_data_sets.append(labeled_dataset)"
   ]
  },
  {
   "cell_type": "code",
   "execution_count": 6,
   "metadata": {},
   "outputs": [],
   "source": [
    "BUFFER_SIZE = 50000"
   ]
  },
  {
   "cell_type": "code",
   "execution_count": 7,
   "metadata": {},
   "outputs": [],
   "source": [
    "# concatenate all labeled datasets into one and shuffle\n",
    "all_labeled_data = labeled_data_sets[0]\n",
    "for labeled_dataset in labeled_data_sets[1:]:\n",
    "    all_labeled_data = all_labeled_data.concatenate(labeled_dataset)\n",
    "all_labeled_data = all_labeled_data.shuffle(\n",
    "    BUFFER_SIZE, reshuffle_each_iteration=False)"
   ]
  },
  {
   "cell_type": "code",
   "execution_count": 8,
   "metadata": {},
   "outputs": [],
   "source": [
    "DATASET_SIZE = [i for i,_ in enumerate(all_labeled_data)][-1] + 1\n",
    "BATCH_SIZE = 32\n",
    "VALIDATION_SIZE = math.ceil(DATASET_SIZE * 0.1)\n",
    "VOCAB_SIZE = 45000"
   ]
  },
  {
   "cell_type": "code",
   "execution_count": 9,
   "metadata": {},
   "outputs": [
    {
     "name": "stdout",
     "output_type": "stream",
     "text": [
      "Labels are 0 = negative, 1 = neutral, 2 = positive.\n",
      "\n",
      "Sentence:  b'kun joku antaa lahjan syd\\xc3\\xa4mest\\xc3\\xa4\\xc3\\xa4n, - kuten te annoitte minulle tupakan, muistan sen syd\\xc3\\xa4mess\\xc3\\xa4ni.'\n",
      "Label: 2\n"
     ]
    }
   ],
   "source": [
    "print('Labels are 0 = negative, 1 = neutral, 2 = positive.\\n')\n",
    "for text, label in all_labeled_data.take(1):\n",
    "    print(\"Sentence: \", text.numpy())\n",
    "    print(\"Label:\", label.numpy())"
   ]
  },
  {
   "cell_type": "code",
   "execution_count": 10,
   "metadata": {},
   "outputs": [],
   "source": [
    "train_dataset = all_labeled_data.skip(VALIDATION_SIZE).shuffle(BUFFER_SIZE).batch(BATCH_SIZE).prefetch(tf.data.experimental.AUTOTUNE)\n",
    "test_dataset = all_labeled_data.take(VALIDATION_SIZE).batch(BATCH_SIZE).prefetch(tf.data.experimental.AUTOTUNE)"
   ]
  },
  {
   "cell_type": "code",
   "execution_count": 11,
   "metadata": {},
   "outputs": [
    {
     "name": "stdout",
     "output_type": "stream",
     "text": [
      "texts:  [b'jutut luistaa ihan hyvin, mutta muistan kyll\\xc3\\xa4 pari syv\\xc3\\xa4\\xc3\\xa4 haukotusta. :d'\n",
      " b'kun sitten huomattiin , ett\\xc3\\xa4 osa ihmisist\\xc3\\xa4 kuitenkin kiinnostui islamista ja k\\xc3\\xa4\\xc3\\xa4ntyi \"muslimeiksi\" pelottelusta huolimatta..'\n",
      " b'niittylahti suhmura juntit kyl\\xc3\\xa4npojat m\\xc3\\xb6kin miinat haisevat.']\n",
      "\n",
      "labels:  [2 1 0]\n",
      "51662 ['' '[UNK]' 'on' 'ja' 'ei' 'se' 'että' 'ole' 'en' 'mutta' 'kun' 'jos'\n",
      " 'niin' 'hän' 'olen' 'mitä' 'oli' 'voi' 'nyt' 'kuin']\n",
      "[[ 1241  7856    46    47     9  1587    29   288  6898 46107   231     0\n",
      "      0     0     0]\n",
      " [   10    28 45035     6   274  1614   108 40832 14833     3  7974 34061\n",
      "  30662  1324     0]\n",
      " [33270 24816 42948 38585  7634 12906  6084     0     0     0     0     0\n",
      "      0     0     0]]\n",
      "Original:  b'jutut luistaa ihan hyvin, mutta muistan kyll\\xc3\\xa4 pari syv\\xc3\\xa4\\xc3\\xa4 haukotusta. :d'\n",
      "Round-trip:  jutut luistaa ihan hyvin mutta muistan kyllä pari syvää haukotusta d    \n",
      "\n",
      "Original:  b'kun sitten huomattiin , ett\\xc3\\xa4 osa ihmisist\\xc3\\xa4 kuitenkin kiinnostui islamista ja k\\xc3\\xa4\\xc3\\xa4ntyi \"muslimeiksi\" pelottelusta huolimatta..'\n",
      "Round-trip:  kun sitten huomattiin että osa ihmisistä kuitenkin kiinnostui islamista ja kääntyi muslimeiksi pelottelusta huolimatta \n",
      "\n",
      "Original:  b'niittylahti suhmura juntit kyl\\xc3\\xa4npojat m\\xc3\\xb6kin miinat haisevat.'\n",
      "Round-trip:  niittylahti suhmura juntit kylänpojat mökin miinat haisevat        \n",
      "\n"
     ]
    }
   ],
   "source": [
    "for example, label in train_dataset.take(1):\n",
    "    print('texts: ', example.numpy()[:3])\n",
    "    print()\n",
    "    print('labels: ', label.numpy()[:3])\n",
    "encoder = TextVectorization()\n",
    "encoder.adapt(train_dataset.map(lambda text, label: text))\n",
    "vocab = np.array(encoder.get_vocabulary())\n",
    "print(len(vocab), vocab[:20])\n",
    "encoded_example = encoder(example)[:3].numpy()\n",
    "print(encoded_example)\n",
    "for n in range(3):\n",
    "    print(\"Original: \", example[n].numpy())\n",
    "    print(\"Round-trip: \", \" \".join(vocab[encoded_example[n]]))\n",
    "    print()"
   ]
  },
  {
   "cell_type": "code",
   "execution_count": 12,
   "metadata": {},
   "outputs": [],
   "source": [
    "import pickle\n",
    "with open(\"..\\\\data\\\\others\\\\vocab2.pickle\", \"wb\") as output_file:\n",
    "    pickle.dump(vocab, output_file)"
   ]
  },
  {
   "cell_type": "code",
   "execution_count": 13,
   "metadata": {},
   "outputs": [],
   "source": [
    "def create_model(num_labels):\n",
    "    model_layers = tf.keras.Sequential([\n",
    "        encoder,\n",
    "        layers.Embedding(input_dim=len(encoder.get_vocabulary()), output_dim=32, embeddings_regularizer=regularizers.l1_l2(l1=1e-5, l2=1e-4), mask_zero=False),\n",
    "        layers.Bidirectional(layers.LSTM(128, dropout=0.1, return_sequences=True)),\n",
    "        layers.Bidirectional(layers.LSTM(64, dropout=0.1)),\n",
    "        layers.Dropout(0.10),\n",
    "        layers.Dense(64, kernel_regularizer=regularizers.l1_l2(l1=1e-5, l2=1e-4), activation='relu'),\n",
    "        layers.Dropout(0.10),\n",
    "        layers.Dense(num_labels),\n",
    "        layers.Activation('softmax')])\n",
    "    return model_layers"
   ]
  },
  {
   "cell_type": "code",
   "execution_count": 14,
   "metadata": {},
   "outputs": [
    {
     "name": "stdout",
     "output_type": "stream",
     "text": [
      "Epoch 1/10\n",
      "961/961 [==============================] - 50s 23ms/step - loss: 0.9218 - accuracy: 0.5744 - val_loss: 0.8699 - val_accuracy: 0.6204\n",
      "Epoch 2/10\n",
      "961/961 [==============================] - 18s 19ms/step - loss: 0.7495 - accuracy: 0.7056 - val_loss: 0.7934 - val_accuracy: 0.6834\n",
      "Epoch 3/10\n",
      "961/961 [==============================] - 19s 20ms/step - loss: 0.5845 - accuracy: 0.8047 - val_loss: 0.7956 - val_accuracy: 0.7062\n",
      "Model: \"sequential\"\n",
      "_________________________________________________________________\n",
      " Layer (type)                Output Shape              Param #   \n",
      "=================================================================\n",
      " text_vectorization (TextVec  (None, None)             0         \n",
      " torization)                                                     \n",
      "                                                                 \n",
      " embedding (Embedding)       (None, None, 32)          1653184   \n",
      "                                                                 \n",
      " bidirectional (Bidirectiona  (None, None, 256)        164864    \n",
      " l)                                                              \n",
      "                                                                 \n",
      " bidirectional_1 (Bidirectio  (None, 128)              164352    \n",
      " nal)                                                            \n",
      "                                                                 \n",
      " dropout (Dropout)           (None, 128)               0         \n",
      "                                                                 \n",
      " dense (Dense)               (None, 64)                8256      \n",
      "                                                                 \n",
      " dropout_1 (Dropout)         (None, 64)                0         \n",
      "                                                                 \n",
      " dense_1 (Dense)             (None, 3)                 195       \n",
      "                                                                 \n",
      " activation (Activation)     (None, 3)                 0         \n",
      "                                                                 \n",
      "=================================================================\n",
      "Total params: 1,990,851\n",
      "Trainable params: 1,990,851\n",
      "Non-trainable params: 0\n",
      "_________________________________________________________________\n"
     ]
    }
   ],
   "source": [
    "model = create_model(num_labels=3)\n",
    "early_stop = callbacks.EarlyStopping(monitor='val_loss', patience=1)\n",
    "model.compile(\n",
    "    optimizer=optimizers.Adamax(0.005),\n",
    "    loss=losses.SparseCategoricalCrossentropy(from_logits = False),\n",
    "    metrics=['accuracy'])\n",
    "history = model.fit(train_dataset, validation_data=test_dataset, callbacks=[early_stop], epochs=10)\n",
    "model.summary()"
   ]
  },
  {
   "cell_type": "code",
   "execution_count": 15,
   "metadata": {},
   "outputs": [
    {
     "name": "stderr",
     "output_type": "stream",
     "text": [
      "WARNING:absl:Found untraced functions such as lstm_cell_1_layer_call_fn, lstm_cell_1_layer_call_and_return_conditional_losses, lstm_cell_2_layer_call_fn, lstm_cell_2_layer_call_and_return_conditional_losses, lstm_cell_4_layer_call_fn while saving (showing 5 of 8). These functions will not be directly callable after loading.\n"
     ]
    },
    {
     "name": "stdout",
     "output_type": "stream",
     "text": [
      "INFO:tensorflow:Assets written to: E:\\Emodim\\data\\others\\rnn_10-06-2022_10-09-51\\assets\n"
     ]
    },
    {
     "name": "stderr",
     "output_type": "stream",
     "text": [
      "INFO:tensorflow:Assets written to: E:\\Emodim\\data\\others\\rnn_10-06-2022_10-09-51\\assets\n"
     ]
    }
   ],
   "source": [
    "model.save(f'E:\\Emodim\\data\\others\\\\rnn_{time}')\n",
    "# model.save(f'model/rnn_{time}.h5')"
   ]
  },
  {
   "cell_type": "code",
   "execution_count": 16,
   "metadata": {
    "pycharm": {
     "name": "#%%\n"
    }
   },
   "outputs": [
    {
     "name": "stdout",
     "output_type": "stream",
     "text": [
      "107/107 [==============================] - 1s 8ms/step - loss: 0.7956 - accuracy: 0.7062\n",
      "Test Loss: 0.7956179976463318\n",
      "Test Accuracy: 0.7062097191810608\n"
     ]
    }
   ],
   "source": [
    "test_loss, test_acc = model.evaluate(test_dataset)\n",
    "print('Test Loss:', test_loss)\n",
    "print('Test Accuracy:', test_acc)"
   ]
  },
  {
   "cell_type": "code",
   "execution_count": 17,
   "metadata": {
    "pycharm": {
     "name": "#%%\n"
    }
   },
   "outputs": [
    {
     "data": {
      "image/png": "[encoded data removed]",
      "text/plain": [
       "<Figure size 1152x432 with 2 Axes>"
      ]
     },
     "metadata": {
      "needs_background": "light"
     },
     "output_type": "display_data"
    }
   ],
   "source": [
    "plt.figure(figsize=(16, 6))\n",
    "plt.subplot(1, 2, 1)\n",
    "plot_graphs(history, 'accuracy')\n",
    "plt.subplot(1, 2, 2)\n",
    "plot_graphs(history, 'loss')"
   ]
  },
  {
   "cell_type": "code",
   "execution_count": 18,
   "metadata": {},
   "outputs": [
    {
     "name": "stdout",
     "output_type": "stream",
     "text": [
      "Model: \"sequential\"\n",
      "_________________________________________________________________\n",
      " Layer (type)                Output Shape              Param #   \n",
      "=================================================================\n",
      " text_vectorization (TextVec  (None, None)             0         \n",
      " torization)                                                     \n",
      "                                                                 \n",
      " embedding (Embedding)       (None, None, 32)          1653184   \n",
      "                                                                 \n",
      " bidirectional (Bidirectiona  (None, None, 256)        164864    \n",
      " l)                                                              \n",
      "                                                                 \n",
      " bidirectional_1 (Bidirectio  (None, 128)              164352    \n",
      " nal)                                                            \n",
      "                                                                 \n",
      " dropout (Dropout)           (None, 128)               0         \n",
      "                                                                 \n",
      " dense (Dense)               (None, 64)                8256      \n",
      "                                                                 \n",
      " dropout_1 (Dropout)         (None, 64)                0         \n",
      "                                                                 \n",
      " dense_1 (Dense)             (None, 3)                 195       \n",
      "                                                                 \n",
      " activation (Activation)     (None, 3)                 0         \n",
      "                                                                 \n",
      "=================================================================\n",
      "Total params: 1,990,851\n",
      "Trainable params: 1,990,851\n",
      "Non-trainable params: 0\n",
      "_________________________________________________________________\n"
     ]
    }
   ],
   "source": [
    "modelpath = f\"E:\\Emodim\\data\\others\\\\rnn_{time}\"\n",
    "import_model = tf.keras.models.load_model(modelpath)\n",
    "import_model.summary()"
   ]
  },
  {
   "cell_type": "code",
   "execution_count": 19,
   "metadata": {},
   "outputs": [
    {
     "name": "stdout",
     "output_type": "stream",
     "text": [
      "['Autot katsastukseen puolen vuoden välein .... ' 'Kuinka vaan. '\n",
      " 'Mutta oikeastaan en ihmettelle tätä lainkaan sillä tämähän on kuiva ja karu Suomi jossa mies ei puhu eikä pussa ja jos tekee molempia ja on hyvä jobi niin on seksuaalinenahdistelija!!!!! '\n",
      " 'taidanpa sen joskus tässä hankkiakin ja lueskella läpi.. '\n",
      " 'Poliisillakin on resurssipula, joten ne ei jouda tutkaamaan joka nurkalla. ']\n"
     ]
    }
   ],
   "source": [
    "n = 5\n",
    "inputs = []\n",
    "with open(f\"D:\\\\Work\\\\Data\\\\s24_2001_sentences_shuffled_slice.txt\", 'r', encoding='utf-8') as f:\n",
    "    lines = f.readlines()\n",
    "    random.shuffle(lines)\n",
    "    for line in lines:\n",
    "        inputs.append(line.strip('\\n'))\n",
    "inputs = np.array(inputs[:n])\n",
    "print(inputs[:n])"
   ]
  },
  {
   "cell_type": "code",
   "execution_count": 20,
   "metadata": {
    "pycharm": {
     "name": "#%%\n"
    }
   },
   "outputs": [
    {
     "name": "stdout",
     "output_type": "stream",
     "text": [
      "1/1 [==============================] - 3s 3s/step\n",
      "Sentence: Autot katsastukseen puolen vuoden välein .... \n",
      "Predicted label: 0\n",
      "Predicted probs: 0.91631, 0.03278, 0.05091\n",
      "\n",
      "Sentence: Kuinka vaan. \n",
      "Predicted label: 1\n",
      "Predicted probs: 0.29285, 0.65022, 0.05693\n",
      "\n",
      "Sentence: Mutta oikeastaan en ihmettelle tätä lainkaan sillä tämähän on kuiva ja karu Suomi jossa mies ei puhu eikä pussa ja jos tekee molempia ja on hyvä jobi niin on seksuaalinenahdistelija!!!!! \n",
      "Predicted label: 1\n",
      "Predicted probs: 0.00076, 0.97582, 0.02343\n",
      "\n",
      "Sentence: taidanpa sen joskus tässä hankkiakin ja lueskella läpi.. \n",
      "Predicted label: 1\n",
      "Predicted probs: 0.06226, 0.72905, 0.20869\n",
      "\n",
      "Sentence: Poliisillakin on resurssipula, joten ne ei jouda tutkaamaan joka nurkalla. \n",
      "Predicted label: 1\n",
      "Predicted probs: 0.00808, 0.96011, 0.03182\n",
      "\n",
      "['Autot katsastukseen puolen vuoden välein .... ' 'Kuinka vaan. '\n",
      " 'Mutta oikeastaan en ihmettelle tätä lainkaan sillä tämähän on kuiva ja karu Suomi jossa mies ei puhu eikä pussa ja jos tekee molempia ja on hyvä jobi niin on seksuaalinenahdistelija!!!!! '\n",
      " 'taidanpa sen joskus tässä hankkiakin ja lueskella läpi.. '\n",
      " 'Poliisillakin on resurssipula, joten ne ei jouda tutkaamaan joka nurkalla. '] \n",
      "\n",
      " ([0, 1, 1, 1, 1], ['0.91631, 0.03278, 0.05091', '0.29285, 0.65022, 0.05693', '0.00076, 0.97582, 0.02343', '0.06226, 0.72905, 0.20869', '0.00808, 0.96011, 0.03182'])\n"
     ]
    }
   ],
   "source": [
    "def make_prediction(inps):\n",
    "    predicted_scores = import_model.predict(np.array(inps))\n",
    "    predicted_labels = tf.argmax(predicted_scores, axis=1)\n",
    "    lab, pred = '', ''\n",
    "    labs, preds = [], []\n",
    "    for i, (inp, label) in enumerate(zip(inputs, predicted_labels)):\n",
    "        pred = (', '.join(f'{q:.5f}' for q in predicted_scores[i]))\n",
    "        lab = label.numpy()\n",
    "        print(f\"Sentence: {inp}\")\n",
    "        print(f\"Predicted label: {lab}\")\n",
    "        print(f\"Predicted probs: {pred}\\n\")\n",
    "        labs.append(lab)\n",
    "        preds.append(pred)\n",
    "    return labs, preds\n",
    "\n",
    "print(np.array(inputs), '\\n\\n', make_prediction(inputs))"
   ]
  },
  {
   "cell_type": "code",
   "execution_count": null,
   "metadata": {},
   "outputs": [],
   "source": []
  }
 ],
 "metadata": {
  "kernelspec": {
   "display_name": "Python 3.9.12 ('tf')",
   "language": "python",
   "name": "python3"
  },
  "language_info": {
   "codemirror_mode": {
    "name": "ipython",
    "version": 3
   },
   "file_extension": ".py",
   "mimetype": "text/x-python",
   "name": "python",
   "nbconvert_exporter": "python",
   "pygments_lexer": "ipython3",
   "version": "3.9.12"
  },
  "vscode": {
   "interpreter": {
    "hash": "fa1760e15039adba96fddd4c20245735a9bd2c351c052d58b4313707110727e9"
   }
  }
 },
 "nbformat": 4,
 "nbformat_minor": 4
}
