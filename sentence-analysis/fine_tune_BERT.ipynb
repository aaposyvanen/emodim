{
  "cells": [
    {
      "cell_type": "markdown",
      "metadata": {
        "id": "view-in-github",
        "colab_type": "text"
      },
      "source": [
        "<a href=\"https://colab.research.google.com/github/aaposyvanen/emodim/blob/master/sentence-analysis/fine_tune_BERT.ipynb\" target=\"_parent\"><img src=\"https://colab.research.google.com/assets/colab-badge.svg\" alt=\"Open In Colab\"/></a>"
      ]
    },
    {
      "cell_type": "markdown",
      "source": [
        "# Load FinBERT from huggingface"
      ],
      "metadata": {
        "id": "TSXdLr6gj5U3"
      }
    },
    {
      "cell_type": "code",
      "execution_count": null,
      "metadata": {
        "id": "VRjEcexbcXev"
      },
      "outputs": [],
      "source": [
        "!pip install transformers\n",
        "\n",
        "from transformers import AutoTokenizer, TFAutoModel\n",
        "import tensorflow as tf\n",
        "import numpy as np\n",
        "device_name = tf.test.gpu_device_name()\n",
        "print(f\"Device name: {device_name}\")\n",
        "tokenizer = AutoTokenizer.from_pretrained(\"TurkuNLP/bert-base-finnish-cased-v1\", cache_dir=\"finBERT/\")\n",
        "model = TFAutoModel.from_pretrained(\"TurkuNLP/bert-base-finnish-cased-v1\", cache_dir=\"finBERT/\")\n",
        "# model.summary()"
      ]
    },
    {
      "cell_type": "markdown",
      "source": [
        "# Download trainingdata"
      ],
      "metadata": {
        "id": "P4qeRpg_dc0s"
      }
    },
    {
      "cell_type": "code",
      "source": [
        "import requests\n",
        "file_names = ['combinedneg.txt', 'combinedneut2.txt', 'combinedpos.txt']\n",
        "sentences = []\n",
        "labels = []\n",
        "for i, file in enumerate(file_names):\n",
        "  r = requests.get(f\"https://raw.githubusercontent.com/aaposyvanen/emodim/master/data/tr/{file}\")\n",
        "  sentences.extend(r.text.split('\\n'))\n",
        "  labels.extend([i]*len(r.text.split('\\n')))\n",
        "np.array(sentences)"
      ],
      "metadata": {
        "colab": {
          "base_uri": "https://localhost:8080/"
        },
        "id": "BEpGx9eze8M2",
        "outputId": "09b5756b-23b2-4200-8284-8da07785907f"
      },
      "execution_count": 88,
      "outputs": [
        {
          "output_type": "execute_result",
          "data": {
            "text/plain": [
              "34140"
            ]
          },
          "metadata": {},
          "execution_count": 88
        }
      ]
    },
    {
      "cell_type": "code",
      "source": [
        "print(' Original: ', sentences[0])\n",
        "# Print the sentence split into tokens.\n",
        "print('Tokenized: ', tokenizer.tokenize(sentences[0]))\n",
        "print('Token IDs: ', tokenizer.convert_tokens_to_ids(tokenizer.tokenize(sentences[0])))"
      ],
      "metadata": {
        "colab": {
          "base_uri": "https://localhost:8080/"
        },
        "id": "Q67w_uBNv7PH",
        "outputId": "5b429843-8361-401b-8596-29add673423c"
      },
      "execution_count": 89,
      "outputs": [
        {
          "output_type": "stream",
          "name": "stdout",
          "text": [
            " Original:  ei mitään muttia.\n",
            "Tokenized:  ['ei', 'mitään', 'mut', '##tia', '.']\n",
            "Token IDs:  [193, 642, 1851, 570, 111]\n"
          ]
        }
      ]
    },
    {
      "cell_type": "code",
      "source": [
        "max_len = 0\n",
        "for sent in sentences:\n",
        "    # Tokenize the text and add `[CLS]` and `[SEP]` tokens.\n",
        "    input_ids = tokenizer.encode(sent, add_special_tokens=True)\n",
        "    # Update the maximum sentence length.\n",
        "    max_len = max(max_len, len(input_ids))\n",
        "\n",
        "print('Max sentence length: ', max_len)"
      ],
      "metadata": {
        "colab": {
          "base_uri": "https://localhost:8080/"
        },
        "id": "hUNWr2yu84tc",
        "outputId": "7a4f69a2-8b35-4317-a31b-9f387514cd78"
      },
      "execution_count": 91,
      "outputs": [
        {
          "output_type": "stream",
          "name": "stdout",
          "text": [
            "Max sentence length:  87\n"
          ]
        }
      ]
    },
    {
      "cell_type": "code",
      "source": [
        "# Tokenize all of the sentences and map the tokens to their word IDs.\n",
        "input_ids = []\n",
        "attention_masks = []\n",
        "\n",
        "for sent in sentences:\n",
        "    encoded_dict = tokenizer.encode_plus(\n",
        "      sent,                         # Sentence to encode.\n",
        "      add_special_tokens = True,    # Add '[CLS]' and '[SEP]'\n",
        "      max_length = max_len,         # Pad & truncate all sentences.\n",
        "      pad_to_max_length = True,\n",
        "      return_attention_mask = True, # Construct attn. masks.\n",
        "      return_tensors = 'tf'         # Return tensorflow tensors.\n",
        "      )\n",
        "    # Add the encoded sentence to the list.    \n",
        "    input_ids.append(encoded_dict['input_ids'])\n",
        "    # And its attention mask (simply differentiates padding from non-padding).\n",
        "    attention_masks.append(encoded_dict['attention_mask'])\n",
        "# Print sentence 0, now as a list of IDs.\n",
        "print('Original: ', sentences[0])\n",
        "print('Token IDs:', input_ids[0])"
      ],
      "metadata": {
        "colab": {
          "base_uri": "https://localhost:8080/"
        },
        "id": "NJmeGFrY9IEZ",
        "outputId": "c31c2c04-030d-4c81-8a85-cd5c90ecee0a"
      },
      "execution_count": 92,
      "outputs": [
        {
          "output_type": "stream",
          "name": "stderr",
          "text": [
            "Truncation was not explicitly activated but `max_length` is provided a specific value, please use `truncation=True` to explicitly truncate examples to max length. Defaulting to 'longest_first' truncation strategy. If you encode pairs of sequences (GLUE-style) with the tokenizer you can select this strategy more precisely by providing a specific strategy to `truncation`.\n",
            "/usr/local/lib/python3.7/dist-packages/transformers/tokenization_utils_base.py:2291: FutureWarning: The `pad_to_max_length` argument is deprecated and will be removed in a future version, use `padding=True` or `padding='longest'` to pad to the longest sequence in the batch, or use `padding='max_length'` to pad to a max length. In this case, you can give a specific length with `max_length` (e.g. `max_length=45`) or leave max_length to None to pad to the maximal input size of the model (e.g. 512 for Bert).\n",
            "  FutureWarning,\n"
          ]
        },
        {
          "output_type": "stream",
          "name": "stdout",
          "text": [
            "Original:  ei mitään muttia.\n",
            "Token IDs: tf.Tensor(\n",
            "[[ 102  193  642 1851  570  111  103    0    0    0    0    0    0    0\n",
            "     0    0    0    0    0    0    0    0    0    0    0    0    0    0\n",
            "     0    0    0    0    0    0    0    0    0    0    0    0    0    0\n",
            "     0    0    0    0    0    0    0    0    0    0    0    0    0    0\n",
            "     0    0    0    0    0    0    0    0    0    0    0    0    0    0\n",
            "     0    0    0    0    0    0    0    0    0    0    0    0    0    0\n",
            "     0    0    0]], shape=(1, 87), dtype=int32)\n"
          ]
        }
      ]
    },
    {
      "cell_type": "code",
      "source": [
        "def create_model(num_labels):\n",
        "    model_layers = tf.keras.Sequential([\n",
        "        encoder,\n",
        "        tf.keras.layers.Embedding(input_dim=len(encoder.get_vocabulary()), output_dim=32, embeddings_regularizer=tf.keras.regularizers.l1_l2(l1=1e-5, l2=1e-4), mask_zero=False),\n",
        "        tf.keras.layers.Bidirectional(tf.keras.layers.LSTM(128, dropout=0.1, return_sequences=True)),\n",
        "        tf.keras.layers.Bidirectional(tf.keras.layers.LSTM(64, dropout=0.1)),\n",
        "        tf.keras.layers.Dropout(0.10),\n",
        "        tf.keras.layers.Dense(64, kernel_regularizer=tf.keras.regularizers.l1_l2(l1=1e-5, l2=1e-4), activation='relu'),\n",
        "        tf.keras.layers.Dropout(0.10),\n",
        "        tf.keras.layers.Dense(num_labels),\n",
        "        tf.keras.layers.Activation('softmax')])\n",
        "    return model_layers"
      ],
      "metadata": {
        "id": "xzH6NCh7n2Li"
      },
      "execution_count": null,
      "outputs": []
    },
    {
      "cell_type": "code",
      "source": [
        "fine_tuning_model = create_model(num_labels=3)\n",
        "early_stop = tf.keras.callbacks.EarlyStopping(monitor='val_loss', patience=1)\n",
        "fine_tuning_model.compile(\n",
        "    optimizer=tf.keras.optimizers.Adamax(0.005),\n",
        "    loss=tf.keras.losses.SparseCategoricalCrossentropy(from_logits = False),\n",
        "    metrics=['accuracy'])\n",
        "history = model.fit(train_dataset, validation_data=test_dataset, callbacks=[early_stop], epochs=30)\n",
        "fine_tuning_model.summary()"
      ],
      "metadata": {
        "id": "t2fojjEQn7OI"
      },
      "execution_count": null,
      "outputs": []
    }
  ],
  "metadata": {
    "interpreter": {
      "hash": "6921ad156b59c3e3257790aa2ba9a1e99af3719b2ff9f98241a5afac940b227d"
    },
    "kernelspec": {
      "display_name": "Python 3.8.11 ('emodim')",
      "language": "python",
      "name": "python3"
    },
    "language_info": {
      "codemirror_mode": {
        "name": "ipython",
        "version": 3
      },
      "file_extension": ".py",
      "mimetype": "text/x-python",
      "name": "python",
      "nbconvert_exporter": "python",
      "pygments_lexer": "ipython3",
      "version": "3.8.11"
    },
    "orig_nbformat": 4,
    "colab": {
      "name": "fine-tune_BERT.ipynb",
      "provenance": [],
      "collapsed_sections": [],
      "include_colab_link": true
    },
    "accelerator": "GPU"
  },
  "nbformat": 4,
  "nbformat_minor": 0
}